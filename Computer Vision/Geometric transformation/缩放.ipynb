{
 "cells": [
  {
   "cell_type": "code",
   "execution_count": null,
   "metadata": {},
   "outputs": [],
   "source": [
    "# Load  Information Resize Check\n",
    "import cv2\n",
    "img = cv2.imread('image0.JPG',1)\n",
    "imgInfo = img.shape\n",
    "print(imgInfo)\n",
    "height =  imgInfo[0]\n",
    "width = imgInfo[1]\n",
    "mode = imgInfo[2]\n",
    "#放大  缩小  等比例 非等比例"
   ]
  },
  {
   "cell_type": "code",
   "execution_count": null,
   "metadata": {},
   "outputs": [],
   "source": [
    "desHeight = int(height/2)\n",
    "desWidth = int(width/2)\n",
    "des =  cv2.resize(img,(desWidth,desHeight))\n",
    "cv2.imshow('image',des)\n",
    "cv2.waitKey(0)"
   ]
  },
  {
   "cell_type": "code",
   "execution_count": null,
   "metadata": {},
   "outputs": [],
   "source": [
    "#最近邻域插值 双线性插值 像素关系重采样 立方插值"
   ]
  }
 ],
 "metadata": {
  "kernelspec": {
   "display_name": "Python 3",
   "language": "python",
   "name": "python3"
  },
  "language_info": {
   "codemirror_mode": {
    "name": "ipython",
    "version": 3
   },
   "file_extension": ".py",
   "mimetype": "text/x-python",
   "name": "python",
   "nbconvert_exporter": "python",
   "pygments_lexer": "ipython3",
   "version": "3.6.6"
  }
 },
 "nbformat": 4,
 "nbformat_minor": 2
}
