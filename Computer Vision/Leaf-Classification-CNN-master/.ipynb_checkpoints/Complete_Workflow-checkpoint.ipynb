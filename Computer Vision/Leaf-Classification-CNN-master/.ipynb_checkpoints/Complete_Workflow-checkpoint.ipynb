{
 "cells": [
  {
   "cell_type": "markdown",
   "metadata": {
    "colab_type": "text",
    "id": "view-in-github"
   },
   "source": [
    "[View in Colaboratory](https://colab.research.google.com/github/Mathis1993/Leaf-Classification-CNN/blob/master/Complete_Workflow.ipynb)"
   ]
  },
  {
   "cell_type": "markdown",
   "metadata": {
    "colab_type": "text",
    "id": "1HPCy6Gm4EWA"
   },
   "source": [
    "# Plant Species Classification using a CNN"
   ]
  },
  {
   "cell_type": "markdown",
   "metadata": {
    "colab_type": "text",
    "id": "oVbjJGpHmi0K"
   },
   "source": [
    "<img src=\"http://drive.google.com/uc?export=view&id=1JyQxgUQk_K4v3LGdeFJlBMABN-WKJt6b\">"
   ]
  },
  {
   "cell_type": "markdown",
   "metadata": {
    "colab_type": "text",
    "id": "ITK-kWQGR0bg"
   },
   "source": [
    "## Introduction"
   ]
  },
  {
   "cell_type": "markdown",
   "metadata": {
    "colab_type": "text",
    "id": "jI9NdgAC4EWF"
   },
   "source": [
    "In the course of learning about AI at [TechLabs](https://tech-labs.de/), we realized a small project to classify plant species using a Convolutional Neural Network (CNN).\n",
    "\n",
    "In 2012, Neeraj Kumar et al. developed [Leafsnap: A Computer Vision System for Automatic Plant Species Identification](https://neerajkumar.org/base/papers/nk_eccv2012_leafsnap.pdf), a mobile app that identifies all 185 tree species in the Northeastern United States using pictures of their leaves. The classification process is based on a computer vision sytem. This system segments the leaf from its background, extracts curvature features of the leaf's contour and classifies it against a dataset containing examples of all the 185 tree species. With this procedure, a top-1 score of about 72% is achieved (meaning that in 72% of cases, the tree species class the computer vision systems assigns the highest probability to is the correct one). \n",
    "\n",
    "Examples of 180 of the 185 different plant species can be examined in the image above.\n",
    "\n",
    "Using this same dataset, that the authors of the paper make available [here](leafsnap.com/dataset/), we asked ourselves if we could possibly beat the traditional computer vision system's performance by implementing the classification task via a CNN. To maximize our learning success, we did not use a pretrained CNN, but built our own network architecture.\n",
    "\n",
    "In this post, we want to give a full overview of all the steps we took to train our CNN to classify Northeastern American tree species.\n",
    "\n",
    "Due to limited computational resources on our private hardware, we used [Google Colaboratory](https://colab.research.google.com/notebooks/welcome.ipynb), Google's free cloud service for developing deep Iearning applications on a GPU. We will show the necessary steps for getting ready to work, a detailed tutorial is available on [medium](https://medium.com/deep-learning-turkey/google-colab-free-gpu-tutorial-e113627b9f5d)."
   ]
  },
  {
   "cell_type": "markdown",
   "metadata": {
    "colab_type": "text",
    "id": "R99hBGehRuu4"
   },
   "source": [
    "## Google Colaboratory"
   ]
  },
  {
   "cell_type": "markdown",
   "metadata": {
    "colab_type": "text",
    "id": "M5ZXvoKTTnON"
   },
   "source": [
    "In order to use Google Colaboratory, we worked in a IPython Notebook located in a Google Drive storage. \n",
    "\n",
    "**Important**: To use the free GPU, go to \"Edit-->Notebook Settings\" and select \"GPU\" as hardware accelerator. \n",
    "\n",
    "Once connected, Drive can be mounted to Google Colab so that files stored in Drive will be available using the code snippet below."
   ]
  },
  {
   "cell_type": "code",
   "execution_count": 1,
   "metadata": {
    "colab": {
     "base_uri": "https://localhost:8080/",
     "height": 124
    },
    "colab_type": "code",
    "id": "EzvucxyW4xWb",
    "outputId": "37c8887f-9496-4539-82c3-c1ddfd5fb4c1"
   },
   "outputs": [
    {
     "name": "stdout",
     "output_type": "stream",
     "text": [
      "Go to this URL in a browser: https://accounts.google.com/o/oauth2/auth?client_id=947318989803-6bn6qk8qdgf4n4g3pfee6491hc0brc4i.apps.googleusercontent.com&redirect_uri=urn%3Aietf%3Awg%3Aoauth%3A2.0%3Aoob&scope=email%20https%3A%2F%2Fwww.googleapis.com%2Fauth%2Fdocs.test%20https%3A%2F%2Fwww.googleapis.com%2Fauth%2Fdrive%20https%3A%2F%2Fwww.googleapis.com%2Fauth%2Fdrive.photos.readonly%20https%3A%2F%2Fwww.googleapis.com%2Fauth%2Fpeopleapi.readonly&response_type=code\n",
      "\n",
      "Enter your authorization code:\n",
      "··········\n",
      "Mounted at /content/drive\n"
     ]
    }
   ],
   "source": [
    "from google.colab import drive\n",
    "drive.mount('/content/drive')"
   ]
  },
  {
   "cell_type": "markdown",
   "metadata": {
    "colab_type": "text",
    "id": "mIOcKZ7BT6iv"
   },
   "source": [
    "Then, we can navigate to the desired directory..."
   ]
  },
  {
   "cell_type": "code",
   "execution_count": 2,
   "metadata": {
    "colab": {
     "base_uri": "https://localhost:8080/",
     "height": 35
    },
    "colab_type": "code",
    "id": "pBJUSjVT4ysL",
    "outputId": "1bcbc807-efc1-47d8-a83a-1c35d8d6d9c8"
   },
   "outputs": [
    {
     "name": "stdout",
     "output_type": "stream",
     "text": [
      "/content/drive/My Drive/Colab Notebooks/CNN-Model-files\n"
     ]
    }
   ],
   "source": [
    "%cd /content/drive/My Drive/Colab Notebooks/CNN-Model-files"
   ]
  },
  {
   "cell_type": "markdown",
   "metadata": {
    "colab_type": "text",
    "id": "6E-GugQiS6PE"
   },
   "source": [
    "... and start working."
   ]
  },
  {
   "cell_type": "markdown",
   "metadata": {
    "colab_type": "text",
    "id": "dt8soZ4z4EWI"
   },
   "source": [
    "## Preprocessing"
   ]
  },
  {
   "cell_type": "markdown",
   "metadata": {
    "colab_type": "text",
    "id": "fboX9qegCPkd"
   },
   "source": [
    "Consisting of the following steps:\n",
    "1. Import packages\n",
    "2. Read data frame with information about pictures\n",
    "3. Create numeric labels\n",
    "4. Resize Pictures \n",
    "6. Read pictures as RGB arrays\n",
    "7. Randomize picture order\n",
    "8. Stack picture input into one array\n",
    "9. Normalize input features (pictures) and one-hot encode labels\n",
    "9. Save input features, labels and further info"
   ]
  },
  {
   "cell_type": "markdown",
   "metadata": {
    "colab_type": "text",
    "id": "nyzibeCIUyCH"
   },
   "source": [
    "### 1. Import packages"
   ]
  },
  {
   "cell_type": "markdown",
   "metadata": {
    "colab_type": "text",
    "id": "37OIHSaA4EWM"
   },
   "source": [
    "As a first step, we import the packages necessary for preprocessing the data. "
   ]
  },
  {
   "cell_type": "markdown",
   "metadata": {
    "colab_type": "text",
    "id": "BvPfIomEhY0H"
   },
   "source": [
    "If a package needs to be installed, do:"
   ]
  },
  {
   "cell_type": "code",
   "execution_count": 0,
   "metadata": {
    "colab": {},
    "colab_type": "code",
    "id": "QtpR-C8Jrt58"
   },
   "outputs": [],
   "source": [
    "!pip install imageio"
   ]
  },
  {
   "cell_type": "code",
   "execution_count": 6,
   "metadata": {
    "colab": {
     "base_uri": "https://localhost:8080/",
     "height": 35
    },
    "colab_type": "code",
    "id": "sC23UEBw4EWO",
    "outputId": "06904700-d645-4c3a-f8fd-dfc9408bc450"
   },
   "outputs": [
    {
     "name": "stderr",
     "output_type": "stream",
     "text": [
      "Using TensorFlow backend.\n"
     ]
    }
   ],
   "source": [
    "import os\n",
    "import PIL\n",
    "import imageio\n",
    "import pandas as pd\n",
    "import numpy as np\n",
    "import random\n",
    "import math\n",
    "import keras"
   ]
  },
  {
   "cell_type": "markdown",
   "metadata": {
    "colab_type": "text",
    "id": "O1UbVqVHU5Wo"
   },
   "source": [
    "### 2. Read data frame with information about pictures"
   ]
  },
  {
   "cell_type": "markdown",
   "metadata": {
    "colab_type": "text",
    "id": "9zp6wtyj_kYC"
   },
   "source": [
    "In the dataset, there is a data frame containing information about the pictures. Relevant for us are the columns:\n",
    "- path: path to the individual pictures\n",
    "- species: latin term for each plant\n",
    "- source: picture taken in lab or field"
   ]
  },
  {
   "cell_type": "code",
   "execution_count": 10,
   "metadata": {
    "colab": {
     "base_uri": "https://localhost:8080/",
     "height": 204
    },
    "colab_type": "code",
    "id": "uOUlCZxg4EWt",
    "outputId": "93275701-0fab-4f94-d065-f11bdf8078a4"
   },
   "outputs": [
    {
     "data": {
      "text/html": [
       "<div>\n",
       "<style scoped>\n",
       "    .dataframe tbody tr th:only-of-type {\n",
       "        vertical-align: middle;\n",
       "    }\n",
       "\n",
       "    .dataframe tbody tr th {\n",
       "        vertical-align: top;\n",
       "    }\n",
       "\n",
       "    .dataframe thead th {\n",
       "        text-align: right;\n",
       "    }\n",
       "</style>\n",
       "<table border=\"1\" class=\"dataframe\">\n",
       "  <thead>\n",
       "    <tr style=\"text-align: right;\">\n",
       "      <th></th>\n",
       "      <th>file_id</th>\n",
       "      <th>image_path</th>\n",
       "      <th>segmented_path</th>\n",
       "      <th>species</th>\n",
       "      <th>source</th>\n",
       "    </tr>\n",
       "  </thead>\n",
       "  <tbody>\n",
       "    <tr>\n",
       "      <th>0</th>\n",
       "      <td>55497</td>\n",
       "      <td>dataset/images/lab/abies_concolor/ny1157-01-1.jpg</td>\n",
       "      <td>dataset/segmented/lab/abies_concolor/ny1157-01...</td>\n",
       "      <td>Abies concolor</td>\n",
       "      <td>lab</td>\n",
       "    </tr>\n",
       "    <tr>\n",
       "      <th>1</th>\n",
       "      <td>55498</td>\n",
       "      <td>dataset/images/lab/abies_concolor/ny1157-01-2.jpg</td>\n",
       "      <td>dataset/segmented/lab/abies_concolor/ny1157-01...</td>\n",
       "      <td>Abies concolor</td>\n",
       "      <td>lab</td>\n",
       "    </tr>\n",
       "    <tr>\n",
       "      <th>2</th>\n",
       "      <td>55499</td>\n",
       "      <td>dataset/images/lab/abies_concolor/ny1157-01-3.jpg</td>\n",
       "      <td>dataset/segmented/lab/abies_concolor/ny1157-01...</td>\n",
       "      <td>Abies concolor</td>\n",
       "      <td>lab</td>\n",
       "    </tr>\n",
       "    <tr>\n",
       "      <th>3</th>\n",
       "      <td>55500</td>\n",
       "      <td>dataset/images/lab/abies_concolor/ny1157-01-4.jpg</td>\n",
       "      <td>dataset/segmented/lab/abies_concolor/ny1157-01...</td>\n",
       "      <td>Abies concolor</td>\n",
       "      <td>lab</td>\n",
       "    </tr>\n",
       "    <tr>\n",
       "      <th>4</th>\n",
       "      <td>55501</td>\n",
       "      <td>dataset/images/lab/abies_concolor/ny1157-02-1.jpg</td>\n",
       "      <td>dataset/segmented/lab/abies_concolor/ny1157-02...</td>\n",
       "      <td>Abies concolor</td>\n",
       "      <td>lab</td>\n",
       "    </tr>\n",
       "  </tbody>\n",
       "</table>\n",
       "</div>"
      ],
      "text/plain": [
       "   file_id                                         image_path  \\\n",
       "0    55497  dataset/images/lab/abies_concolor/ny1157-01-1.jpg   \n",
       "1    55498  dataset/images/lab/abies_concolor/ny1157-01-2.jpg   \n",
       "2    55499  dataset/images/lab/abies_concolor/ny1157-01-3.jpg   \n",
       "3    55500  dataset/images/lab/abies_concolor/ny1157-01-4.jpg   \n",
       "4    55501  dataset/images/lab/abies_concolor/ny1157-02-1.jpg   \n",
       "\n",
       "                                      segmented_path         species source  \n",
       "0  dataset/segmented/lab/abies_concolor/ny1157-01...  Abies concolor    lab  \n",
       "1  dataset/segmented/lab/abies_concolor/ny1157-01...  Abies concolor    lab  \n",
       "2  dataset/segmented/lab/abies_concolor/ny1157-01...  Abies concolor    lab  \n",
       "3  dataset/segmented/lab/abies_concolor/ny1157-01...  Abies concolor    lab  \n",
       "4  dataset/segmented/lab/abies_concolor/ny1157-02...  Abies concolor    lab  "
      ]
     },
     "execution_count": 10,
     "metadata": {
      "tags": []
     },
     "output_type": "execute_result"
    }
   ],
   "source": [
    "img_info = pd.read_csv(\"./leafsnap-dataset-images.txt\", sep=\"\\t\")\n",
    "img_info.head()"
   ]
  },
  {
   "cell_type": "markdown",
   "metadata": {
    "colab_type": "text",
    "id": "iuuUfnYwAz_v"
   },
   "source": [
    "We create a new column only holding the filenames and not the whole path to each picture, so that we can assess the filenames for later resizing of the pictures."
   ]
  },
  {
   "cell_type": "code",
   "execution_count": 0,
   "metadata": {
    "colab": {},
    "colab_type": "code",
    "id": "Eh37RuFvBBkk"
   },
   "outputs": [],
   "source": [
    "#new column (empty)\n",
    "img_info[\"filename\"] = None\n",
    "#index of new column\n",
    "index_filename = img_info.columns.get_loc(\"filename\")\n",
    "for i in range(len(img_info)):\n",
    "    img_info.iloc[i, index_filename] = os.path.basename(str(img_info[\"image_path\"][i]))"
   ]
  },
  {
   "cell_type": "markdown",
   "metadata": {
    "colab_type": "text",
    "id": "m6gxVXnMVOFt"
   },
   "source": [
    "### 3. Create numeric labels"
   ]
  },
  {
   "cell_type": "markdown",
   "metadata": {
    "colab_type": "text",
    "id": "ErbFWP2zBE67"
   },
   "source": [
    "Then, we want to have numeric labels instead of the latin term for each plant, so we append another column holding these.\n",
    "- In the data frame, all images of one species are listed consecutively (first the lab images, then the field images)\n",
    "- Therefore we just loop over the dataframe and increment the numeric label whenever we encounter a latin term that differs from the previous one"
   ]
  },
  {
   "cell_type": "code",
   "execution_count": 36,
   "metadata": {
    "colab": {
     "base_uri": "https://localhost:8080/",
     "height": 204
    },
    "colab_type": "code",
    "id": "R7jN-mpeBRDB",
    "outputId": "1da7cf6f-6c5c-42c2-9abe-0ccde71446f0"
   },
   "outputs": [
    {
     "data": {
      "text/html": [
       "<div>\n",
       "<style scoped>\n",
       "    .dataframe tbody tr th:only-of-type {\n",
       "        vertical-align: middle;\n",
       "    }\n",
       "\n",
       "    .dataframe tbody tr th {\n",
       "        vertical-align: top;\n",
       "    }\n",
       "\n",
       "    .dataframe thead th {\n",
       "        text-align: right;\n",
       "    }\n",
       "</style>\n",
       "<table border=\"1\" class=\"dataframe\">\n",
       "  <thead>\n",
       "    <tr style=\"text-align: right;\">\n",
       "      <th></th>\n",
       "      <th>file_id</th>\n",
       "      <th>image_path</th>\n",
       "      <th>segmented_path</th>\n",
       "      <th>species</th>\n",
       "      <th>source</th>\n",
       "      <th>filename</th>\n",
       "      <th>labels_integer</th>\n",
       "    </tr>\n",
       "  </thead>\n",
       "  <tbody>\n",
       "    <tr>\n",
       "      <th>30861</th>\n",
       "      <td>83817</td>\n",
       "      <td>dataset/images/field/ulmus_rubra/1300222828248...</td>\n",
       "      <td>dataset/segmented/field/ulmus_rubra/1300222828...</td>\n",
       "      <td>Ulmus rubra</td>\n",
       "      <td>field</td>\n",
       "      <td>13002228282488.jpg</td>\n",
       "      <td>184</td>\n",
       "    </tr>\n",
       "    <tr>\n",
       "      <th>30862</th>\n",
       "      <td>83818</td>\n",
       "      <td>dataset/images/field/ulmus_rubra/1300222828261...</td>\n",
       "      <td>dataset/segmented/field/ulmus_rubra/1300222828...</td>\n",
       "      <td>Ulmus rubra</td>\n",
       "      <td>field</td>\n",
       "      <td>13002228282613.jpg</td>\n",
       "      <td>184</td>\n",
       "    </tr>\n",
       "    <tr>\n",
       "      <th>30863</th>\n",
       "      <td>83819</td>\n",
       "      <td>dataset/images/field/ulmus_rubra/1300222828265...</td>\n",
       "      <td>dataset/segmented/field/ulmus_rubra/1300222828...</td>\n",
       "      <td>Ulmus rubra</td>\n",
       "      <td>field</td>\n",
       "      <td>13002228282655.jpg</td>\n",
       "      <td>184</td>\n",
       "    </tr>\n",
       "    <tr>\n",
       "      <th>30864</th>\n",
       "      <td>83820</td>\n",
       "      <td>dataset/images/field/ulmus_rubra/1300222828617...</td>\n",
       "      <td>dataset/segmented/field/ulmus_rubra/1300222828...</td>\n",
       "      <td>Ulmus rubra</td>\n",
       "      <td>field</td>\n",
       "      <td>13002228286176.jpg</td>\n",
       "      <td>184</td>\n",
       "    </tr>\n",
       "    <tr>\n",
       "      <th>30865</th>\n",
       "      <td>83821</td>\n",
       "      <td>dataset/images/field/ulmus_rubra/1300222828044...</td>\n",
       "      <td>dataset/segmented/field/ulmus_rubra/1300222828...</td>\n",
       "      <td>Ulmus rubra</td>\n",
       "      <td>field</td>\n",
       "      <td>13002228280448.jpg</td>\n",
       "      <td>184</td>\n",
       "    </tr>\n",
       "  </tbody>\n",
       "</table>\n",
       "</div>"
      ],
      "text/plain": [
       "       file_id                                         image_path  \\\n",
       "30861    83817  dataset/images/field/ulmus_rubra/1300222828248...   \n",
       "30862    83818  dataset/images/field/ulmus_rubra/1300222828261...   \n",
       "30863    83819  dataset/images/field/ulmus_rubra/1300222828265...   \n",
       "30864    83820  dataset/images/field/ulmus_rubra/1300222828617...   \n",
       "30865    83821  dataset/images/field/ulmus_rubra/1300222828044...   \n",
       "\n",
       "                                          segmented_path      species source  \\\n",
       "30861  dataset/segmented/field/ulmus_rubra/1300222828...  Ulmus rubra  field   \n",
       "30862  dataset/segmented/field/ulmus_rubra/1300222828...  Ulmus rubra  field   \n",
       "30863  dataset/segmented/field/ulmus_rubra/1300222828...  Ulmus rubra  field   \n",
       "30864  dataset/segmented/field/ulmus_rubra/1300222828...  Ulmus rubra  field   \n",
       "30865  dataset/segmented/field/ulmus_rubra/1300222828...  Ulmus rubra  field   \n",
       "\n",
       "                 filename  labels_integer  \n",
       "30861  13002228282488.jpg             184  \n",
       "30862  13002228282613.jpg             184  \n",
       "30863  13002228282655.jpg             184  \n",
       "30864  13002228286176.jpg             184  \n",
       "30865  13002228280448.jpg             184  "
      ]
     },
     "execution_count": 36,
     "metadata": {
      "tags": []
     },
     "output_type": "execute_result"
    }
   ],
   "source": [
    "#new column (empty)\n",
    "img_info[\"labels_integer\"] = None\n",
    "#index of new column\n",
    "index_labels_integer = img_info.columns.get_loc(\"labels_integer\")\n",
    "#index of species column\n",
    "index_species = img_info.columns.get_loc(\"species\")\n",
    "#to assign numeric labels starting with 0 for the first species\n",
    "k = 0 \n",
    "for i in range(len(img_info)):\n",
    "    if i == 0:\n",
    "        img_info.iloc[i, index_labels_integer] = k #here, k == 0\n",
    "    if i > 0:\n",
    "        if img_info.iloc[i-1, index_species] == img_info.iloc[i, index_species]:\n",
    "            img_info.iloc[i, index_labels_integer] = k\n",
    "        else:\n",
    "            k += 1\n",
    "            img_info.iloc[i, index_labels_integer] = k\n",
    "img_info.tail()"
   ]
  },
  {
   "cell_type": "markdown",
   "metadata": {
    "colab_type": "text",
    "id": "VtyE6UWXTuE1"
   },
   "source": [
    "Save data frame."
   ]
  },
  {
   "cell_type": "code",
   "execution_count": 0,
   "metadata": {
    "colab": {},
    "colab_type": "code",
    "id": "OtOBa5IMTkQr"
   },
   "outputs": [],
   "source": [
    "img_info.to_csv(\"img_info.csv\", index=False)"
   ]
  },
  {
   "cell_type": "markdown",
   "metadata": {
    "colab_type": "text",
    "id": "YnIVwX0bV9BT"
   },
   "source": [
    "### 4. Resize pictures"
   ]
  },
  {
   "cell_type": "markdown",
   "metadata": {
    "colab_type": "text",
    "id": "ixg0Nz1UAnl_"
   },
   "source": [
    "Next on the list: Resizing the pictures. This is done by reading the filenames from the data frame, generating a cropped version of the desired size for each picture and saving them to an output directory."
   ]
  },
  {
   "cell_type": "code",
   "execution_count": 0,
   "metadata": {
    "colab": {},
    "colab_type": "code",
    "id": "vpftFPk84EWn"
   },
   "outputs": [],
   "source": [
    "def resizeImage(infile, infile_name_only, output_dir=\"\", size=(1024,768)):\n",
    "  '''\n",
    "  Resize Images to a requestet size (not considerinng aspect ratio)\n",
    "  Input:\n",
    "  - infile: image to be resized (with path)\n",
    "  - infile_name_only: image to be resized (filename only)\n",
    "  - output_dir: where resized images should be stored\n",
    "  - size: output size (tupel of (height, width))\n",
    "  '''\n",
    "  \n",
    "  outfile = os.path.splitext(infile_name_only)[0]\n",
    "  extension = os.path.splitext(infile)[1]\n",
    "  \n",
    "  if infile != outfile:\n",
    "    if not os.path.isfile(output_dir + \"/\" + outfile + extension):\n",
    "      try :\n",
    "        im = PIL.Image.open(infile)\n",
    "        #crops to requested size independt from aspec ratio\n",
    "        im = im.resize(size, PIL.Image.ANTIALIAS) \n",
    "        im.save(output_dir + \"/\" + outfile + extension)\n",
    "      except IOError:\n",
    "        print(\"cannot reduce image for \", infile)\n",
    "\n",
    "output_dir = \"dataset/resized\"\n",
    "size = (64, 64)\n",
    "filenames_dir = list(img_info[\"image_path\"])\n",
    "filenames = list(img_info[\"filename\"])\n",
    "            \n",
    "for i in range(len(filenames)):\n",
    "  resizeImage(filenames_dir[i], filenames[i], output_dir=output_dir, size=size)"
   ]
  },
  {
   "cell_type": "markdown",
   "metadata": {
    "colab_type": "text",
    "id": "6cbw_p-BWCqT"
   },
   "source": [
    "### 5. Read pictures as RGB arrays"
   ]
  },
  {
   "cell_type": "markdown",
   "metadata": {
    "colab_type": "text",
    "id": "JWwkZnAGBq92"
   },
   "source": [
    "RGB arrays: All resized images are read as rgb arrays in the order they are listed in the data frame. An RGB array is a numeric representation of a picture, assigning three color values (one for each of the three channels: red, green and blue) to each pixel. From a 64x64 picture, we therefore get a 64x64x3 rgb array.\n"
   ]
  },
  {
   "cell_type": "code",
   "execution_count": 0,
   "metadata": {
    "colab": {},
    "colab_type": "code",
    "id": "XCQ_MHeXHnvr"
   },
   "outputs": [],
   "source": [
    "list_vectors = []\n",
    "\n",
    "for i in range(len(img_info)):\n",
    "    #path to resized images\n",
    "    file = \"dataset/resized\" + \"/\" + img_info.iloc[i, index_filename]\n",
    "    #read as rgb array\n",
    "    img = imageio.imread(file)\n",
    "    #append image vector to list\n",
    "    list_vectors.append(img)"
   ]
  },
  {
   "cell_type": "markdown",
   "metadata": {
    "colab_type": "text",
    "id": "gVZa62EbWGPr"
   },
   "source": [
    "### 6. Randomize picture order"
   ]
  },
  {
   "cell_type": "markdown",
   "metadata": {
    "colab_type": "text",
    "id": "w1vvG2s4JUuZ"
   },
   "source": [
    "As a next step, we want to randomize the order in which the picture data is fed to the CNN to prevent sequence effects, as the data frame comes ordered by species (We don't shuffle the dataframe with df.sample, as we don't want to add the really big list_vectors to the data frame)."
   ]
  },
  {
   "cell_type": "code",
   "execution_count": 0,
   "metadata": {
    "colab": {},
    "colab_type": "code",
    "id": "v6_B6nfsJsde"
   },
   "outputs": [],
   "source": [
    "#relevant variables\n",
    "label = img_info[\"species\"]\n",
    "source = img_info[\"source\"]\n",
    "label_numeric = img_info[\"labels_integer\"]\n",
    "list_vectors = list_vectors\n",
    "filename = img_info[\"filename\"]\n",
    "path = img_info[\"image_path\"]\n",
    "\n",
    "#randomization\n",
    "allinfo = list(zip(label, source, label_numeric, list_vectors, filename, path)) \n",
    "random.shuffle(allinfo) #shuffle\n",
    "label, source, label_numeric, list_vectors, filename, path = zip(*allinfo) #decompose again\n",
    "img_info_rand = pd.DataFrame({\"filename\":filename, \"label\":label, \"source\":source, \"label_numeric\":label_numeric, \"path\":path}) #store picture information in randomized order"
   ]
  },
  {
   "cell_type": "markdown",
   "metadata": {
    "colab_type": "text",
    "id": "TtBoxoW3WLEE"
   },
   "source": [
    "### 7. Stack picture input into one array"
   ]
  },
  {
   "cell_type": "markdown",
   "metadata": {
    "colab_type": "text",
    "id": "ToAKZFMHJ4vc"
   },
   "source": [
    "Now, the picture vectors should be stacked vertically into one array, so that each row represents one picture. This array's shape should then be (30866, 64, 64, 3), as we have 30866 pictures, represented in a 64x64x3 array each. "
   ]
  },
  {
   "cell_type": "code",
   "execution_count": 40,
   "metadata": {
    "colab": {
     "base_uri": "https://localhost:8080/",
     "height": 34
    },
    "colab_type": "code",
    "id": "YDszhhPUKGw8",
    "outputId": "b51243a8-3a5b-4ede-a716-0ac11b3635b1"
   },
   "outputs": [
    {
     "name": "stdout",
     "output_type": "stream",
     "text": [
      "(30866, 64, 64, 3)\n"
     ]
    }
   ],
   "source": [
    "X = np.stack((list_vectors))\n",
    "\n",
    "#transform numeric labels into array\n",
    "Y = np.asarray(label_numeric)\n",
    "\n",
    "print(X.shape)"
   ]
  },
  {
   "cell_type": "markdown",
   "metadata": {
    "colab_type": "text",
    "id": "UeIF1fBZWTjT"
   },
   "source": [
    "### 8. Normalize input features (pictures) and one-hot encode labels"
   ]
  },
  {
   "cell_type": "markdown",
   "metadata": {
    "colab_type": "text",
    "id": "42MpuqIhKNrz"
   },
   "source": [
    "Finally, we normalize the picture data (dividing by 255, as there are 255 conditions possible for each rgb channel) and one-hot encode the numeric labels. One-hot encoding means to go from a representation where each numeric label is just one number (eg 14 for the 14th of 185 classes, so that we have a vector with 30866 entries for our 30866 pictures), to a representation where in a array each column represents a class and each row a picture. Here, picture number n being of class 14 is represented in the nth row, and only the 14th column contains a one, while all others hold zeros."
   ]
  },
  {
   "cell_type": "code",
   "execution_count": 41,
   "metadata": {
    "colab": {
     "base_uri": "https://localhost:8080/",
     "height": 34
    },
    "colab_type": "code",
    "id": "WrdRFTMpK3Zi",
    "outputId": "96e2c11f-2db3-444e-eb8c-fa9ff283f476"
   },
   "outputs": [
    {
     "name": "stdout",
     "output_type": "stream",
     "text": [
      "(30866,) (30866, 185)\n"
     ]
    }
   ],
   "source": [
    "X = X/255\n",
    "Y_one_hot = keras.utils.to_categorical(Y, num_classes=185)\n",
    "print(Y.shape, Y_one_hot.shape)"
   ]
  },
  {
   "cell_type": "markdown",
   "metadata": {
    "colab_type": "text",
    "id": "QuFYKtS1qVQx"
   },
   "source": [
    "### 9. Save input features, labels and further info"
   ]
  },
  {
   "cell_type": "markdown",
   "metadata": {
    "colab_type": "text",
    "id": "Q2nvWLKqLkbX"
   },
   "source": [
    "We can save the input features, labels, and the further information about the pictures (in the randomized order) so that we don't have to repeat all the above steps in the next session."
   ]
  },
  {
   "cell_type": "code",
   "execution_count": 0,
   "metadata": {
    "colab": {},
    "colab_type": "code",
    "id": "_QJgpYjNLoJY"
   },
   "outputs": [],
   "source": [
    "np.savez(\"x_images_arrays\", X)\n",
    "np.savez(\"y_numeric_labels\", Y_one_hot)\n",
    "img_info_rand.to_csv(\"img_info_rand.csv\", index=False)"
   ]
  },
  {
   "cell_type": "markdown",
   "metadata": {
    "colab_type": "text",
    "id": "M0r-U0VPJHp7"
   },
   "source": [
    "...loading"
   ]
  },
  {
   "cell_type": "code",
   "execution_count": 0,
   "metadata": {
    "colab": {},
    "colab_type": "code",
    "id": "nOisl_TjJKX3"
   },
   "outputs": [],
   "source": [
    "x_npz = np.load(\"x_images_arrays.npz\")\n",
    "X = x_npz['arr_0']\n",
    "\n",
    "y_npz = np.load(\"y_numeric_labels.npz\")\n",
    "Y_one_hot = y_npz['arr_0']\n",
    "\n",
    "img_info_rand = pd.read_csv(\"img_info_rand.csv\")"
   ]
  },
  {
   "cell_type": "markdown",
   "metadata": {
    "colab_type": "text",
    "id": "2YR0x_L5LEUw"
   },
   "source": [
    "## CNN-Model"
   ]
  },
  {
   "cell_type": "markdown",
   "metadata": {
    "colab_type": "text",
    "id": "rXlBqstePxvk"
   },
   "source": [
    "In order to train a CNN on our dataset, we take the following steps:\n",
    "1. Import packages\n",
    "2. Split data in train-/development-/test-set\n",
    "3. Define the model architecture and compile the model\n",
    "4. Fit the data\n",
    "5. Save the model"
   ]
  },
  {
   "cell_type": "markdown",
   "metadata": {
    "colab_type": "text",
    "id": "EMNj2sRyXy4C"
   },
   "source": [
    "### 1. Import packages"
   ]
  },
  {
   "cell_type": "markdown",
   "metadata": {
    "colab_type": "text",
    "id": "FA2MyN45Lwn4"
   },
   "source": [
    "First, we import the necessary packages."
   ]
  },
  {
   "cell_type": "code",
   "execution_count": 0,
   "metadata": {
    "colab": {},
    "colab_type": "code",
    "id": "wbvAr-XOLDv0"
   },
   "outputs": [],
   "source": [
    "import keras\n",
    "from keras.models import Sequential, load_model\n",
    "from keras.layers import Dense, Activation, Conv2D, MaxPooling2D, Flatten, Dropout, BatchNormalization\n",
    "from keras.optimizers import SGD\n",
    "from keras import regularizers\n",
    "from keras.callbacks import ModelCheckpoint"
   ]
  },
  {
   "cell_type": "markdown",
   "metadata": {
    "colab_type": "text",
    "id": "ZAWMnW_EX1kn"
   },
   "source": [
    "### 2. Split data in train-/development-/test-set"
   ]
  },
  {
   "cell_type": "markdown",
   "metadata": {
    "colab_type": "text",
    "id": "iArEjV6XQQ_0"
   },
   "source": [
    "Next, we split our picture arrays (and the corresponding labels) into three parts:\n",
    "1. train-set: The data we train the model on (here 80%)\n",
    "2. development-set (dev-set): The data we use to evaluate the model's generalization performance (to new, unseen data) during training (here 10%)\n",
    "3. test-set: The data we want to predict using our trained model (here 10%)\n",
    "  - For further evaluation of results, we isolate labels (latin terms), numeric labels, filenames and source (lab/field) for the test-set"
   ]
  },
  {
   "cell_type": "code",
   "execution_count": 10,
   "metadata": {
    "colab": {
     "base_uri": "https://localhost:8080/",
     "height": 35
    },
    "colab_type": "code",
    "id": "Su3ts69hPwGD",
    "outputId": "66f964d3-3634-4e70-ddad-5f0d2ab048b5"
   },
   "outputs": [
    {
     "name": "stdout",
     "output_type": "stream",
     "text": [
      "(24692, 64, 64, 3) (3087, 64, 64, 3) (3087, 64, 64, 3) (24692, 185) (3087, 185) (3087, 185)\n"
     ]
    }
   ],
   "source": [
    "split_train = 0.8 #train 0.8, validate 0.1, test 0.1\n",
    "split_val = 0.9\n",
    "index_train = int(split_train*len(X))\n",
    "index_val = int(split_val*len(X))\n",
    "\n",
    "X_train = X[:index_train]\n",
    "X_val = X[index_train:index_val]\n",
    "X_test = X[index_val:]\n",
    "\n",
    "Y_train = Y_one_hot[:index_train]\n",
    "Y_val = Y_one_hot[index_train:index_val]\n",
    "Y_test = Y_one_hot[index_val:]\n",
    "\n",
    "#for later predictions on test set\n",
    "labels_numeric_test = img_info_rand.loc[index_val:len(X), \"label_numeric\"]\n",
    "labels_test = img_info_rand.loc[index_val:len(X), \"label\"]\n",
    "filenames_test = img_info_rand.loc[index_val:len(X), \"filename\"]\n",
    "source_test = img_info_rand.loc[index_val:len(X), \"source\"]\n",
    "path_test = img_info_rand.loc[index_val:len(X), \"path\"]\n",
    "\n",
    "print(X_train.shape, X_val.shape, X_test.shape, Y_train.shape, Y_val.shape, Y_test.shape)"
   ]
  },
  {
   "cell_type": "markdown",
   "metadata": {
    "colab_type": "text",
    "id": "t5uh_xBwRhdL"
   },
   "source": [
    "### 3. Define the model architecture and compile the model"
   ]
  },
  {
   "cell_type": "markdown",
   "metadata": {
    "colab_type": "text",
    "id": "3FLtc7OgfBDM"
   },
   "source": [
    "- **Architecture**\n",
    "\n",
    "The model takes as input pictures of the size (m, 64, 64, 3), so 64x64 colored images (3 rgb channels). \n",
    "\n",
    "In a first convolutional layer, 32 5x5 filters are applied with a stride of 1 (so each filter sliding over the picture in steps of 1 pixel) and no padding. Therefore, the output of this convolutional layer will be (m, 60, 60, 32). \n",
    "\n",
    "This is fed to a max pooling layer, in which a (2,2) window selecting each maximum slides over the input with a stride of 2, collapsing the input to a output of (m, 30, 30 ,32). \n",
    "\n",
    "The next convolutional layer consists of 64 5x5 filters, again with a stride of 1. This generates a output of (m, 26, 26, 64),\n",
    "\n",
    "which through the next pooling layer (specifications as in the first one) is collapsed to a size of (m, 13, 13, 64). \n",
    "\n",
    "The output of this pooling layer is then flattened into a matrix of (10816, m) (13x13x64 = 10816) and \n",
    "\n",
    "fed to a fully connected layer with 1000 nodes, which in turn outputs (1000, m)\n",
    "\n",
    "to the final softmax layer with 185 nodes (185 classes), giving (185, m) as the final output. \n",
    "\n",
    "---\n",
    "\n",
    "- **Activation functions**\n",
    "\n",
    "A Rectified Linear Unit Activation function is used throughout the network (except for the final softmax layer).\n",
    "\n",
    "\n",
    "---\n",
    "\n",
    "\n",
    "- **Parameters**\n",
    "\n",
    "Learnable parameters are the values of the filter matrices as well as the weights in the fully connected layers.\n",
    "\n",
    "\n",
    "---\n",
    "\n",
    "\n",
    "- **Regularization**\n",
    "\n",
    "After the final max pooling layer and the fully connected layer feeding into the final softmax layer, dropout was implemented to reduce overfitting (in dropout, activations are randomly set to zero with a certain possibility (here 0.7) to prevent the model from only relying on certain high activations resulting from replicating noise in the training data instead of finding a meaningful input to output mapping.\n",
    "\n",
    "\n",
    "---\n",
    "\n",
    "\n",
    "- **Optimizer**\n",
    "\n",
    "The model was trained with an Adam optimizer as gradient descent optimization algorithm, which combines moving averages of past weights (moving mean) and squared moving average of past weights (moving variance). Moving average of past weights: At each time step, the average over the last eg 10 weights is calculated and incorporated in the weight updating, so that we not only consider the current timestep, but also timesteps from the past to prevent drastic changes in direction (leading to valleys or local minima) when searching for the minimum in gradient descent, as go into the direction most oft he gradients push as (along the current gradient „flow“). Hyperparameters controlling the moving averages are beta1 and beta2. Learning rate was set to 0.0001 with a decay of e-8 (to prevent overshooting the global minimum). As loss function, categroical cross entropy cost was used."
   ]
  },
  {
   "cell_type": "code",
   "execution_count": 0,
   "metadata": {
    "colab": {},
    "colab_type": "code",
    "id": "nG6wSGtvvl8o"
   },
   "outputs": [],
   "source": [
    "input_shape = (X_train.shape[1], X_train.shape[2], X_train.shape[3]) #(64, 64, 3)\n",
    "num_classes = 185\n",
    "\n",
    "model = Sequential()\n",
    "model.add(Conv2D(32, kernel_size=(5, 5), strides=(1, 1), input_shape=input_shape))\n",
    "model.add(Activation('relu'))\n",
    "model.add(MaxPooling2D(pool_size=(2, 2), strides=(2, 2)))\n",
    "model.add(Conv2D(64, (5, 5)))\n",
    "model.add(Activation('relu'))\n",
    "model.add(MaxPooling2D(pool_size=(2, 2)))\n",
    "model.add(Dropout(0.7))\n",
    "model.add(Flatten())\n",
    "model.add(Dense(1000))\n",
    "model.add(Activation('relu'))\n",
    "model.add(Dropout(0.7))\n",
    "model.add(Dense(num_classes, activation='softmax'))\n",
    "\n",
    "\n",
    "model.compile(optimizer=keras.optimizers.Adam(lr=0.0003, beta_1=0.9, beta_2=0.999, epsilon=None, decay=1e-8, amsgrad=False),\n",
    "              loss='categorical_crossentropy',\n",
    "              metrics=['accuracy'])"
   ]
  },
  {
   "cell_type": "code",
   "execution_count": 9,
   "metadata": {
    "colab": {
     "base_uri": "https://localhost:8080/",
     "height": 544
    },
    "colab_type": "code",
    "id": "cVnShIuieyyz",
    "outputId": "622ed6ed-9618-4462-dd7c-be6ac6333620"
   },
   "outputs": [
    {
     "name": "stdout",
     "output_type": "stream",
     "text": [
      "_________________________________________________________________\n",
      "Layer (type)                 Output Shape              Param #   \n",
      "=================================================================\n",
      "conv2d_1 (Conv2D)            (None, 60, 60, 32)        2432      \n",
      "_________________________________________________________________\n",
      "activation_1 (Activation)    (None, 60, 60, 32)        0         \n",
      "_________________________________________________________________\n",
      "max_pooling2d_1 (MaxPooling2 (None, 30, 30, 32)        0         \n",
      "_________________________________________________________________\n",
      "conv2d_2 (Conv2D)            (None, 26, 26, 64)        51264     \n",
      "_________________________________________________________________\n",
      "activation_2 (Activation)    (None, 26, 26, 64)        0         \n",
      "_________________________________________________________________\n",
      "max_pooling2d_2 (MaxPooling2 (None, 13, 13, 64)        0         \n",
      "_________________________________________________________________\n",
      "dropout_1 (Dropout)          (None, 13, 13, 64)        0         \n",
      "_________________________________________________________________\n",
      "flatten_1 (Flatten)          (None, 10816)             0         \n",
      "_________________________________________________________________\n",
      "dense_1 (Dense)              (None, 1000)              10817000  \n",
      "_________________________________________________________________\n",
      "activation_3 (Activation)    (None, 1000)              0         \n",
      "_________________________________________________________________\n",
      "dropout_2 (Dropout)          (None, 1000)              0         \n",
      "_________________________________________________________________\n",
      "dense_2 (Dense)              (None, 185)               185185    \n",
      "=================================================================\n",
      "Total params: 11,055,881\n",
      "Trainable params: 11,055,881\n",
      "Non-trainable params: 0\n",
      "_________________________________________________________________\n"
     ]
    }
   ],
   "source": [
    "model.summary()"
   ]
  },
  {
   "cell_type": "markdown",
   "metadata": {
    "colab_type": "text",
    "id": "hvZRONHiX7Q0"
   },
   "source": [
    "### 4. Fit the data (and save the best model)"
   ]
  },
  {
   "cell_type": "code",
   "execution_count": 10,
   "metadata": {
    "colab": {
     "base_uri": "https://localhost:8080/",
     "height": 27319
    },
    "colab_type": "code",
    "id": "1YuvMqkKweGi",
    "outputId": "143a7823-3cba-4566-ea7d-b7ffae9b476d"
   },
   "outputs": [
    {
     "name": "stdout",
     "output_type": "stream",
     "text": [
      "Training model...\n",
      "WARNING:tensorflow:Variable *= will be deprecated. Use `var.assign(var * other)` if you want assignment to the variable value or `x = x * y` if you want a new python Tensor object.\n",
      "Train on 24692 samples, validate on 3087 samples\n",
      "Epoch 1/400\n",
      "24692/24692 [==============================] - 20s 800us/step - loss: 4.4204 - acc: 0.0839 - val_loss: 2.9912 - val_acc: 0.3178\n",
      "\n",
      "Epoch 00001: val_loss improved from inf to 2.99124, saving model to leafnet.h5\n",
      "Epoch 2/400\n",
      "24692/24692 [==============================] - 15s 622us/step - loss: 3.0447 - acc: 0.2546 - val_loss: 2.1865 - val_acc: 0.4580\n",
      "\n",
      "Epoch 00002: val_loss improved from 2.99124 to 2.18645, saving model to leafnet.h5\n",
      "Epoch 3/400\n",
      "24692/24692 [==============================] - 15s 623us/step - loss: 2.4714 - acc: 0.3567 - val_loss: 1.8531 - val_acc: 0.5267\n",
      "\n",
      "Epoch 00003: val_loss improved from 2.18645 to 1.85306, saving model to leafnet.h5\n",
      "Epoch 4/400\n",
      "24692/24692 [==============================] - 15s 621us/step - loss: 2.1260 - acc: 0.4229 - val_loss: 1.6122 - val_acc: 0.5734\n",
      "\n",
      "Epoch 00004: val_loss improved from 1.85306 to 1.61218, saving model to leafnet.h5\n",
      "Epoch 5/400\n",
      "24692/24692 [==============================] - 15s 619us/step - loss: 1.8767 - acc: 0.4791 - val_loss: 1.4340 - val_acc: 0.5999\n",
      "\n",
      "Epoch 00005: val_loss improved from 1.61218 to 1.43404, saving model to leafnet.h5\n",
      "Epoch 6/400\n",
      "24692/24692 [==============================] - 15s 622us/step - loss: 1.6595 - acc: 0.5305 - val_loss: 1.2668 - val_acc: 0.6518\n",
      "\n",
      "Epoch 00006: val_loss improved from 1.43404 to 1.26681, saving model to leafnet.h5\n",
      "Epoch 7/400\n",
      "24692/24692 [==============================] - 15s 624us/step - loss: 1.5081 - acc: 0.5658 - val_loss: 1.1422 - val_acc: 0.6728\n",
      "\n",
      "Epoch 00007: val_loss improved from 1.26681 to 1.14219, saving model to leafnet.h5\n",
      "Epoch 8/400\n",
      "24692/24692 [==============================] - 15s 622us/step - loss: 1.3785 - acc: 0.5964 - val_loss: 1.0791 - val_acc: 0.6916\n",
      "\n",
      "Epoch 00008: val_loss improved from 1.14219 to 1.07911, saving model to leafnet.h5\n",
      "Epoch 9/400\n",
      "24692/24692 [==============================] - 15s 621us/step - loss: 1.2717 - acc: 0.6221 - val_loss: 0.9934 - val_acc: 0.7182\n",
      "\n",
      "Epoch 00009: val_loss improved from 1.07911 to 0.99337, saving model to leafnet.h5\n",
      "Epoch 10/400\n",
      "24692/24692 [==============================] - 15s 621us/step - loss: 1.1798 - acc: 0.6462 - val_loss: 0.9374 - val_acc: 0.7308\n",
      "\n",
      "Epoch 00010: val_loss improved from 0.99337 to 0.93744, saving model to leafnet.h5\n",
      "Epoch 11/400\n",
      "24692/24692 [==============================] - 15s 626us/step - loss: 1.1060 - acc: 0.6624 - val_loss: 0.8939 - val_acc: 0.7366\n",
      "\n",
      "Epoch 00011: val_loss improved from 0.93744 to 0.89390, saving model to leafnet.h5\n",
      "Epoch 12/400\n",
      "24692/24692 [==============================] - 15s 621us/step - loss: 1.0235 - acc: 0.6861 - val_loss: 0.8490 - val_acc: 0.7477\n",
      "\n",
      "Epoch 00012: val_loss improved from 0.89390 to 0.84900, saving model to leafnet.h5\n",
      "Epoch 13/400\n",
      "24692/24692 [==============================] - 15s 621us/step - loss: 0.9849 - acc: 0.6954 - val_loss: 0.8059 - val_acc: 0.7609\n",
      "\n",
      "Epoch 00013: val_loss improved from 0.84900 to 0.80587, saving model to leafnet.h5\n",
      "Epoch 14/400\n",
      "24692/24692 [==============================] - 15s 622us/step - loss: 0.9336 - acc: 0.7109 - val_loss: 0.7796 - val_acc: 0.7596\n",
      "\n",
      "Epoch 00014: val_loss improved from 0.80587 to 0.77957, saving model to leafnet.h5\n",
      "Epoch 15/400\n",
      "24692/24692 [==============================] - 15s 624us/step - loss: 0.8866 - acc: 0.7205 - val_loss: 0.7691 - val_acc: 0.7658\n",
      "\n",
      "Epoch 00015: val_loss improved from 0.77957 to 0.76908, saving model to leafnet.h5\n",
      "Epoch 16/400\n",
      "24692/24692 [==============================] - 15s 624us/step - loss: 0.8488 - acc: 0.7308 - val_loss: 0.7415 - val_acc: 0.7775\n",
      "\n",
      "Epoch 00016: val_loss improved from 0.76908 to 0.74154, saving model to leafnet.h5\n",
      "Epoch 17/400\n",
      "24692/24692 [==============================] - 15s 621us/step - loss: 0.8004 - acc: 0.7433 - val_loss: 0.7098 - val_acc: 0.7917\n",
      "\n",
      "Epoch 00017: val_loss improved from 0.74154 to 0.70984, saving model to leafnet.h5\n",
      "Epoch 18/400\n",
      "24692/24692 [==============================] - 15s 624us/step - loss: 0.7783 - acc: 0.7526 - val_loss: 0.6862 - val_acc: 0.8040\n",
      "\n",
      "Epoch 00018: val_loss improved from 0.70984 to 0.68618, saving model to leafnet.h5\n",
      "Epoch 19/400\n",
      "24692/24692 [==============================] - 15s 628us/step - loss: 0.7372 - acc: 0.7636 - val_loss: 0.6725 - val_acc: 0.8024\n",
      "\n",
      "Epoch 00019: val_loss improved from 0.68618 to 0.67247, saving model to leafnet.h5\n",
      "Epoch 20/400\n",
      "24692/24692 [==============================] - 15s 627us/step - loss: 0.7158 - acc: 0.7700 - val_loss: 0.6574 - val_acc: 0.8040\n",
      "\n",
      "Epoch 00020: val_loss improved from 0.67247 to 0.65741, saving model to leafnet.h5\n",
      "Epoch 21/400\n",
      "24692/24692 [==============================] - 15s 622us/step - loss: 0.6783 - acc: 0.7812 - val_loss: 0.6447 - val_acc: 0.8043\n",
      "\n",
      "Epoch 00021: val_loss improved from 0.65741 to 0.64465, saving model to leafnet.h5\n",
      "Epoch 22/400\n",
      "24692/24692 [==============================] - 15s 626us/step - loss: 0.6556 - acc: 0.7851 - val_loss: 0.6239 - val_acc: 0.8115\n",
      "\n",
      "Epoch 00022: val_loss improved from 0.64465 to 0.62385, saving model to leafnet.h5\n",
      "Epoch 23/400\n",
      "24692/24692 [==============================] - 15s 623us/step - loss: 0.6384 - acc: 0.7892 - val_loss: 0.6136 - val_acc: 0.8111\n",
      "\n",
      "Epoch 00023: val_loss improved from 0.62385 to 0.61356, saving model to leafnet.h5\n",
      "Epoch 24/400\n",
      "24692/24692 [==============================] - 15s 624us/step - loss: 0.6172 - acc: 0.7970 - val_loss: 0.6154 - val_acc: 0.8215\n",
      "\n",
      "Epoch 00024: val_loss did not improve from 0.61356\n",
      "Epoch 25/400\n",
      "24692/24692 [==============================] - 15s 620us/step - loss: 0.5998 - acc: 0.8025 - val_loss: 0.5997 - val_acc: 0.8176\n",
      "\n",
      "Epoch 00025: val_loss improved from 0.61356 to 0.59969, saving model to leafnet.h5\n",
      "Epoch 26/400\n",
      "24692/24692 [==============================] - 15s 626us/step - loss: 0.5855 - acc: 0.8065 - val_loss: 0.5950 - val_acc: 0.8225\n",
      "\n",
      "Epoch 00026: val_loss improved from 0.59969 to 0.59495, saving model to leafnet.h5\n",
      "Epoch 27/400\n",
      "24692/24692 [==============================] - 15s 625us/step - loss: 0.5709 - acc: 0.8086 - val_loss: 0.5790 - val_acc: 0.8290\n",
      "\n",
      "Epoch 00027: val_loss improved from 0.59495 to 0.57898, saving model to leafnet.h5\n",
      "Epoch 28/400\n",
      "24692/24692 [==============================] - 15s 623us/step - loss: 0.5495 - acc: 0.8165 - val_loss: 0.5636 - val_acc: 0.8267\n",
      "\n",
      "Epoch 00028: val_loss improved from 0.57898 to 0.56360, saving model to leafnet.h5\n",
      "Epoch 29/400\n",
      "24692/24692 [==============================] - 15s 626us/step - loss: 0.5359 - acc: 0.8225 - val_loss: 0.5612 - val_acc: 0.8319\n",
      "\n",
      "Epoch 00029: val_loss improved from 0.56360 to 0.56122, saving model to leafnet.h5\n",
      "Epoch 30/400\n",
      "24692/24692 [==============================] - 15s 628us/step - loss: 0.5259 - acc: 0.8217 - val_loss: 0.5540 - val_acc: 0.8296\n",
      "\n",
      "Epoch 00030: val_loss improved from 0.56122 to 0.55405, saving model to leafnet.h5\n",
      "Epoch 31/400\n",
      "24692/24692 [==============================] - 15s 623us/step - loss: 0.5115 - acc: 0.8303 - val_loss: 0.5433 - val_acc: 0.8309\n",
      "\n",
      "Epoch 00031: val_loss improved from 0.55405 to 0.54330, saving model to leafnet.h5\n",
      "Epoch 32/400\n",
      "24692/24692 [==============================] - 15s 626us/step - loss: 0.4953 - acc: 0.8331 - val_loss: 0.5393 - val_acc: 0.8328\n",
      "\n",
      "Epoch 00032: val_loss improved from 0.54330 to 0.53935, saving model to leafnet.h5\n",
      "Epoch 33/400\n",
      "24692/24692 [==============================] - 15s 624us/step - loss: 0.4843 - acc: 0.8377 - val_loss: 0.5339 - val_acc: 0.8406\n",
      "\n",
      "Epoch 00033: val_loss improved from 0.53935 to 0.53391, saving model to leafnet.h5\n",
      "Epoch 34/400\n",
      "24692/24692 [==============================] - 15s 624us/step - loss: 0.4737 - acc: 0.8402 - val_loss: 0.5430 - val_acc: 0.8332\n",
      "\n",
      "Epoch 00034: val_loss did not improve from 0.53391\n",
      "Epoch 35/400\n",
      "24692/24692 [==============================] - 15s 621us/step - loss: 0.4714 - acc: 0.8378 - val_loss: 0.5394 - val_acc: 0.8358\n",
      "\n",
      "Epoch 00035: val_loss did not improve from 0.53391\n",
      "Epoch 36/400\n",
      "24692/24692 [==============================] - 15s 618us/step - loss: 0.4476 - acc: 0.8487 - val_loss: 0.5283 - val_acc: 0.8393\n",
      "\n",
      "Epoch 00036: val_loss improved from 0.53391 to 0.52834, saving model to leafnet.h5\n",
      "Epoch 37/400\n",
      "24692/24692 [==============================] - 15s 628us/step - loss: 0.4500 - acc: 0.8463 - val_loss: 0.5385 - val_acc: 0.8432\n",
      "\n",
      "Epoch 00037: val_loss did not improve from 0.52834\n",
      "Epoch 38/400\n",
      "24692/24692 [==============================] - 15s 623us/step - loss: 0.4416 - acc: 0.8478 - val_loss: 0.5201 - val_acc: 0.8445\n",
      "\n",
      "Epoch 00038: val_loss improved from 0.52834 to 0.52014, saving model to leafnet.h5\n",
      "Epoch 39/400\n",
      "24692/24692 [==============================] - 16s 630us/step - loss: 0.4235 - acc: 0.8584 - val_loss: 0.5134 - val_acc: 0.8387\n",
      "\n",
      "Epoch 00039: val_loss improved from 0.52014 to 0.51344, saving model to leafnet.h5\n",
      "Epoch 40/400\n",
      "24692/24692 [==============================] - 15s 625us/step - loss: 0.4158 - acc: 0.8570 - val_loss: 0.5043 - val_acc: 0.8426\n",
      "\n",
      "Epoch 00040: val_loss improved from 0.51344 to 0.50435, saving model to leafnet.h5\n",
      "Epoch 41/400\n",
      "24692/24692 [==============================] - 15s 626us/step - loss: 0.4177 - acc: 0.8585 - val_loss: 0.4991 - val_acc: 0.8465\n",
      "\n",
      "Epoch 00041: val_loss improved from 0.50435 to 0.49910, saving model to leafnet.h5\n",
      "Epoch 42/400\n",
      "24692/24692 [==============================] - 15s 624us/step - loss: 0.4038 - acc: 0.8617 - val_loss: 0.5241 - val_acc: 0.8409\n",
      "\n",
      "Epoch 00042: val_loss did not improve from 0.49910\n",
      "Epoch 43/400\n",
      "24692/24692 [==============================] - 15s 622us/step - loss: 0.3894 - acc: 0.8657 - val_loss: 0.5002 - val_acc: 0.8500\n",
      "\n",
      "Epoch 00043: val_loss did not improve from 0.49910\n",
      "Epoch 44/400\n",
      "24692/24692 [==============================] - 15s 621us/step - loss: 0.3833 - acc: 0.8680 - val_loss: 0.4914 - val_acc: 0.8520\n",
      "\n",
      "Epoch 00044: val_loss improved from 0.49910 to 0.49141, saving model to leafnet.h5\n",
      "Epoch 45/400\n",
      "24692/24692 [==============================] - 15s 625us/step - loss: 0.3803 - acc: 0.8713 - val_loss: 0.4787 - val_acc: 0.8584\n",
      "\n",
      "Epoch 00045: val_loss improved from 0.49141 to 0.47873, saving model to leafnet.h5\n",
      "Epoch 46/400\n",
      "24692/24692 [==============================] - 15s 624us/step - loss: 0.3787 - acc: 0.8711 - val_loss: 0.4762 - val_acc: 0.8562\n",
      "\n",
      "Epoch 00046: val_loss improved from 0.47873 to 0.47618, saving model to leafnet.h5\n",
      "Epoch 47/400\n",
      "24692/24692 [==============================] - 15s 624us/step - loss: 0.3664 - acc: 0.8741 - val_loss: 0.4888 - val_acc: 0.8529\n",
      "\n",
      "Epoch 00047: val_loss did not improve from 0.47618\n",
      "Epoch 48/400\n",
      "24692/24692 [==============================] - 15s 620us/step - loss: 0.3588 - acc: 0.8749 - val_loss: 0.4732 - val_acc: 0.8571\n",
      "\n",
      "Epoch 00048: val_loss improved from 0.47618 to 0.47319, saving model to leafnet.h5\n",
      "Epoch 49/400\n",
      "24692/24692 [==============================] - 15s 625us/step - loss: 0.3550 - acc: 0.8776 - val_loss: 0.4671 - val_acc: 0.8597\n",
      "\n",
      "Epoch 00049: val_loss improved from 0.47319 to 0.46707, saving model to leafnet.h5\n",
      "Epoch 50/400\n",
      "24692/24692 [==============================] - 15s 623us/step - loss: 0.3631 - acc: 0.8757 - val_loss: 0.4718 - val_acc: 0.8607\n",
      "\n",
      "Epoch 00050: val_loss did not improve from 0.46707\n",
      "Epoch 51/400\n",
      "24692/24692 [==============================] - 15s 619us/step - loss: 0.3594 - acc: 0.8779 - val_loss: 0.4849 - val_acc: 0.8565\n",
      "\n",
      "Epoch 00051: val_loss did not improve from 0.46707\n",
      "Epoch 52/400\n",
      "24692/24692 [==============================] - 15s 618us/step - loss: 0.3307 - acc: 0.8842 - val_loss: 0.4812 - val_acc: 0.8626\n",
      "\n",
      "Epoch 00052: val_loss did not improve from 0.46707\n",
      "Epoch 53/400\n",
      "24692/24692 [==============================] - 15s 620us/step - loss: 0.3389 - acc: 0.8811 - val_loss: 0.4639 - val_acc: 0.8649\n",
      "\n",
      "Epoch 00053: val_loss improved from 0.46707 to 0.46392, saving model to leafnet.h5\n",
      "Epoch 54/400\n",
      "24692/24692 [==============================] - 15s 623us/step - loss: 0.3352 - acc: 0.8838 - val_loss: 0.4645 - val_acc: 0.8607\n",
      "\n",
      "Epoch 00054: val_loss did not improve from 0.46392\n",
      "Epoch 55/400\n",
      "24692/24692 [==============================] - 15s 617us/step - loss: 0.3320 - acc: 0.8852 - val_loss: 0.4661 - val_acc: 0.8610\n",
      "\n",
      "Epoch 00055: val_loss did not improve from 0.46392\n",
      "Epoch 56/400\n",
      "24692/24692 [==============================] - 15s 618us/step - loss: 0.3318 - acc: 0.8844 - val_loss: 0.4738 - val_acc: 0.8578\n",
      "\n",
      "Epoch 00056: val_loss did not improve from 0.46392\n",
      "Epoch 57/400\n",
      "24692/24692 [==============================] - 15s 618us/step - loss: 0.3373 - acc: 0.8843 - val_loss: 0.4473 - val_acc: 0.8623\n",
      "\n",
      "Epoch 00057: val_loss improved from 0.46392 to 0.44732, saving model to leafnet.h5\n",
      "Epoch 58/400\n",
      "24692/24692 [==============================] - 15s 625us/step - loss: 0.3247 - acc: 0.8894 - val_loss: 0.4668 - val_acc: 0.8552\n",
      "\n",
      "Epoch 00058: val_loss did not improve from 0.44732\n",
      "Epoch 59/400\n",
      "24692/24692 [==============================] - 15s 623us/step - loss: 0.3220 - acc: 0.8890 - val_loss: 0.4612 - val_acc: 0.8610\n",
      "\n",
      "Epoch 00059: val_loss did not improve from 0.44732\n",
      "Epoch 60/400\n",
      "24692/24692 [==============================] - 15s 620us/step - loss: 0.3162 - acc: 0.8897 - val_loss: 0.4695 - val_acc: 0.8578\n",
      "\n",
      "Epoch 00060: val_loss did not improve from 0.44732\n",
      "Epoch 61/400\n",
      "24692/24692 [==============================] - 15s 616us/step - loss: 0.3096 - acc: 0.8934 - val_loss: 0.4611 - val_acc: 0.8643\n",
      "\n",
      "Epoch 00061: val_loss did not improve from 0.44732\n",
      "Epoch 62/400\n",
      "24692/24692 [==============================] - 15s 618us/step - loss: 0.3052 - acc: 0.8943 - val_loss: 0.4606 - val_acc: 0.8643\n",
      "\n",
      "Epoch 00062: val_loss did not improve from 0.44732\n",
      "Epoch 63/400\n",
      "24692/24692 [==============================] - 15s 616us/step - loss: 0.2944 - acc: 0.8985 - val_loss: 0.4405 - val_acc: 0.8656\n",
      "\n",
      "Epoch 00063: val_loss improved from 0.44732 to 0.44055, saving model to leafnet.h5\n",
      "Epoch 64/400\n",
      "24692/24692 [==============================] - 15s 621us/step - loss: 0.2984 - acc: 0.8962 - val_loss: 0.4521 - val_acc: 0.8698\n",
      "\n",
      "Epoch 00064: val_loss did not improve from 0.44055\n",
      "Epoch 65/400\n",
      "24692/24692 [==============================] - 15s 618us/step - loss: 0.2979 - acc: 0.8962 - val_loss: 0.4570 - val_acc: 0.8753\n",
      "\n",
      "Epoch 00065: val_loss did not improve from 0.44055\n",
      "Epoch 66/400\n",
      "24692/24692 [==============================] - 15s 618us/step - loss: 0.2927 - acc: 0.8974 - val_loss: 0.4376 - val_acc: 0.8685\n",
      "\n",
      "Epoch 00066: val_loss improved from 0.44055 to 0.43757, saving model to leafnet.h5\n",
      "Epoch 67/400\n",
      "24692/24692 [==============================] - 15s 623us/step - loss: 0.2923 - acc: 0.9000 - val_loss: 0.4541 - val_acc: 0.8626\n",
      "\n",
      "Epoch 00067: val_loss did not improve from 0.43757\n",
      "Epoch 68/400\n",
      "24692/24692 [==============================] - 15s 619us/step - loss: 0.2933 - acc: 0.8973 - val_loss: 0.4440 - val_acc: 0.8695\n",
      "\n",
      "Epoch 00068: val_loss did not improve from 0.43757\n",
      "Epoch 69/400\n",
      "24692/24692 [==============================] - 15s 618us/step - loss: 0.2854 - acc: 0.9013 - val_loss: 0.4543 - val_acc: 0.8649\n",
      "\n",
      "Epoch 00069: val_loss did not improve from 0.43757\n",
      "Epoch 70/400\n",
      "24692/24692 [==============================] - 15s 616us/step - loss: 0.2911 - acc: 0.8984 - val_loss: 0.4410 - val_acc: 0.8682\n",
      "\n",
      "Epoch 00070: val_loss did not improve from 0.43757\n",
      "Epoch 71/400\n",
      "24692/24692 [==============================] - 15s 616us/step - loss: 0.2750 - acc: 0.9048 - val_loss: 0.4437 - val_acc: 0.8704\n",
      "\n",
      "Epoch 00071: val_loss did not improve from 0.43757\n",
      "Epoch 72/400\n",
      "24692/24692 [==============================] - 15s 619us/step - loss: 0.2697 - acc: 0.9080 - val_loss: 0.4422 - val_acc: 0.8743\n",
      "\n",
      "Epoch 00072: val_loss did not improve from 0.43757\n",
      "Epoch 73/400\n",
      "24692/24692 [==============================] - 15s 619us/step - loss: 0.2874 - acc: 0.9011 - val_loss: 0.4291 - val_acc: 0.8707\n",
      "\n",
      "Epoch 00073: val_loss improved from 0.43757 to 0.42910, saving model to leafnet.h5\n",
      "Epoch 74/400\n",
      "24692/24692 [==============================] - 15s 622us/step - loss: 0.2715 - acc: 0.9074 - val_loss: 0.4446 - val_acc: 0.8743\n",
      "\n",
      "Epoch 00074: val_loss did not improve from 0.42910\n",
      "Epoch 75/400\n",
      "24692/24692 [==============================] - 15s 619us/step - loss: 0.2628 - acc: 0.9088 - val_loss: 0.4388 - val_acc: 0.8743\n",
      "\n",
      "Epoch 00075: val_loss did not improve from 0.42910\n",
      "Epoch 76/400\n",
      "24692/24692 [==============================] - 15s 619us/step - loss: 0.2644 - acc: 0.9092 - val_loss: 0.4391 - val_acc: 0.8724\n",
      "\n",
      "Epoch 00076: val_loss did not improve from 0.42910\n",
      "Epoch 77/400\n",
      "24692/24692 [==============================] - 15s 617us/step - loss: 0.2618 - acc: 0.9086 - val_loss: 0.4486 - val_acc: 0.8727\n",
      "\n",
      "Epoch 00077: val_loss did not improve from 0.42910\n",
      "Epoch 78/400\n",
      "24692/24692 [==============================] - 15s 619us/step - loss: 0.2665 - acc: 0.9081 - val_loss: 0.4567 - val_acc: 0.8678\n",
      "\n",
      "Epoch 00078: val_loss did not improve from 0.42910\n",
      "Epoch 79/400\n",
      "24692/24692 [==============================] - 15s 621us/step - loss: 0.2582 - acc: 0.9115 - val_loss: 0.4272 - val_acc: 0.8750\n",
      "\n",
      "Epoch 00079: val_loss improved from 0.42910 to 0.42723, saving model to leafnet.h5\n",
      "Epoch 80/400\n",
      "24692/24692 [==============================] - 15s 622us/step - loss: 0.2602 - acc: 0.9105 - val_loss: 0.4531 - val_acc: 0.8756\n",
      "\n",
      "Epoch 00080: val_loss did not improve from 0.42723\n",
      "Epoch 81/400\n",
      "24692/24692 [==============================] - 15s 617us/step - loss: 0.2604 - acc: 0.9090 - val_loss: 0.4442 - val_acc: 0.8682\n",
      "\n",
      "Epoch 00081: val_loss did not improve from 0.42723\n",
      "Epoch 82/400\n",
      "24692/24692 [==============================] - 15s 617us/step - loss: 0.2554 - acc: 0.9105 - val_loss: 0.4238 - val_acc: 0.8782\n",
      "\n",
      "Epoch 00082: val_loss improved from 0.42723 to 0.42377, saving model to leafnet.h5\n",
      "Epoch 83/400\n",
      "24692/24692 [==============================] - 15s 622us/step - loss: 0.2530 - acc: 0.9129 - val_loss: 0.4370 - val_acc: 0.8714\n",
      "\n",
      "Epoch 00083: val_loss did not improve from 0.42377\n",
      "Epoch 84/400\n",
      "24692/24692 [==============================] - 15s 617us/step - loss: 0.2482 - acc: 0.9122 - val_loss: 0.4541 - val_acc: 0.8711\n",
      "\n",
      "Epoch 00084: val_loss did not improve from 0.42377\n",
      "Epoch 85/400\n",
      "24692/24692 [==============================] - 15s 618us/step - loss: 0.2470 - acc: 0.9133 - val_loss: 0.4295 - val_acc: 0.8746\n",
      "\n",
      "Epoch 00085: val_loss did not improve from 0.42377\n",
      "Epoch 86/400\n",
      "24692/24692 [==============================] - 15s 616us/step - loss: 0.2498 - acc: 0.9135 - val_loss: 0.4426 - val_acc: 0.8665\n",
      "\n",
      "Epoch 00086: val_loss did not improve from 0.42377\n",
      "Epoch 87/400\n",
      "24692/24692 [==============================] - 15s 617us/step - loss: 0.2455 - acc: 0.9147 - val_loss: 0.4252 - val_acc: 0.8776\n",
      "\n",
      "Epoch 00087: val_loss did not improve from 0.42377\n",
      "Epoch 88/400\n",
      "24692/24692 [==============================] - 15s 618us/step - loss: 0.2416 - acc: 0.9168 - val_loss: 0.4330 - val_acc: 0.8740\n",
      "\n",
      "Epoch 00088: val_loss did not improve from 0.42377\n",
      "Epoch 89/400\n",
      "24692/24692 [==============================] - 15s 617us/step - loss: 0.2436 - acc: 0.9154 - val_loss: 0.4309 - val_acc: 0.8801\n",
      "\n",
      "Epoch 00089: val_loss did not improve from 0.42377\n",
      "Epoch 90/400\n",
      "24692/24692 [==============================] - 15s 617us/step - loss: 0.2368 - acc: 0.9171 - val_loss: 0.4391 - val_acc: 0.8805\n",
      "\n",
      "Epoch 00090: val_loss did not improve from 0.42377\n",
      "Epoch 91/400\n",
      "24692/24692 [==============================] - 15s 619us/step - loss: 0.2438 - acc: 0.9142 - val_loss: 0.4490 - val_acc: 0.8733\n",
      "\n",
      "Epoch 00091: val_loss did not improve from 0.42377\n",
      "Epoch 92/400\n",
      "24692/24692 [==============================] - 15s 615us/step - loss: 0.2393 - acc: 0.9180 - val_loss: 0.4358 - val_acc: 0.8743\n",
      "\n",
      "Epoch 00092: val_loss did not improve from 0.42377\n",
      "Epoch 93/400\n",
      "24692/24692 [==============================] - 15s 616us/step - loss: 0.2379 - acc: 0.9177 - val_loss: 0.4397 - val_acc: 0.8727\n",
      "\n",
      "Epoch 00093: val_loss did not improve from 0.42377\n",
      "Epoch 94/400\n",
      "24692/24692 [==============================] - 15s 616us/step - loss: 0.2344 - acc: 0.9195 - val_loss: 0.4355 - val_acc: 0.8759\n",
      "\n",
      "Epoch 00094: val_loss did not improve from 0.42377\n",
      "Epoch 95/400\n",
      "24692/24692 [==============================] - 15s 618us/step - loss: 0.2384 - acc: 0.9194 - val_loss: 0.4337 - val_acc: 0.8750\n",
      "\n",
      "Epoch 00095: val_loss did not improve from 0.42377\n",
      "Epoch 96/400\n",
      "24692/24692 [==============================] - 15s 618us/step - loss: 0.2356 - acc: 0.9176 - val_loss: 0.4262 - val_acc: 0.8763\n",
      "\n",
      "Epoch 00096: val_loss did not improve from 0.42377\n",
      "Epoch 97/400\n",
      "24692/24692 [==============================] - 15s 616us/step - loss: 0.2226 - acc: 0.9231 - val_loss: 0.4377 - val_acc: 0.8730\n",
      "\n",
      "Epoch 00097: val_loss did not improve from 0.42377\n",
      "Epoch 98/400\n",
      "24692/24692 [==============================] - 15s 619us/step - loss: 0.2278 - acc: 0.9200 - val_loss: 0.4488 - val_acc: 0.8678\n",
      "\n",
      "Epoch 00098: val_loss did not improve from 0.42377\n",
      "Epoch 99/400\n",
      "24692/24692 [==============================] - 15s 625us/step - loss: 0.2257 - acc: 0.9196 - val_loss: 0.4339 - val_acc: 0.8730\n",
      "\n",
      "Epoch 00099: val_loss did not improve from 0.42377\n",
      "Epoch 100/400\n",
      "24692/24692 [==============================] - 15s 619us/step - loss: 0.2284 - acc: 0.9219 - val_loss: 0.4309 - val_acc: 0.8779\n",
      "\n",
      "Epoch 00100: val_loss did not improve from 0.42377\n",
      "Epoch 101/400\n",
      "24692/24692 [==============================] - 15s 616us/step - loss: 0.2229 - acc: 0.9220 - val_loss: 0.4240 - val_acc: 0.8782\n",
      "\n",
      "Epoch 00101: val_loss did not improve from 0.42377\n",
      "Epoch 102/400\n",
      "24692/24692 [==============================] - 15s 620us/step - loss: 0.2284 - acc: 0.9211 - val_loss: 0.4179 - val_acc: 0.8798\n",
      "\n",
      "Epoch 00102: val_loss improved from 0.42377 to 0.41789, saving model to leafnet.h5\n",
      "Epoch 103/400\n",
      "24692/24692 [==============================] - 15s 623us/step - loss: 0.2174 - acc: 0.9248 - val_loss: 0.4244 - val_acc: 0.8743\n",
      "\n",
      "Epoch 00103: val_loss did not improve from 0.41789\n",
      "Epoch 104/400\n",
      "24692/24692 [==============================] - 15s 617us/step - loss: 0.2153 - acc: 0.9236 - val_loss: 0.4250 - val_acc: 0.8798\n",
      "\n",
      "Epoch 00104: val_loss did not improve from 0.41789\n",
      "Epoch 105/400\n",
      "24692/24692 [==============================] - 15s 619us/step - loss: 0.2287 - acc: 0.9218 - val_loss: 0.4204 - val_acc: 0.8753\n",
      "\n",
      "Epoch 00105: val_loss did not improve from 0.41789\n",
      "Epoch 106/400\n",
      "24692/24692 [==============================] - 15s 618us/step - loss: 0.2085 - acc: 0.9256 - val_loss: 0.4230 - val_acc: 0.8756\n",
      "\n",
      "Epoch 00106: val_loss did not improve from 0.41789\n",
      "Epoch 107/400\n",
      "24692/24692 [==============================] - 15s 618us/step - loss: 0.2147 - acc: 0.9248 - val_loss: 0.4291 - val_acc: 0.8763\n",
      "\n",
      "Epoch 00107: val_loss did not improve from 0.41789\n",
      "Epoch 108/400\n",
      "24692/24692 [==============================] - 15s 619us/step - loss: 0.2155 - acc: 0.9244 - val_loss: 0.4110 - val_acc: 0.8827\n",
      "\n",
      "Epoch 00108: val_loss improved from 0.41789 to 0.41101, saving model to leafnet.h5\n",
      "Epoch 109/400\n",
      "24692/24692 [==============================] - 15s 620us/step - loss: 0.2172 - acc: 0.9251 - val_loss: 0.4111 - val_acc: 0.8746\n",
      "\n",
      "Epoch 00109: val_loss did not improve from 0.41101\n",
      "Epoch 110/400\n",
      "24692/24692 [==============================] - 15s 617us/step - loss: 0.2198 - acc: 0.9248 - val_loss: 0.4307 - val_acc: 0.8746\n",
      "\n",
      "Epoch 00110: val_loss did not improve from 0.41101\n",
      "Epoch 111/400\n",
      "24692/24692 [==============================] - 15s 618us/step - loss: 0.2133 - acc: 0.9262 - val_loss: 0.4030 - val_acc: 0.8853\n",
      "\n",
      "Epoch 00111: val_loss improved from 0.41101 to 0.40304, saving model to leafnet.h5\n",
      "Epoch 112/400\n",
      "24692/24692 [==============================] - 15s 622us/step - loss: 0.2058 - acc: 0.9268 - val_loss: 0.4240 - val_acc: 0.8798\n",
      "\n",
      "Epoch 00112: val_loss did not improve from 0.40304\n",
      "Epoch 113/400\n",
      "24692/24692 [==============================] - 15s 619us/step - loss: 0.2115 - acc: 0.9268 - val_loss: 0.4518 - val_acc: 0.8766\n",
      "\n",
      "Epoch 00113: val_loss did not improve from 0.40304\n",
      "Epoch 114/400\n",
      "24692/24692 [==============================] - 15s 618us/step - loss: 0.2116 - acc: 0.9278 - val_loss: 0.4293 - val_acc: 0.8779\n",
      "\n",
      "Epoch 00114: val_loss did not improve from 0.40304\n",
      "Epoch 115/400\n",
      "24692/24692 [==============================] - 15s 616us/step - loss: 0.2055 - acc: 0.9276 - val_loss: 0.4087 - val_acc: 0.8827\n",
      "\n",
      "Epoch 00115: val_loss did not improve from 0.40304\n",
      "Epoch 116/400\n",
      "24692/24692 [==============================] - 15s 618us/step - loss: 0.2041 - acc: 0.9304 - val_loss: 0.4210 - val_acc: 0.8808\n",
      "\n",
      "Epoch 00116: val_loss did not improve from 0.40304\n",
      "Epoch 117/400\n",
      "24692/24692 [==============================] - 15s 616us/step - loss: 0.2114 - acc: 0.9252 - val_loss: 0.4278 - val_acc: 0.8805\n",
      "\n",
      "Epoch 00117: val_loss did not improve from 0.40304\n",
      "Epoch 118/400\n",
      "24692/24692 [==============================] - 15s 619us/step - loss: 0.2020 - acc: 0.9293 - val_loss: 0.4218 - val_acc: 0.8824\n",
      "\n",
      "Epoch 00118: val_loss did not improve from 0.40304\n",
      "Epoch 119/400\n",
      "24692/24692 [==============================] - 15s 622us/step - loss: 0.2011 - acc: 0.9290 - val_loss: 0.4312 - val_acc: 0.8788\n",
      "\n",
      "Epoch 00119: val_loss did not improve from 0.40304\n",
      "Epoch 120/400\n",
      "24692/24692 [==============================] - 15s 622us/step - loss: 0.1996 - acc: 0.9291 - val_loss: 0.4291 - val_acc: 0.8788\n",
      "\n",
      "Epoch 00120: val_loss did not improve from 0.40304\n",
      "Epoch 121/400\n",
      "24692/24692 [==============================] - 15s 618us/step - loss: 0.2052 - acc: 0.9279 - val_loss: 0.4445 - val_acc: 0.8805\n",
      "\n",
      "Epoch 00121: val_loss did not improve from 0.40304\n",
      "Epoch 122/400\n",
      "24692/24692 [==============================] - 15s 619us/step - loss: 0.2049 - acc: 0.9295 - val_loss: 0.4424 - val_acc: 0.8811\n",
      "\n",
      "Epoch 00122: val_loss did not improve from 0.40304\n",
      "Epoch 123/400\n",
      "24692/24692 [==============================] - 15s 621us/step - loss: 0.2130 - acc: 0.9264 - val_loss: 0.4549 - val_acc: 0.8733\n",
      "\n",
      "Epoch 00123: val_loss did not improve from 0.40304\n",
      "Epoch 124/400\n",
      "24692/24692 [==============================] - 15s 619us/step - loss: 0.2036 - acc: 0.9288 - val_loss: 0.4136 - val_acc: 0.8763\n",
      "\n",
      "Epoch 00124: val_loss did not improve from 0.40304\n",
      "Epoch 125/400\n",
      "24692/24692 [==============================] - 15s 621us/step - loss: 0.1952 - acc: 0.9314 - val_loss: 0.4104 - val_acc: 0.8834\n",
      "\n",
      "Epoch 00125: val_loss did not improve from 0.40304\n",
      "Epoch 126/400\n",
      "24692/24692 [==============================] - 15s 619us/step - loss: 0.1979 - acc: 0.9308 - val_loss: 0.4084 - val_acc: 0.8814\n",
      "\n",
      "Epoch 00126: val_loss did not improve from 0.40304\n",
      "Epoch 127/400\n",
      "24692/24692 [==============================] - 15s 618us/step - loss: 0.1920 - acc: 0.9327 - val_loss: 0.4202 - val_acc: 0.8808\n",
      "\n",
      "Epoch 00127: val_loss did not improve from 0.40304\n",
      "Epoch 128/400\n",
      "24692/24692 [==============================] - 15s 618us/step - loss: 0.1913 - acc: 0.9323 - val_loss: 0.4227 - val_acc: 0.8763\n",
      "\n",
      "Epoch 00128: val_loss did not improve from 0.40304\n",
      "Epoch 129/400\n",
      "24692/24692 [==============================] - 15s 621us/step - loss: 0.1894 - acc: 0.9339 - val_loss: 0.4233 - val_acc: 0.8763\n",
      "\n",
      "Epoch 00129: val_loss did not improve from 0.40304\n",
      "Epoch 130/400\n",
      "24692/24692 [==============================] - 15s 618us/step - loss: 0.1994 - acc: 0.9297 - val_loss: 0.4238 - val_acc: 0.8798\n",
      "\n",
      "Epoch 00130: val_loss did not improve from 0.40304\n",
      "Epoch 131/400\n",
      "24692/24692 [==============================] - 15s 618us/step - loss: 0.1876 - acc: 0.9341 - val_loss: 0.4460 - val_acc: 0.8772\n",
      "\n",
      "Epoch 00131: val_loss did not improve from 0.40304\n",
      "Epoch 132/400\n",
      "24692/24692 [==============================] - 15s 619us/step - loss: 0.1972 - acc: 0.9307 - val_loss: 0.4343 - val_acc: 0.8818\n",
      "\n",
      "Epoch 00132: val_loss did not improve from 0.40304\n",
      "Epoch 133/400\n",
      "24692/24692 [==============================] - 15s 620us/step - loss: 0.1895 - acc: 0.9346 - val_loss: 0.4451 - val_acc: 0.8776\n",
      "\n",
      "Epoch 00133: val_loss did not improve from 0.40304\n",
      "Epoch 134/400\n",
      "24692/24692 [==============================] - 15s 621us/step - loss: 0.2004 - acc: 0.9289 - val_loss: 0.4462 - val_acc: 0.8772\n",
      "\n",
      "Epoch 00134: val_loss did not improve from 0.40304\n",
      "Epoch 135/400\n",
      "24692/24692 [==============================] - 15s 621us/step - loss: 0.1875 - acc: 0.9349 - val_loss: 0.4444 - val_acc: 0.8763\n",
      "\n",
      "Epoch 00135: val_loss did not improve from 0.40304\n",
      "Epoch 136/400\n",
      "24692/24692 [==============================] - 15s 618us/step - loss: 0.1904 - acc: 0.9327 - val_loss: 0.4367 - val_acc: 0.8844\n",
      "\n",
      "Epoch 00136: val_loss did not improve from 0.40304\n",
      "Epoch 137/400\n",
      "24692/24692 [==============================] - 15s 619us/step - loss: 0.1818 - acc: 0.9357 - val_loss: 0.4294 - val_acc: 0.8821\n",
      "\n",
      "Epoch 00137: val_loss did not improve from 0.40304\n",
      "Epoch 138/400\n",
      "24692/24692 [==============================] - 15s 619us/step - loss: 0.1868 - acc: 0.9343 - val_loss: 0.4239 - val_acc: 0.8821\n",
      "\n",
      "Epoch 00138: val_loss did not improve from 0.40304\n",
      "Epoch 139/400\n",
      "24692/24692 [==============================] - 15s 621us/step - loss: 0.1806 - acc: 0.9357 - val_loss: 0.4237 - val_acc: 0.8776\n",
      "\n",
      "Epoch 00139: val_loss did not improve from 0.40304\n",
      "Epoch 140/400\n",
      "24692/24692 [==============================] - 15s 623us/step - loss: 0.1870 - acc: 0.9350 - val_loss: 0.4247 - val_acc: 0.8766\n",
      "\n",
      "Epoch 00140: val_loss did not improve from 0.40304\n",
      "Epoch 141/400\n",
      "24692/24692 [==============================] - 15s 617us/step - loss: 0.1883 - acc: 0.9339 - val_loss: 0.4252 - val_acc: 0.8824\n",
      "\n",
      "Epoch 00141: val_loss did not improve from 0.40304\n",
      "Epoch 142/400\n",
      "24692/24692 [==============================] - 15s 621us/step - loss: 0.1867 - acc: 0.9333 - val_loss: 0.4205 - val_acc: 0.8827\n",
      "\n",
      "Epoch 00142: val_loss did not improve from 0.40304\n",
      "Epoch 143/400\n",
      "24692/24692 [==============================] - 15s 618us/step - loss: 0.1821 - acc: 0.9363 - val_loss: 0.4455 - val_acc: 0.8808\n",
      "\n",
      "Epoch 00143: val_loss did not improve from 0.40304\n",
      "Epoch 144/400\n",
      "24692/24692 [==============================] - 15s 619us/step - loss: 0.1889 - acc: 0.9327 - val_loss: 0.4144 - val_acc: 0.8779\n",
      "\n",
      "Epoch 00144: val_loss did not improve from 0.40304\n",
      "Epoch 145/400\n",
      "24692/24692 [==============================] - 15s 619us/step - loss: 0.1823 - acc: 0.9349 - val_loss: 0.4433 - val_acc: 0.8795\n",
      "\n",
      "Epoch 00145: val_loss did not improve from 0.40304\n",
      "Epoch 146/400\n",
      "24692/24692 [==============================] - 15s 618us/step - loss: 0.1774 - acc: 0.9382 - val_loss: 0.4134 - val_acc: 0.8834\n",
      "\n",
      "Epoch 00146: val_loss did not improve from 0.40304\n",
      "Epoch 147/400\n",
      "24692/24692 [==============================] - 15s 618us/step - loss: 0.1724 - acc: 0.9394 - val_loss: 0.4320 - val_acc: 0.8844\n",
      "\n",
      "Epoch 00147: val_loss did not improve from 0.40304\n",
      "Epoch 148/400\n",
      "24692/24692 [==============================] - 15s 618us/step - loss: 0.1802 - acc: 0.9363 - val_loss: 0.4260 - val_acc: 0.8834\n",
      "\n",
      "Epoch 00148: val_loss did not improve from 0.40304\n",
      "Epoch 149/400\n",
      "24692/24692 [==============================] - 15s 618us/step - loss: 0.1794 - acc: 0.9371 - val_loss: 0.4290 - val_acc: 0.8788\n",
      "\n",
      "Epoch 00149: val_loss did not improve from 0.40304\n",
      "Epoch 150/400\n",
      "24692/24692 [==============================] - 15s 619us/step - loss: 0.1784 - acc: 0.9388 - val_loss: 0.4285 - val_acc: 0.8863\n",
      "\n",
      "Epoch 00150: val_loss did not improve from 0.40304\n",
      "Epoch 151/400\n",
      "24692/24692 [==============================] - 15s 619us/step - loss: 0.1702 - acc: 0.9416 - val_loss: 0.4283 - val_acc: 0.8801\n",
      "\n",
      "Epoch 00151: val_loss did not improve from 0.40304\n",
      "Epoch 152/400\n",
      "24692/24692 [==============================] - 15s 617us/step - loss: 0.1791 - acc: 0.9367 - val_loss: 0.4329 - val_acc: 0.8801\n",
      "\n",
      "Epoch 00152: val_loss did not improve from 0.40304\n",
      "Epoch 153/400\n",
      "24692/24692 [==============================] - 15s 619us/step - loss: 0.1744 - acc: 0.9402 - val_loss: 0.4172 - val_acc: 0.8814\n",
      "\n",
      "Epoch 00153: val_loss did not improve from 0.40304\n",
      "Epoch 154/400\n",
      "24692/24692 [==============================] - 15s 618us/step - loss: 0.1771 - acc: 0.9388 - val_loss: 0.4237 - val_acc: 0.8840\n",
      "\n",
      "Epoch 00154: val_loss did not improve from 0.40304\n",
      "Epoch 155/400\n",
      "24692/24692 [==============================] - 15s 617us/step - loss: 0.1764 - acc: 0.9386 - val_loss: 0.4192 - val_acc: 0.8824\n",
      "\n",
      "Epoch 00155: val_loss did not improve from 0.40304\n",
      "Epoch 156/400\n",
      "24692/24692 [==============================] - 15s 619us/step - loss: 0.1731 - acc: 0.9406 - val_loss: 0.4246 - val_acc: 0.8824\n",
      "\n",
      "Epoch 00156: val_loss did not improve from 0.40304\n",
      "Epoch 157/400\n",
      "24692/24692 [==============================] - 15s 617us/step - loss: 0.1738 - acc: 0.9367 - val_loss: 0.4466 - val_acc: 0.8782\n",
      "\n",
      "Epoch 00157: val_loss did not improve from 0.40304\n",
      "Epoch 158/400\n",
      "24692/24692 [==============================] - 15s 617us/step - loss: 0.1790 - acc: 0.9373 - val_loss: 0.4133 - val_acc: 0.8928\n",
      "\n",
      "Epoch 00158: val_loss did not improve from 0.40304\n",
      "Epoch 159/400\n",
      "24692/24692 [==============================] - 15s 618us/step - loss: 0.1773 - acc: 0.9382 - val_loss: 0.4154 - val_acc: 0.8808\n",
      "\n",
      "Epoch 00159: val_loss did not improve from 0.40304\n",
      "Epoch 160/400\n",
      "24692/24692 [==============================] - 15s 623us/step - loss: 0.1687 - acc: 0.9401 - val_loss: 0.4142 - val_acc: 0.8847\n",
      "\n",
      "Epoch 00160: val_loss did not improve from 0.40304\n",
      "Epoch 161/400\n",
      "24692/24692 [==============================] - 15s 619us/step - loss: 0.1711 - acc: 0.9378 - val_loss: 0.4209 - val_acc: 0.8853\n",
      "\n",
      "Epoch 00161: val_loss did not improve from 0.40304\n",
      "Epoch 162/400\n",
      "24692/24692 [==============================] - 15s 619us/step - loss: 0.1758 - acc: 0.9390 - val_loss: 0.4128 - val_acc: 0.8827\n",
      "\n",
      "Epoch 00162: val_loss did not improve from 0.40304\n",
      "Epoch 163/400\n",
      "24692/24692 [==============================] - 15s 617us/step - loss: 0.1697 - acc: 0.9420 - val_loss: 0.4159 - val_acc: 0.8831\n",
      "\n",
      "Epoch 00163: val_loss did not improve from 0.40304\n",
      "Epoch 164/400\n",
      "24692/24692 [==============================] - 15s 617us/step - loss: 0.1613 - acc: 0.9412 - val_loss: 0.4264 - val_acc: 0.8853\n",
      "\n",
      "Epoch 00164: val_loss did not improve from 0.40304\n",
      "Epoch 165/400\n",
      "24692/24692 [==============================] - 15s 617us/step - loss: 0.1725 - acc: 0.9383 - val_loss: 0.4178 - val_acc: 0.8850\n",
      "\n",
      "Epoch 00165: val_loss did not improve from 0.40304\n",
      "Epoch 166/400\n",
      "24692/24692 [==============================] - 15s 616us/step - loss: 0.1684 - acc: 0.9409 - val_loss: 0.4347 - val_acc: 0.8821\n",
      "\n",
      "Epoch 00166: val_loss did not improve from 0.40304\n",
      "Epoch 167/400\n",
      "24692/24692 [==============================] - 15s 616us/step - loss: 0.1731 - acc: 0.9394 - val_loss: 0.4172 - val_acc: 0.8866\n",
      "\n",
      "Epoch 00167: val_loss did not improve from 0.40304\n",
      "Epoch 168/400\n",
      "24692/24692 [==============================] - 15s 616us/step - loss: 0.1632 - acc: 0.9413 - val_loss: 0.4174 - val_acc: 0.8863\n",
      "\n",
      "Epoch 00168: val_loss did not improve from 0.40304\n",
      "Epoch 169/400\n",
      "24692/24692 [==============================] - 15s 614us/step - loss: 0.1662 - acc: 0.9420 - val_loss: 0.4030 - val_acc: 0.8899\n",
      "\n",
      "Epoch 00169: val_loss improved from 0.40304 to 0.40301, saving model to leafnet.h5\n",
      "Epoch 170/400\n",
      "24692/24692 [==============================] - 15s 622us/step - loss: 0.1710 - acc: 0.9431 - val_loss: 0.4196 - val_acc: 0.8899\n",
      "\n",
      "Epoch 00170: val_loss did not improve from 0.40301\n",
      "Epoch 171/400\n",
      "24692/24692 [==============================] - 15s 616us/step - loss: 0.1711 - acc: 0.9416 - val_loss: 0.4058 - val_acc: 0.8889\n",
      "\n",
      "Epoch 00171: val_loss did not improve from 0.40301\n",
      "Epoch 172/400\n",
      "24692/24692 [==============================] - 15s 617us/step - loss: 0.1619 - acc: 0.9425 - val_loss: 0.4019 - val_acc: 0.8921\n",
      "\n",
      "Epoch 00172: val_loss improved from 0.40301 to 0.40189, saving model to leafnet.h5\n",
      "Epoch 173/400\n",
      "24692/24692 [==============================] - 15s 620us/step - loss: 0.1694 - acc: 0.9395 - val_loss: 0.4208 - val_acc: 0.8869\n",
      "\n",
      "Epoch 00173: val_loss did not improve from 0.40189\n",
      "Epoch 174/400\n",
      "24692/24692 [==============================] - 15s 617us/step - loss: 0.1679 - acc: 0.9412 - val_loss: 0.4264 - val_acc: 0.8824\n",
      "\n",
      "Epoch 00174: val_loss did not improve from 0.40189\n",
      "Epoch 175/400\n",
      "24692/24692 [==============================] - 15s 617us/step - loss: 0.1669 - acc: 0.9431 - val_loss: 0.4242 - val_acc: 0.8850\n",
      "\n",
      "Epoch 00175: val_loss did not improve from 0.40189\n",
      "Epoch 176/400\n",
      "24692/24692 [==============================] - 15s 616us/step - loss: 0.1660 - acc: 0.9425 - val_loss: 0.4124 - val_acc: 0.8912\n",
      "\n",
      "Epoch 00176: val_loss did not improve from 0.40189\n",
      "Epoch 177/400\n",
      "24692/24692 [==============================] - 15s 618us/step - loss: 0.1592 - acc: 0.9432 - val_loss: 0.4293 - val_acc: 0.8818\n",
      "\n",
      "Epoch 00177: val_loss did not improve from 0.40189\n",
      "Epoch 178/400\n",
      "24692/24692 [==============================] - 15s 618us/step - loss: 0.1681 - acc: 0.9406 - val_loss: 0.4131 - val_acc: 0.8892\n",
      "\n",
      "Epoch 00178: val_loss did not improve from 0.40189\n",
      "Epoch 179/400\n",
      "24692/24692 [==============================] - 15s 617us/step - loss: 0.1663 - acc: 0.9417 - val_loss: 0.4275 - val_acc: 0.8902\n",
      "\n",
      "Epoch 00179: val_loss did not improve from 0.40189\n",
      "Epoch 180/400\n",
      "24692/24692 [==============================] - 15s 621us/step - loss: 0.1552 - acc: 0.9470 - val_loss: 0.4388 - val_acc: 0.8818\n",
      "\n",
      "Epoch 00180: val_loss did not improve from 0.40189\n",
      "Epoch 181/400\n",
      "24692/24692 [==============================] - 15s 619us/step - loss: 0.1615 - acc: 0.9442 - val_loss: 0.4320 - val_acc: 0.8847\n",
      "\n",
      "Epoch 00181: val_loss did not improve from 0.40189\n",
      "Epoch 182/400\n",
      "24692/24692 [==============================] - 15s 616us/step - loss: 0.1601 - acc: 0.9440 - val_loss: 0.4424 - val_acc: 0.8840\n",
      "\n",
      "Epoch 00182: val_loss did not improve from 0.40189\n",
      "Epoch 183/400\n",
      "24692/24692 [==============================] - 15s 617us/step - loss: 0.1598 - acc: 0.9454 - val_loss: 0.4414 - val_acc: 0.8847\n",
      "\n",
      "Epoch 00183: val_loss did not improve from 0.40189\n",
      "Epoch 184/400\n",
      "24692/24692 [==============================] - 15s 617us/step - loss: 0.1631 - acc: 0.9425 - val_loss: 0.4149 - val_acc: 0.8886\n",
      "\n",
      "Epoch 00184: val_loss did not improve from 0.40189\n",
      "Epoch 185/400\n",
      "24692/24692 [==============================] - 15s 618us/step - loss: 0.1594 - acc: 0.9435 - val_loss: 0.4101 - val_acc: 0.8863\n",
      "\n",
      "Epoch 00185: val_loss did not improve from 0.40189\n",
      "Epoch 186/400\n",
      "24692/24692 [==============================] - 15s 616us/step - loss: 0.1594 - acc: 0.9432 - val_loss: 0.4131 - val_acc: 0.8863\n",
      "\n",
      "Epoch 00186: val_loss did not improve from 0.40189\n",
      "Epoch 187/400\n",
      "24692/24692 [==============================] - 15s 618us/step - loss: 0.1598 - acc: 0.9431 - val_loss: 0.4473 - val_acc: 0.8801\n",
      "\n",
      "Epoch 00187: val_loss did not improve from 0.40189\n",
      "Epoch 188/400\n",
      "24692/24692 [==============================] - 15s 618us/step - loss: 0.1571 - acc: 0.9453 - val_loss: 0.4460 - val_acc: 0.8840\n",
      "\n",
      "Epoch 00188: val_loss did not improve from 0.40189\n",
      "Epoch 189/400\n",
      "24692/24692 [==============================] - 15s 618us/step - loss: 0.1572 - acc: 0.9443 - val_loss: 0.4205 - val_acc: 0.8869\n",
      "\n",
      "Epoch 00189: val_loss did not improve from 0.40189\n",
      "Epoch 190/400\n",
      "24692/24692 [==============================] - 15s 617us/step - loss: 0.1578 - acc: 0.9433 - val_loss: 0.4322 - val_acc: 0.8831\n",
      "\n",
      "Epoch 00190: val_loss did not improve from 0.40189\n",
      "Epoch 191/400\n",
      "24692/24692 [==============================] - 15s 617us/step - loss: 0.1515 - acc: 0.9448 - val_loss: 0.4121 - val_acc: 0.8853\n",
      "\n",
      "Epoch 00191: val_loss did not improve from 0.40189\n",
      "Epoch 192/400\n",
      "24692/24692 [==============================] - 15s 616us/step - loss: 0.1620 - acc: 0.9437 - val_loss: 0.4558 - val_acc: 0.8801\n",
      "\n",
      "Epoch 00192: val_loss did not improve from 0.40189\n",
      "Epoch 193/400\n",
      "24692/24692 [==============================] - 15s 618us/step - loss: 0.1579 - acc: 0.9453 - val_loss: 0.4216 - val_acc: 0.8837\n",
      "\n",
      "Epoch 00193: val_loss did not improve from 0.40189\n",
      "Epoch 194/400\n",
      "24692/24692 [==============================] - 15s 619us/step - loss: 0.1521 - acc: 0.9468 - val_loss: 0.4522 - val_acc: 0.8879\n",
      "\n",
      "Epoch 00194: val_loss did not improve from 0.40189\n",
      "Epoch 195/400\n",
      "24692/24692 [==============================] - 15s 617us/step - loss: 0.1594 - acc: 0.9454 - val_loss: 0.4395 - val_acc: 0.8882\n",
      "\n",
      "Epoch 00195: val_loss did not improve from 0.40189\n",
      "Epoch 196/400\n",
      "24692/24692 [==============================] - 15s 618us/step - loss: 0.1612 - acc: 0.9429 - val_loss: 0.4155 - val_acc: 0.8847\n",
      "\n",
      "Epoch 00196: val_loss did not improve from 0.40189\n",
      "Epoch 197/400\n",
      "24692/24692 [==============================] - 15s 618us/step - loss: 0.1551 - acc: 0.9462 - val_loss: 0.4496 - val_acc: 0.8818\n",
      "\n",
      "Epoch 00197: val_loss did not improve from 0.40189\n",
      "Epoch 198/400\n",
      "24692/24692 [==============================] - 15s 617us/step - loss: 0.1598 - acc: 0.9438 - val_loss: 0.4262 - val_acc: 0.8889\n",
      "\n",
      "Epoch 00198: val_loss did not improve from 0.40189\n",
      "Epoch 199/400\n",
      "24692/24692 [==============================] - 15s 616us/step - loss: 0.1585 - acc: 0.9441 - val_loss: 0.4391 - val_acc: 0.8847\n",
      "\n",
      "Epoch 00199: val_loss did not improve from 0.40189\n",
      "Epoch 200/400\n",
      "24692/24692 [==============================] - 15s 619us/step - loss: 0.1531 - acc: 0.9444 - val_loss: 0.4188 - val_acc: 0.8850\n",
      "\n",
      "Epoch 00200: val_loss did not improve from 0.40189\n",
      "Epoch 201/400\n",
      "24692/24692 [==============================] - 15s 619us/step - loss: 0.1532 - acc: 0.9476 - val_loss: 0.4363 - val_acc: 0.8889\n",
      "\n",
      "Epoch 00201: val_loss did not improve from 0.40189\n",
      "Epoch 202/400\n",
      "24692/24692 [==============================] - 15s 618us/step - loss: 0.1494 - acc: 0.9474 - val_loss: 0.4528 - val_acc: 0.8850\n",
      "\n",
      "Epoch 00202: val_loss did not improve from 0.40189\n",
      "Epoch 203/400\n",
      "24692/24692 [==============================] - 15s 618us/step - loss: 0.1563 - acc: 0.9457 - val_loss: 0.4232 - val_acc: 0.8899\n",
      "\n",
      "Epoch 00203: val_loss did not improve from 0.40189\n",
      "Epoch 204/400\n",
      "24692/24692 [==============================] - 15s 618us/step - loss: 0.1524 - acc: 0.9472 - val_loss: 0.4152 - val_acc: 0.8869\n",
      "\n",
      "Epoch 00204: val_loss did not improve from 0.40189\n",
      "Epoch 205/400\n",
      "24692/24692 [==============================] - 15s 620us/step - loss: 0.1517 - acc: 0.9472 - val_loss: 0.4391 - val_acc: 0.8895\n",
      "\n",
      "Epoch 00205: val_loss did not improve from 0.40189\n",
      "Epoch 206/400\n",
      "24692/24692 [==============================] - 15s 619us/step - loss: 0.1496 - acc: 0.9484 - val_loss: 0.4185 - val_acc: 0.8902\n",
      "\n",
      "Epoch 00206: val_loss did not improve from 0.40189\n",
      "Epoch 207/400\n",
      "24692/24692 [==============================] - 15s 615us/step - loss: 0.1535 - acc: 0.9469 - val_loss: 0.4347 - val_acc: 0.8873\n",
      "\n",
      "Epoch 00207: val_loss did not improve from 0.40189\n",
      "Epoch 208/400\n",
      "24692/24692 [==============================] - 15s 617us/step - loss: 0.1468 - acc: 0.9493 - val_loss: 0.4544 - val_acc: 0.8860\n",
      "\n",
      "Epoch 00208: val_loss did not improve from 0.40189\n",
      "Epoch 209/400\n",
      "24692/24692 [==============================] - 15s 619us/step - loss: 0.1536 - acc: 0.9466 - val_loss: 0.4201 - val_acc: 0.8869\n",
      "\n",
      "Epoch 00209: val_loss did not improve from 0.40189\n",
      "Epoch 210/400\n",
      "24692/24692 [==============================] - 15s 619us/step - loss: 0.1528 - acc: 0.9467 - val_loss: 0.4163 - val_acc: 0.8889\n",
      "\n",
      "Epoch 00210: val_loss did not improve from 0.40189\n",
      "Epoch 211/400\n",
      "24692/24692 [==============================] - 15s 616us/step - loss: 0.1423 - acc: 0.9503 - val_loss: 0.4095 - val_acc: 0.8892\n",
      "\n",
      "Epoch 00211: val_loss did not improve from 0.40189\n",
      "Epoch 212/400\n",
      "24692/24692 [==============================] - 15s 619us/step - loss: 0.1415 - acc: 0.9489 - val_loss: 0.4206 - val_acc: 0.8889\n",
      "\n",
      "Epoch 00212: val_loss did not improve from 0.40189\n",
      "Epoch 213/400\n",
      "24692/24692 [==============================] - 15s 619us/step - loss: 0.1559 - acc: 0.9470 - val_loss: 0.4291 - val_acc: 0.8931\n",
      "\n",
      "Epoch 00213: val_loss did not improve from 0.40189\n",
      "Epoch 214/400\n",
      "24692/24692 [==============================] - 15s 617us/step - loss: 0.1551 - acc: 0.9465 - val_loss: 0.4282 - val_acc: 0.8889\n",
      "\n",
      "Epoch 00214: val_loss did not improve from 0.40189\n",
      "Epoch 215/400\n",
      "24692/24692 [==============================] - 15s 619us/step - loss: 0.1472 - acc: 0.9478 - val_loss: 0.4137 - val_acc: 0.8889\n",
      "\n",
      "Epoch 00215: val_loss did not improve from 0.40189\n",
      "Epoch 216/400\n",
      "24692/24692 [==============================] - 15s 618us/step - loss: 0.1527 - acc: 0.9471 - val_loss: 0.4482 - val_acc: 0.8866\n",
      "\n",
      "Epoch 00216: val_loss did not improve from 0.40189\n",
      "Epoch 217/400\n",
      "24692/24692 [==============================] - 15s 620us/step - loss: 0.1515 - acc: 0.9483 - val_loss: 0.4456 - val_acc: 0.8853\n",
      "\n",
      "Epoch 00217: val_loss did not improve from 0.40189\n",
      "Epoch 218/400\n",
      "24692/24692 [==============================] - 15s 617us/step - loss: 0.1441 - acc: 0.9484 - val_loss: 0.4449 - val_acc: 0.8879\n",
      "\n",
      "Epoch 00218: val_loss did not improve from 0.40189\n",
      "Epoch 219/400\n",
      "24692/24692 [==============================] - 15s 617us/step - loss: 0.1467 - acc: 0.9510 - val_loss: 0.4347 - val_acc: 0.8866\n",
      "\n",
      "Epoch 00219: val_loss did not improve from 0.40189\n",
      "Epoch 220/400\n",
      "24692/24692 [==============================] - 15s 617us/step - loss: 0.1470 - acc: 0.9473 - val_loss: 0.4450 - val_acc: 0.8908\n",
      "\n",
      "Epoch 00220: val_loss did not improve from 0.40189\n",
      "Epoch 221/400\n",
      "24692/24692 [==============================] - 15s 625us/step - loss: 0.1459 - acc: 0.9496 - val_loss: 0.4163 - val_acc: 0.8908\n",
      "\n",
      "Epoch 00221: val_loss did not improve from 0.40189\n",
      "Epoch 222/400\n",
      "24692/24692 [==============================] - 15s 618us/step - loss: 0.1445 - acc: 0.9503 - val_loss: 0.4358 - val_acc: 0.8905\n",
      "\n",
      "Epoch 00222: val_loss did not improve from 0.40189\n",
      "Epoch 223/400\n",
      "24692/24692 [==============================] - 15s 616us/step - loss: 0.1488 - acc: 0.9465 - val_loss: 0.4148 - val_acc: 0.8921\n",
      "\n",
      "Epoch 00223: val_loss did not improve from 0.40189\n",
      "Epoch 224/400\n",
      "24692/24692 [==============================] - 15s 618us/step - loss: 0.1404 - acc: 0.9500 - val_loss: 0.4312 - val_acc: 0.8908\n",
      "\n",
      "Epoch 00224: val_loss did not improve from 0.40189\n",
      "Epoch 225/400\n",
      "24692/24692 [==============================] - 15s 619us/step - loss: 0.1418 - acc: 0.9483 - val_loss: 0.4329 - val_acc: 0.8934\n",
      "\n",
      "Epoch 00225: val_loss did not improve from 0.40189\n",
      "Epoch 226/400\n",
      "24692/24692 [==============================] - 15s 618us/step - loss: 0.1476 - acc: 0.9485 - val_loss: 0.4314 - val_acc: 0.8912\n",
      "\n",
      "Epoch 00226: val_loss did not improve from 0.40189\n",
      "Epoch 227/400\n",
      "24692/24692 [==============================] - 15s 617us/step - loss: 0.1479 - acc: 0.9487 - val_loss: 0.4346 - val_acc: 0.8912\n",
      "\n",
      "Epoch 00227: val_loss did not improve from 0.40189\n",
      "Epoch 228/400\n",
      "24692/24692 [==============================] - 15s 616us/step - loss: 0.1523 - acc: 0.9488 - val_loss: 0.4412 - val_acc: 0.8902\n",
      "\n",
      "Epoch 00228: val_loss did not improve from 0.40189\n",
      "Epoch 229/400\n",
      "24692/24692 [==============================] - 15s 618us/step - loss: 0.1467 - acc: 0.9502 - val_loss: 0.4094 - val_acc: 0.8941\n",
      "\n",
      "Epoch 00229: val_loss did not improve from 0.40189\n",
      "Epoch 230/400\n",
      "24692/24692 [==============================] - 15s 617us/step - loss: 0.1443 - acc: 0.9499 - val_loss: 0.4387 - val_acc: 0.8853\n",
      "\n",
      "Epoch 00230: val_loss did not improve from 0.40189\n",
      "Epoch 231/400\n",
      "24692/24692 [==============================] - 15s 616us/step - loss: 0.1460 - acc: 0.9494 - val_loss: 0.4149 - val_acc: 0.8970\n",
      "\n",
      "Epoch 00231: val_loss did not improve from 0.40189\n",
      "Epoch 232/400\n",
      "24692/24692 [==============================] - 15s 618us/step - loss: 0.1467 - acc: 0.9491 - val_loss: 0.4487 - val_acc: 0.8840\n",
      "\n",
      "Epoch 00232: val_loss did not improve from 0.40189\n",
      "Epoch 233/400\n",
      "24692/24692 [==============================] - 15s 619us/step - loss: 0.1390 - acc: 0.9500 - val_loss: 0.4450 - val_acc: 0.8899\n",
      "\n",
      "Epoch 00233: val_loss did not improve from 0.40189\n",
      "Epoch 234/400\n",
      "24692/24692 [==============================] - 15s 617us/step - loss: 0.1406 - acc: 0.9508 - val_loss: 0.4530 - val_acc: 0.8937\n",
      "\n",
      "Epoch 00234: val_loss did not improve from 0.40189\n",
      "Epoch 235/400\n",
      "24692/24692 [==============================] - 15s 617us/step - loss: 0.1433 - acc: 0.9491 - val_loss: 0.4391 - val_acc: 0.8905\n",
      "\n",
      "Epoch 00235: val_loss did not improve from 0.40189\n",
      "Epoch 236/400\n",
      "24692/24692 [==============================] - 15s 618us/step - loss: 0.1432 - acc: 0.9497 - val_loss: 0.4177 - val_acc: 0.8928\n",
      "\n",
      "Epoch 00236: val_loss did not improve from 0.40189\n",
      "Epoch 237/400\n",
      "24692/24692 [==============================] - 15s 617us/step - loss: 0.1455 - acc: 0.9486 - val_loss: 0.4419 - val_acc: 0.8902\n",
      "\n",
      "Epoch 00237: val_loss did not improve from 0.40189\n",
      "Epoch 238/400\n",
      "24692/24692 [==============================] - 15s 618us/step - loss: 0.1423 - acc: 0.9514 - val_loss: 0.4156 - val_acc: 0.8954\n",
      "\n",
      "Epoch 00238: val_loss did not improve from 0.40189\n",
      "Epoch 239/400\n",
      "24692/24692 [==============================] - 15s 615us/step - loss: 0.1431 - acc: 0.9509 - val_loss: 0.4323 - val_acc: 0.8866\n",
      "\n",
      "Epoch 00239: val_loss did not improve from 0.40189\n",
      "Epoch 240/400\n",
      "24692/24692 [==============================] - 15s 620us/step - loss: 0.1431 - acc: 0.9502 - val_loss: 0.4221 - val_acc: 0.8934\n",
      "\n",
      "Epoch 00240: val_loss did not improve from 0.40189\n",
      "Epoch 241/400\n",
      "24692/24692 [==============================] - 15s 622us/step - loss: 0.1340 - acc: 0.9521 - val_loss: 0.4391 - val_acc: 0.8941\n",
      "\n",
      "Epoch 00241: val_loss did not improve from 0.40189\n",
      "Epoch 242/400\n",
      "24692/24692 [==============================] - 15s 620us/step - loss: 0.1382 - acc: 0.9520 - val_loss: 0.4187 - val_acc: 0.8856\n",
      "\n",
      "Epoch 00242: val_loss did not improve from 0.40189\n",
      "Epoch 243/400\n",
      "24692/24692 [==============================] - 15s 618us/step - loss: 0.1346 - acc: 0.9527 - val_loss: 0.4377 - val_acc: 0.8918\n",
      "\n",
      "Epoch 00243: val_loss did not improve from 0.40189\n",
      "Epoch 244/400\n",
      "24692/24692 [==============================] - 15s 615us/step - loss: 0.1437 - acc: 0.9495 - val_loss: 0.4472 - val_acc: 0.8912\n",
      "\n",
      "Epoch 00244: val_loss did not improve from 0.40189\n",
      "Epoch 245/400\n",
      "24692/24692 [==============================] - 15s 619us/step - loss: 0.1357 - acc: 0.9510 - val_loss: 0.4483 - val_acc: 0.8886\n",
      "\n",
      "Epoch 00245: val_loss did not improve from 0.40189\n",
      "Epoch 246/400\n",
      "24692/24692 [==============================] - 15s 615us/step - loss: 0.1374 - acc: 0.9548 - val_loss: 0.4242 - val_acc: 0.8937\n",
      "\n",
      "Epoch 00246: val_loss did not improve from 0.40189\n",
      "Epoch 247/400\n",
      "24692/24692 [==============================] - 15s 618us/step - loss: 0.1406 - acc: 0.9516 - val_loss: 0.4521 - val_acc: 0.8905\n",
      "\n",
      "Epoch 00247: val_loss did not improve from 0.40189\n",
      "Epoch 248/400\n",
      "24692/24692 [==============================] - 15s 617us/step - loss: 0.1332 - acc: 0.9535 - val_loss: 0.4192 - val_acc: 0.8902\n",
      "\n",
      "Epoch 00248: val_loss did not improve from 0.40189\n",
      "Epoch 249/400\n",
      "24692/24692 [==============================] - 15s 615us/step - loss: 0.1394 - acc: 0.9523 - val_loss: 0.4508 - val_acc: 0.8912\n",
      "\n",
      "Epoch 00249: val_loss did not improve from 0.40189\n",
      "Epoch 250/400\n",
      "24692/24692 [==============================] - 15s 617us/step - loss: 0.1422 - acc: 0.9511 - val_loss: 0.4211 - val_acc: 0.8937\n",
      "\n",
      "Epoch 00250: val_loss did not improve from 0.40189\n",
      "Epoch 251/400\n",
      "24692/24692 [==============================] - 15s 616us/step - loss: 0.1368 - acc: 0.9502 - val_loss: 0.4296 - val_acc: 0.8937\n",
      "\n",
      "Epoch 00251: val_loss did not improve from 0.40189\n",
      "Epoch 252/400\n",
      "24692/24692 [==============================] - 15s 620us/step - loss: 0.1372 - acc: 0.9524 - val_loss: 0.4439 - val_acc: 0.8876\n",
      "\n",
      "Epoch 00252: val_loss did not improve from 0.40189\n",
      "Epoch 253/400\n",
      "24692/24692 [==============================] - 15s 617us/step - loss: 0.1372 - acc: 0.9517 - val_loss: 0.4316 - val_acc: 0.8892\n",
      "\n",
      "Epoch 00253: val_loss did not improve from 0.40189\n",
      "Epoch 254/400\n",
      "24692/24692 [==============================] - 15s 616us/step - loss: 0.1381 - acc: 0.9535 - val_loss: 0.4371 - val_acc: 0.8899\n",
      "\n",
      "Epoch 00254: val_loss did not improve from 0.40189\n",
      "Epoch 255/400\n",
      "24692/24692 [==============================] - 15s 617us/step - loss: 0.1352 - acc: 0.9532 - val_loss: 0.4595 - val_acc: 0.8915\n",
      "\n",
      "Epoch 00255: val_loss did not improve from 0.40189\n",
      "Epoch 256/400\n",
      "24692/24692 [==============================] - 15s 616us/step - loss: 0.1393 - acc: 0.9513 - val_loss: 0.4446 - val_acc: 0.8931\n",
      "\n",
      "Epoch 00256: val_loss did not improve from 0.40189\n",
      "Epoch 257/400\n",
      "24692/24692 [==============================] - 15s 618us/step - loss: 0.1400 - acc: 0.9510 - val_loss: 0.4260 - val_acc: 0.8915\n",
      "\n",
      "Epoch 00257: val_loss did not improve from 0.40189\n",
      "Epoch 258/400\n",
      "24692/24692 [==============================] - 15s 617us/step - loss: 0.1396 - acc: 0.9525 - val_loss: 0.4451 - val_acc: 0.8912\n",
      "\n",
      "Epoch 00258: val_loss did not improve from 0.40189\n",
      "Epoch 259/400\n",
      "24692/24692 [==============================] - 15s 616us/step - loss: 0.1369 - acc: 0.9501 - val_loss: 0.4275 - val_acc: 0.8928\n",
      "\n",
      "Epoch 00259: val_loss did not improve from 0.40189\n",
      "Epoch 260/400\n",
      "24692/24692 [==============================] - 15s 617us/step - loss: 0.1349 - acc: 0.9518 - val_loss: 0.4180 - val_acc: 0.8937\n",
      "\n",
      "Epoch 00260: val_loss did not improve from 0.40189\n",
      "Epoch 261/400\n",
      "24692/24692 [==============================] - 15s 620us/step - loss: 0.1354 - acc: 0.9527 - val_loss: 0.4326 - val_acc: 0.8960\n",
      "\n",
      "Epoch 00261: val_loss did not improve from 0.40189\n",
      "Epoch 262/400\n",
      "24692/24692 [==============================] - 15s 624us/step - loss: 0.1384 - acc: 0.9520 - val_loss: 0.4460 - val_acc: 0.8915\n",
      "\n",
      "Epoch 00262: val_loss did not improve from 0.40189\n",
      "Epoch 263/400\n",
      "24692/24692 [==============================] - 15s 619us/step - loss: 0.1298 - acc: 0.9556 - val_loss: 0.4297 - val_acc: 0.8950\n",
      "\n",
      "Epoch 00263: val_loss did not improve from 0.40189\n",
      "Epoch 264/400\n",
      "24692/24692 [==============================] - 15s 620us/step - loss: 0.1349 - acc: 0.9529 - val_loss: 0.4269 - val_acc: 0.8963\n",
      "\n",
      "Epoch 00264: val_loss did not improve from 0.40189\n",
      "Epoch 265/400\n",
      "24692/24692 [==============================] - 15s 617us/step - loss: 0.1343 - acc: 0.9529 - val_loss: 0.4229 - val_acc: 0.8934\n",
      "\n",
      "Epoch 00265: val_loss did not improve from 0.40189\n",
      "Epoch 266/400\n",
      "24692/24692 [==============================] - 15s 617us/step - loss: 0.1353 - acc: 0.9523 - val_loss: 0.4270 - val_acc: 0.8931\n",
      "\n",
      "Epoch 00266: val_loss did not improve from 0.40189\n",
      "Epoch 267/400\n",
      "24692/24692 [==============================] - 15s 617us/step - loss: 0.1364 - acc: 0.9536 - val_loss: 0.4283 - val_acc: 0.8957\n",
      "\n",
      "Epoch 00267: val_loss did not improve from 0.40189\n",
      "Epoch 268/400\n",
      "24692/24692 [==============================] - 15s 619us/step - loss: 0.1309 - acc: 0.9544 - val_loss: 0.4500 - val_acc: 0.8950\n",
      "\n",
      "Epoch 00268: val_loss did not improve from 0.40189\n",
      "Epoch 269/400\n",
      "24692/24692 [==============================] - 15s 618us/step - loss: 0.1271 - acc: 0.9546 - val_loss: 0.4420 - val_acc: 0.8973\n",
      "\n",
      "Epoch 00269: val_loss did not improve from 0.40189\n",
      "Epoch 270/400\n",
      "24692/24692 [==============================] - 15s 617us/step - loss: 0.1285 - acc: 0.9545 - val_loss: 0.4239 - val_acc: 0.8937\n",
      "\n",
      "Epoch 00270: val_loss did not improve from 0.40189\n",
      "Epoch 271/400\n",
      "24692/24692 [==============================] - 15s 617us/step - loss: 0.1277 - acc: 0.9558 - val_loss: 0.4372 - val_acc: 0.8937\n",
      "\n",
      "Epoch 00271: val_loss did not improve from 0.40189\n",
      "Epoch 272/400\n",
      "24692/24692 [==============================] - 15s 618us/step - loss: 0.1403 - acc: 0.9508 - val_loss: 0.4481 - val_acc: 0.8921\n",
      "\n",
      "Epoch 00272: val_loss did not improve from 0.40189\n",
      "Epoch 273/400\n",
      "24692/24692 [==============================] - 15s 616us/step - loss: 0.1397 - acc: 0.9523 - val_loss: 0.4101 - val_acc: 0.8947\n",
      "\n",
      "Epoch 00273: val_loss did not improve from 0.40189\n",
      "Epoch 274/400\n",
      "24692/24692 [==============================] - 15s 616us/step - loss: 0.1271 - acc: 0.9546 - val_loss: 0.4310 - val_acc: 0.8944\n",
      "\n",
      "Epoch 00274: val_loss did not improve from 0.40189\n",
      "Epoch 275/400\n",
      "24692/24692 [==============================] - 15s 617us/step - loss: 0.1359 - acc: 0.9531 - val_loss: 0.4348 - val_acc: 0.8950\n",
      "\n",
      "Epoch 00275: val_loss did not improve from 0.40189\n",
      "Epoch 276/400\n",
      "24692/24692 [==============================] - 15s 618us/step - loss: 0.1303 - acc: 0.9542 - val_loss: 0.4536 - val_acc: 0.8892\n",
      "\n",
      "Epoch 00276: val_loss did not improve from 0.40189\n",
      "Epoch 277/400\n",
      "24692/24692 [==============================] - 15s 618us/step - loss: 0.1306 - acc: 0.9541 - val_loss: 0.4164 - val_acc: 0.8960\n",
      "\n",
      "Epoch 00277: val_loss did not improve from 0.40189\n",
      "Epoch 278/400\n",
      "24692/24692 [==============================] - 15s 616us/step - loss: 0.1372 - acc: 0.9526 - val_loss: 0.4335 - val_acc: 0.8889\n",
      "\n",
      "Epoch 00278: val_loss did not improve from 0.40189\n",
      "Epoch 279/400\n",
      "24692/24692 [==============================] - 15s 618us/step - loss: 0.1262 - acc: 0.9554 - val_loss: 0.4354 - val_acc: 0.8908\n",
      "\n",
      "Epoch 00279: val_loss did not improve from 0.40189\n",
      "Epoch 280/400\n",
      "24692/24692 [==============================] - 15s 618us/step - loss: 0.1328 - acc: 0.9532 - val_loss: 0.4399 - val_acc: 0.8915\n",
      "\n",
      "Epoch 00280: val_loss did not improve from 0.40189\n",
      "Epoch 281/400\n",
      "24692/24692 [==============================] - 15s 618us/step - loss: 0.1296 - acc: 0.9530 - val_loss: 0.4485 - val_acc: 0.8931\n",
      "\n",
      "Epoch 00281: val_loss did not improve from 0.40189\n",
      "Epoch 282/400\n",
      "24692/24692 [==============================] - 15s 627us/step - loss: 0.1354 - acc: 0.9531 - val_loss: 0.4393 - val_acc: 0.8863\n",
      "\n",
      "Epoch 00282: val_loss did not improve from 0.40189\n",
      "Epoch 283/400\n",
      "24692/24692 [==============================] - 15s 618us/step - loss: 0.1261 - acc: 0.9534 - val_loss: 0.4424 - val_acc: 0.8921\n",
      "\n",
      "Epoch 00283: val_loss did not improve from 0.40189\n",
      "Epoch 284/400\n",
      "24692/24692 [==============================] - 15s 619us/step - loss: 0.1302 - acc: 0.9557 - val_loss: 0.4447 - val_acc: 0.8931\n",
      "\n",
      "Epoch 00284: val_loss did not improve from 0.40189\n",
      "Epoch 285/400\n",
      "24692/24692 [==============================] - 15s 616us/step - loss: 0.1315 - acc: 0.9555 - val_loss: 0.4179 - val_acc: 0.8937\n",
      "\n",
      "Epoch 00285: val_loss did not improve from 0.40189\n",
      "Epoch 286/400\n",
      "24692/24692 [==============================] - 15s 618us/step - loss: 0.1326 - acc: 0.9535 - val_loss: 0.4259 - val_acc: 0.8976\n",
      "\n",
      "Epoch 00286: val_loss did not improve from 0.40189\n",
      "Epoch 287/400\n",
      "24692/24692 [==============================] - 15s 618us/step - loss: 0.1327 - acc: 0.9537 - val_loss: 0.4048 - val_acc: 0.8986\n",
      "\n",
      "Epoch 00287: val_loss did not improve from 0.40189\n",
      "Epoch 288/400\n",
      "24692/24692 [==============================] - 15s 620us/step - loss: 0.1244 - acc: 0.9582 - val_loss: 0.4366 - val_acc: 0.8937\n",
      "\n",
      "Epoch 00288: val_loss did not improve from 0.40189\n",
      "Epoch 289/400\n",
      "24692/24692 [==============================] - 15s 618us/step - loss: 0.1216 - acc: 0.9573 - val_loss: 0.4286 - val_acc: 0.8892\n",
      "\n",
      "Epoch 00289: val_loss did not improve from 0.40189\n",
      "Epoch 290/400\n",
      "24692/24692 [==============================] - 15s 616us/step - loss: 0.1299 - acc: 0.9529 - val_loss: 0.4326 - val_acc: 0.8866\n",
      "\n",
      "Epoch 00290: val_loss did not improve from 0.40189\n",
      "Epoch 291/400\n",
      "24692/24692 [==============================] - 15s 618us/step - loss: 0.1425 - acc: 0.9522 - val_loss: 0.4252 - val_acc: 0.8941\n",
      "\n",
      "Epoch 00291: val_loss did not improve from 0.40189\n",
      "Epoch 292/400\n",
      "24692/24692 [==============================] - 15s 619us/step - loss: 0.1216 - acc: 0.9579 - val_loss: 0.4178 - val_acc: 0.8941\n",
      "\n",
      "Epoch 00292: val_loss did not improve from 0.40189\n",
      "Epoch 293/400\n",
      "24692/24692 [==============================] - 15s 619us/step - loss: 0.1280 - acc: 0.9542 - val_loss: 0.3991 - val_acc: 0.8944\n",
      "\n",
      "Epoch 00293: val_loss improved from 0.40189 to 0.39910, saving model to leafnet.h5\n",
      "Epoch 294/400\n",
      "24692/24692 [==============================] - 15s 622us/step - loss: 0.1333 - acc: 0.9549 - val_loss: 0.4328 - val_acc: 0.8937\n",
      "\n",
      "Epoch 00294: val_loss did not improve from 0.39910\n",
      "Epoch 295/400\n",
      "24692/24692 [==============================] - 15s 620us/step - loss: 0.1260 - acc: 0.9553 - val_loss: 0.4256 - val_acc: 0.8947\n",
      "\n",
      "Epoch 00295: val_loss did not improve from 0.39910\n",
      "Epoch 296/400\n",
      "24692/24692 [==============================] - 15s 616us/step - loss: 0.1236 - acc: 0.9553 - val_loss: 0.4351 - val_acc: 0.8928\n",
      "\n",
      "Epoch 00296: val_loss did not improve from 0.39910\n",
      "Epoch 297/400\n",
      "24692/24692 [==============================] - 15s 618us/step - loss: 0.1299 - acc: 0.9541 - val_loss: 0.4212 - val_acc: 0.8960\n",
      "\n",
      "Epoch 00297: val_loss did not improve from 0.39910\n",
      "Epoch 298/400\n",
      "24692/24692 [==============================] - 15s 616us/step - loss: 0.1181 - acc: 0.9584 - val_loss: 0.4351 - val_acc: 0.8915\n",
      "\n",
      "Epoch 00298: val_loss did not improve from 0.39910\n",
      "Epoch 299/400\n",
      "24692/24692 [==============================] - 15s 617us/step - loss: 0.1275 - acc: 0.9542 - val_loss: 0.4357 - val_acc: 0.8912\n",
      "\n",
      "Epoch 00299: val_loss did not improve from 0.39910\n",
      "Epoch 300/400\n",
      "24692/24692 [==============================] - 15s 616us/step - loss: 0.1262 - acc: 0.9563 - val_loss: 0.4321 - val_acc: 0.8918\n",
      "\n",
      "Epoch 00300: val_loss did not improve from 0.39910\n",
      "Epoch 301/400\n",
      "24692/24692 [==============================] - 15s 616us/step - loss: 0.1266 - acc: 0.9555 - val_loss: 0.4154 - val_acc: 0.8954\n",
      "\n",
      "Epoch 00301: val_loss did not improve from 0.39910\n",
      "Epoch 302/400\n",
      "24692/24692 [==============================] - 15s 622us/step - loss: 0.1232 - acc: 0.9572 - val_loss: 0.4165 - val_acc: 0.8915\n",
      "\n",
      "Epoch 00302: val_loss did not improve from 0.39910\n",
      "Epoch 303/400\n",
      "24692/24692 [==============================] - 15s 618us/step - loss: 0.1292 - acc: 0.9567 - val_loss: 0.4305 - val_acc: 0.8976\n",
      "\n",
      "Epoch 00303: val_loss did not improve from 0.39910\n",
      "Epoch 304/400\n",
      "24692/24692 [==============================] - 15s 616us/step - loss: 0.1265 - acc: 0.9558 - val_loss: 0.4472 - val_acc: 0.8934\n",
      "\n",
      "Epoch 00304: val_loss did not improve from 0.39910\n",
      "Epoch 305/400\n",
      "24692/24692 [==============================] - 15s 614us/step - loss: 0.1263 - acc: 0.9561 - val_loss: 0.4333 - val_acc: 0.8941\n",
      "\n",
      "Epoch 00305: val_loss did not improve from 0.39910\n",
      "Epoch 306/400\n",
      "24692/24692 [==============================] - 15s 615us/step - loss: 0.1290 - acc: 0.9550 - val_loss: 0.4387 - val_acc: 0.8937\n",
      "\n",
      "Epoch 00306: val_loss did not improve from 0.39910\n",
      "Epoch 307/400\n",
      "24692/24692 [==============================] - 15s 617us/step - loss: 0.1213 - acc: 0.9581 - val_loss: 0.4370 - val_acc: 0.8937\n",
      "\n",
      "Epoch 00307: val_loss did not improve from 0.39910\n",
      "Epoch 308/400\n",
      "24692/24692 [==============================] - 15s 616us/step - loss: 0.1282 - acc: 0.9533 - val_loss: 0.4349 - val_acc: 0.8931\n",
      "\n",
      "Epoch 00308: val_loss did not improve from 0.39910\n",
      "Epoch 309/400\n",
      "24692/24692 [==============================] - 15s 616us/step - loss: 0.1259 - acc: 0.9549 - val_loss: 0.4494 - val_acc: 0.8937\n",
      "\n",
      "Epoch 00309: val_loss did not improve from 0.39910\n",
      "Epoch 310/400\n",
      "24692/24692 [==============================] - 15s 618us/step - loss: 0.1225 - acc: 0.9586 - val_loss: 0.4201 - val_acc: 0.8934\n",
      "\n",
      "Epoch 00310: val_loss did not improve from 0.39910\n",
      "Epoch 311/400\n",
      "24692/24692 [==============================] - 15s 618us/step - loss: 0.1309 - acc: 0.9561 - val_loss: 0.4377 - val_acc: 0.8921\n",
      "\n",
      "Epoch 00311: val_loss did not improve from 0.39910\n",
      "Epoch 312/400\n",
      "24692/24692 [==============================] - 15s 618us/step - loss: 0.1183 - acc: 0.9594 - val_loss: 0.4148 - val_acc: 0.8941\n",
      "\n",
      "Epoch 00312: val_loss did not improve from 0.39910\n",
      "Epoch 313/400\n",
      "24692/24692 [==============================] - 15s 616us/step - loss: 0.1366 - acc: 0.9536 - val_loss: 0.4238 - val_acc: 0.8954\n",
      "\n",
      "Epoch 00313: val_loss did not improve from 0.39910\n",
      "Epoch 314/400\n",
      "24692/24692 [==============================] - 15s 616us/step - loss: 0.1213 - acc: 0.9586 - val_loss: 0.3993 - val_acc: 0.8950\n",
      "\n",
      "Epoch 00314: val_loss did not improve from 0.39910\n",
      "Epoch 315/400\n",
      "24692/24692 [==============================] - 15s 617us/step - loss: 0.1257 - acc: 0.9571 - val_loss: 0.4147 - val_acc: 0.8918\n",
      "\n",
      "Epoch 00315: val_loss did not improve from 0.39910\n",
      "Epoch 316/400\n",
      "24692/24692 [==============================] - 15s 616us/step - loss: 0.1223 - acc: 0.9582 - val_loss: 0.4471 - val_acc: 0.8944\n",
      "\n",
      "Epoch 00316: val_loss did not improve from 0.39910\n",
      "Epoch 317/400\n",
      "24692/24692 [==============================] - 15s 617us/step - loss: 0.1260 - acc: 0.9554 - val_loss: 0.4324 - val_acc: 0.8937\n",
      "\n",
      "Epoch 00317: val_loss did not improve from 0.39910\n",
      "Epoch 318/400\n",
      "24692/24692 [==============================] - 15s 619us/step - loss: 0.1217 - acc: 0.9574 - val_loss: 0.4383 - val_acc: 0.8931\n",
      "\n",
      "Epoch 00318: val_loss did not improve from 0.39910\n",
      "Epoch 319/400\n",
      "24692/24692 [==============================] - 15s 619us/step - loss: 0.1259 - acc: 0.9564 - val_loss: 0.4293 - val_acc: 0.8954\n",
      "\n",
      "Epoch 00319: val_loss did not improve from 0.39910\n",
      "Epoch 320/400\n",
      "24692/24692 [==============================] - 15s 619us/step - loss: 0.1199 - acc: 0.9581 - val_loss: 0.4362 - val_acc: 0.8905\n",
      "\n",
      "Epoch 00320: val_loss did not improve from 0.39910\n",
      "Epoch 321/400\n",
      "24692/24692 [==============================] - 15s 617us/step - loss: 0.1254 - acc: 0.9563 - val_loss: 0.4205 - val_acc: 0.8957\n",
      "\n",
      "Epoch 00321: val_loss did not improve from 0.39910\n",
      "Epoch 322/400\n",
      "24692/24692 [==============================] - 15s 619us/step - loss: 0.1236 - acc: 0.9582 - val_loss: 0.4148 - val_acc: 0.8976\n",
      "\n",
      "Epoch 00322: val_loss did not improve from 0.39910\n",
      "Epoch 323/400\n",
      "24692/24692 [==============================] - 15s 620us/step - loss: 0.1195 - acc: 0.9581 - val_loss: 0.4247 - val_acc: 0.8950\n",
      "\n",
      "Epoch 00323: val_loss did not improve from 0.39910\n",
      "Epoch 324/400\n",
      "24692/24692 [==============================] - 15s 615us/step - loss: 0.1265 - acc: 0.9566 - val_loss: 0.4223 - val_acc: 0.8976\n",
      "\n",
      "Epoch 00324: val_loss did not improve from 0.39910\n",
      "Epoch 325/400\n",
      "24692/24692 [==============================] - 15s 617us/step - loss: 0.1198 - acc: 0.9575 - val_loss: 0.4536 - val_acc: 0.8921\n",
      "\n",
      "Epoch 00325: val_loss did not improve from 0.39910\n",
      "Epoch 326/400\n",
      "24692/24692 [==============================] - 15s 617us/step - loss: 0.1238 - acc: 0.9550 - val_loss: 0.4361 - val_acc: 0.8996\n",
      "\n",
      "Epoch 00326: val_loss did not improve from 0.39910\n",
      "Epoch 327/400\n",
      "24692/24692 [==============================] - 15s 616us/step - loss: 0.1208 - acc: 0.9585 - val_loss: 0.4298 - val_acc: 0.8986\n",
      "\n",
      "Epoch 00327: val_loss did not improve from 0.39910\n",
      "Epoch 328/400\n",
      "24692/24692 [==============================] - 15s 614us/step - loss: 0.1232 - acc: 0.9568 - val_loss: 0.4303 - val_acc: 0.8934\n",
      "\n",
      "Epoch 00328: val_loss did not improve from 0.39910\n",
      "Epoch 329/400\n",
      "24692/24692 [==============================] - 15s 615us/step - loss: 0.1282 - acc: 0.9564 - val_loss: 0.4322 - val_acc: 0.8996\n",
      "\n",
      "Epoch 00329: val_loss did not improve from 0.39910\n",
      "Epoch 330/400\n",
      "24692/24692 [==============================] - 15s 615us/step - loss: 0.1176 - acc: 0.9578 - val_loss: 0.4685 - val_acc: 0.8908\n",
      "\n",
      "Epoch 00330: val_loss did not improve from 0.39910\n",
      "Epoch 331/400\n",
      "24692/24692 [==============================] - 15s 617us/step - loss: 0.1228 - acc: 0.9567 - val_loss: 0.4381 - val_acc: 0.8937\n",
      "\n",
      "Epoch 00331: val_loss did not improve from 0.39910\n",
      "Epoch 332/400\n",
      "24692/24692 [==============================] - 15s 616us/step - loss: 0.1208 - acc: 0.9589 - val_loss: 0.4564 - val_acc: 0.8950\n",
      "\n",
      "Epoch 00332: val_loss did not improve from 0.39910\n",
      "Epoch 333/400\n",
      "24692/24692 [==============================] - 15s 616us/step - loss: 0.1249 - acc: 0.9563 - val_loss: 0.4441 - val_acc: 0.8925\n",
      "\n",
      "Epoch 00333: val_loss did not improve from 0.39910\n",
      "Epoch 334/400\n",
      "24692/24692 [==============================] - 15s 616us/step - loss: 0.1148 - acc: 0.9582 - val_loss: 0.4399 - val_acc: 0.8957\n",
      "\n",
      "Epoch 00334: val_loss did not improve from 0.39910\n",
      "Epoch 335/400\n",
      "24692/24692 [==============================] - 15s 619us/step - loss: 0.1234 - acc: 0.9576 - val_loss: 0.4292 - val_acc: 0.8996\n",
      "\n",
      "Epoch 00335: val_loss did not improve from 0.39910\n",
      "Epoch 336/400\n",
      "24692/24692 [==============================] - 15s 616us/step - loss: 0.1211 - acc: 0.9582 - val_loss: 0.4435 - val_acc: 0.8931\n",
      "\n",
      "Epoch 00336: val_loss did not improve from 0.39910\n",
      "Epoch 337/400\n",
      "24692/24692 [==============================] - 15s 616us/step - loss: 0.1195 - acc: 0.9591 - val_loss: 0.4212 - val_acc: 0.8960\n",
      "\n",
      "Epoch 00337: val_loss did not improve from 0.39910\n",
      "Epoch 338/400\n",
      "24692/24692 [==============================] - 15s 617us/step - loss: 0.1212 - acc: 0.9563 - val_loss: 0.4476 - val_acc: 0.8937\n",
      "\n",
      "Epoch 00338: val_loss did not improve from 0.39910\n",
      "Epoch 339/400\n",
      "24692/24692 [==============================] - 15s 617us/step - loss: 0.1156 - acc: 0.9582 - val_loss: 0.4275 - val_acc: 0.8947\n",
      "\n",
      "Epoch 00339: val_loss did not improve from 0.39910\n",
      "Epoch 340/400\n",
      "24692/24692 [==============================] - 15s 616us/step - loss: 0.1156 - acc: 0.9596 - val_loss: 0.4369 - val_acc: 0.8928\n",
      "\n",
      "Epoch 00340: val_loss did not improve from 0.39910\n",
      "Epoch 341/400\n",
      "24692/24692 [==============================] - 15s 616us/step - loss: 0.1217 - acc: 0.9581 - val_loss: 0.4195 - val_acc: 0.8973\n",
      "\n",
      "Epoch 00341: val_loss did not improve from 0.39910\n",
      "Epoch 342/400\n",
      "24692/24692 [==============================] - 15s 615us/step - loss: 0.1235 - acc: 0.9566 - val_loss: 0.4281 - val_acc: 0.8983\n",
      "\n",
      "Epoch 00342: val_loss did not improve from 0.39910\n",
      "Epoch 343/400\n",
      "24692/24692 [==============================] - 15s 620us/step - loss: 0.1195 - acc: 0.9582 - val_loss: 0.4130 - val_acc: 0.8957\n",
      "\n",
      "Epoch 00343: val_loss did not improve from 0.39910\n",
      "Epoch 344/400\n",
      "24692/24692 [==============================] - 15s 616us/step - loss: 0.1209 - acc: 0.9579 - val_loss: 0.4292 - val_acc: 0.9006\n",
      "\n",
      "Epoch 00344: val_loss did not improve from 0.39910\n",
      "Epoch 345/400\n",
      "24692/24692 [==============================] - 15s 615us/step - loss: 0.1212 - acc: 0.9578 - val_loss: 0.4497 - val_acc: 0.8954\n",
      "\n",
      "Epoch 00345: val_loss did not improve from 0.39910\n",
      "Epoch 346/400\n",
      "24692/24692 [==============================] - 15s 615us/step - loss: 0.1102 - acc: 0.9605 - val_loss: 0.4173 - val_acc: 0.8980\n",
      "\n",
      "Epoch 00346: val_loss did not improve from 0.39910\n",
      "Epoch 347/400\n",
      "24692/24692 [==============================] - 15s 616us/step - loss: 0.1219 - acc: 0.9578 - val_loss: 0.4155 - val_acc: 0.8986\n",
      "\n",
      "Epoch 00347: val_loss did not improve from 0.39910\n",
      "Epoch 348/400\n",
      "24692/24692 [==============================] - 15s 618us/step - loss: 0.1211 - acc: 0.9580 - val_loss: 0.4321 - val_acc: 0.8973\n",
      "\n",
      "Epoch 00348: val_loss did not improve from 0.39910\n",
      "Epoch 349/400\n",
      "24692/24692 [==============================] - 15s 618us/step - loss: 0.1150 - acc: 0.9606 - val_loss: 0.4501 - val_acc: 0.8957\n",
      "\n",
      "Epoch 00349: val_loss did not improve from 0.39910\n",
      "Epoch 350/400\n",
      "24692/24692 [==============================] - 15s 616us/step - loss: 0.1285 - acc: 0.9569 - val_loss: 0.4440 - val_acc: 0.8934\n",
      "\n",
      "Epoch 00350: val_loss did not improve from 0.39910\n",
      "Epoch 351/400\n",
      "24692/24692 [==============================] - 15s 615us/step - loss: 0.1050 - acc: 0.9629 - val_loss: 0.4342 - val_acc: 0.8963\n",
      "\n",
      "Epoch 00351: val_loss did not improve from 0.39910\n",
      "Epoch 352/400\n",
      "24692/24692 [==============================] - 15s 614us/step - loss: 0.1280 - acc: 0.9575 - val_loss: 0.4627 - val_acc: 0.8853\n",
      "\n",
      "Epoch 00352: val_loss did not improve from 0.39910\n",
      "Epoch 353/400\n",
      "24692/24692 [==============================] - 15s 616us/step - loss: 0.1177 - acc: 0.9589 - val_loss: 0.4393 - val_acc: 0.8957\n",
      "\n",
      "Epoch 00353: val_loss did not improve from 0.39910\n",
      "Epoch 354/400\n",
      "24692/24692 [==============================] - 15s 615us/step - loss: 0.1141 - acc: 0.9597 - val_loss: 0.4554 - val_acc: 0.8963\n",
      "\n",
      "Epoch 00354: val_loss did not improve from 0.39910\n",
      "Epoch 355/400\n",
      "24692/24692 [==============================] - 15s 617us/step - loss: 0.1268 - acc: 0.9570 - val_loss: 0.4493 - val_acc: 0.9009\n",
      "\n",
      "Epoch 00355: val_loss did not improve from 0.39910\n",
      "Epoch 356/400\n",
      "24692/24692 [==============================] - 15s 616us/step - loss: 0.1188 - acc: 0.9601 - val_loss: 0.4588 - val_acc: 0.8866\n",
      "\n",
      "Epoch 00356: val_loss did not improve from 0.39910\n",
      "Epoch 357/400\n",
      "24692/24692 [==============================] - 15s 616us/step - loss: 0.1170 - acc: 0.9597 - val_loss: 0.4542 - val_acc: 0.8947\n",
      "\n",
      "Epoch 00357: val_loss did not improve from 0.39910\n",
      "Epoch 358/400\n",
      "24692/24692 [==============================] - 15s 618us/step - loss: 0.1194 - acc: 0.9587 - val_loss: 0.4128 - val_acc: 0.8963\n",
      "\n",
      "Epoch 00358: val_loss did not improve from 0.39910\n",
      "Epoch 359/400\n",
      "24692/24692 [==============================] - 15s 616us/step - loss: 0.1191 - acc: 0.9584 - val_loss: 0.4324 - val_acc: 0.8944\n",
      "\n",
      "Epoch 00359: val_loss did not improve from 0.39910\n",
      "Epoch 360/400\n",
      "24692/24692 [==============================] - 15s 618us/step - loss: 0.1226 - acc: 0.9595 - val_loss: 0.4360 - val_acc: 0.9015\n",
      "\n",
      "Epoch 00360: val_loss did not improve from 0.39910\n",
      "Epoch 361/400\n",
      "24692/24692 [==============================] - 15s 616us/step - loss: 0.1185 - acc: 0.9587 - val_loss: 0.4461 - val_acc: 0.8999\n",
      "\n",
      "Epoch 00361: val_loss did not improve from 0.39910\n",
      "Epoch 362/400\n",
      "24692/24692 [==============================] - 15s 617us/step - loss: 0.1156 - acc: 0.9597 - val_loss: 0.4491 - val_acc: 0.8947\n",
      "\n",
      "Epoch 00362: val_loss did not improve from 0.39910\n",
      "Epoch 363/400\n",
      "24692/24692 [==============================] - 15s 618us/step - loss: 0.1184 - acc: 0.9580 - val_loss: 0.4532 - val_acc: 0.8983\n",
      "\n",
      "Epoch 00363: val_loss did not improve from 0.39910\n",
      "Epoch 364/400\n",
      "24692/24692 [==============================] - 15s 619us/step - loss: 0.1200 - acc: 0.9587 - val_loss: 0.4663 - val_acc: 0.8931\n",
      "\n",
      "Epoch 00364: val_loss did not improve from 0.39910\n",
      "Epoch 365/400\n",
      "24692/24692 [==============================] - 15s 617us/step - loss: 0.1109 - acc: 0.9609 - val_loss: 0.4294 - val_acc: 0.8976\n",
      "\n",
      "Epoch 00365: val_loss did not improve from 0.39910\n",
      "Epoch 366/400\n",
      "24692/24692 [==============================] - 15s 617us/step - loss: 0.1176 - acc: 0.9601 - val_loss: 0.4340 - val_acc: 0.8912\n",
      "\n",
      "Epoch 00366: val_loss did not improve from 0.39910\n",
      "Epoch 367/400\n",
      "24692/24692 [==============================] - 15s 614us/step - loss: 0.1256 - acc: 0.9572 - val_loss: 0.4295 - val_acc: 0.8963\n",
      "\n",
      "Epoch 00367: val_loss did not improve from 0.39910\n",
      "Epoch 368/400\n",
      "24692/24692 [==============================] - 15s 616us/step - loss: 0.1112 - acc: 0.9615 - val_loss: 0.4439 - val_acc: 0.8937\n",
      "\n",
      "Epoch 00368: val_loss did not improve from 0.39910\n",
      "Epoch 369/400\n",
      "24692/24692 [==============================] - 15s 616us/step - loss: 0.1182 - acc: 0.9592 - val_loss: 0.4408 - val_acc: 0.8950\n",
      "\n",
      "Epoch 00369: val_loss did not improve from 0.39910\n",
      "Epoch 370/400\n",
      "24692/24692 [==============================] - 15s 617us/step - loss: 0.1175 - acc: 0.9591 - val_loss: 0.4396 - val_acc: 0.9025\n",
      "\n",
      "Epoch 00370: val_loss did not improve from 0.39910\n",
      "Epoch 371/400\n",
      "24692/24692 [==============================] - 15s 615us/step - loss: 0.1167 - acc: 0.9589 - val_loss: 0.4534 - val_acc: 0.9002\n",
      "\n",
      "Epoch 00371: val_loss did not improve from 0.39910\n",
      "Epoch 372/400\n",
      "24692/24692 [==============================] - 15s 614us/step - loss: 0.1107 - acc: 0.9616 - val_loss: 0.4277 - val_acc: 0.8928\n",
      "\n",
      "Epoch 00372: val_loss did not improve from 0.39910\n",
      "Epoch 373/400\n",
      "24692/24692 [==============================] - 15s 614us/step - loss: 0.1145 - acc: 0.9589 - val_loss: 0.4502 - val_acc: 0.9015\n",
      "\n",
      "Epoch 00373: val_loss did not improve from 0.39910\n",
      "Epoch 374/400\n",
      "24692/24692 [==============================] - 15s 614us/step - loss: 0.1219 - acc: 0.9578 - val_loss: 0.4586 - val_acc: 0.8931\n",
      "\n",
      "Epoch 00374: val_loss did not improve from 0.39910\n",
      "Epoch 375/400\n",
      "24692/24692 [==============================] - 15s 618us/step - loss: 0.1187 - acc: 0.9584 - val_loss: 0.4448 - val_acc: 0.8931\n",
      "\n",
      "Epoch 00375: val_loss did not improve from 0.39910\n",
      "Epoch 376/400\n",
      "24692/24692 [==============================] - 15s 617us/step - loss: 0.1275 - acc: 0.9575 - val_loss: 0.4612 - val_acc: 0.8967\n",
      "\n",
      "Epoch 00376: val_loss did not improve from 0.39910\n",
      "Epoch 377/400\n",
      "24692/24692 [==============================] - 15s 614us/step - loss: 0.1137 - acc: 0.9588 - val_loss: 0.4450 - val_acc: 0.8980\n",
      "\n",
      "Epoch 00377: val_loss did not improve from 0.39910\n",
      "Epoch 378/400\n",
      "24692/24692 [==============================] - 15s 615us/step - loss: 0.1121 - acc: 0.9606 - val_loss: 0.4260 - val_acc: 0.8989\n",
      "\n",
      "Epoch 00378: val_loss did not improve from 0.39910\n",
      "Epoch 379/400\n",
      "24692/24692 [==============================] - 15s 615us/step - loss: 0.1214 - acc: 0.9570 - val_loss: 0.4370 - val_acc: 0.8980\n",
      "\n",
      "Epoch 00379: val_loss did not improve from 0.39910\n",
      "Epoch 380/400\n",
      "24692/24692 [==============================] - 15s 616us/step - loss: 0.1153 - acc: 0.9611 - val_loss: 0.4400 - val_acc: 0.8905\n",
      "\n",
      "Epoch 00380: val_loss did not improve from 0.39910\n",
      "Epoch 381/400\n",
      "24692/24692 [==============================] - 15s 617us/step - loss: 0.1107 - acc: 0.9615 - val_loss: 0.4137 - val_acc: 0.8980\n",
      "\n",
      "Epoch 00381: val_loss did not improve from 0.39910\n",
      "Epoch 382/400\n",
      "24692/24692 [==============================] - 15s 617us/step - loss: 0.1165 - acc: 0.9578 - val_loss: 0.4430 - val_acc: 0.8967\n",
      "\n",
      "Epoch 00382: val_loss did not improve from 0.39910\n",
      "Epoch 383/400\n",
      "24692/24692 [==============================] - 15s 618us/step - loss: 0.1081 - acc: 0.9610 - val_loss: 0.4066 - val_acc: 0.8980\n",
      "\n",
      "Epoch 00383: val_loss did not improve from 0.39910\n",
      "Epoch 384/400\n",
      "24692/24692 [==============================] - 15s 622us/step - loss: 0.1204 - acc: 0.9587 - val_loss: 0.4456 - val_acc: 0.8980\n",
      "\n",
      "Epoch 00384: val_loss did not improve from 0.39910\n",
      "Epoch 385/400\n",
      "24692/24692 [==============================] - 15s 615us/step - loss: 0.1161 - acc: 0.9601 - val_loss: 0.4507 - val_acc: 0.9006\n",
      "\n",
      "Epoch 00385: val_loss did not improve from 0.39910\n",
      "Epoch 386/400\n",
      "24692/24692 [==============================] - 15s 617us/step - loss: 0.1080 - acc: 0.9640 - val_loss: 0.4683 - val_acc: 0.8996\n",
      "\n",
      "Epoch 00386: val_loss did not improve from 0.39910\n",
      "Epoch 387/400\n",
      "24692/24692 [==============================] - 15s 615us/step - loss: 0.1143 - acc: 0.9597 - val_loss: 0.4258 - val_acc: 0.8963\n",
      "\n",
      "Epoch 00387: val_loss did not improve from 0.39910\n",
      "Epoch 388/400\n",
      "24692/24692 [==============================] - 15s 616us/step - loss: 0.1160 - acc: 0.9604 - val_loss: 0.4379 - val_acc: 0.8973\n",
      "\n",
      "Epoch 00388: val_loss did not improve from 0.39910\n",
      "Epoch 389/400\n",
      "24692/24692 [==============================] - 15s 616us/step - loss: 0.1230 - acc: 0.9571 - val_loss: 0.4420 - val_acc: 0.8967\n",
      "\n",
      "Epoch 00389: val_loss did not improve from 0.39910\n",
      "Epoch 390/400\n",
      "24692/24692 [==============================] - 15s 614us/step - loss: 0.1159 - acc: 0.9593 - val_loss: 0.4348 - val_acc: 0.9051\n",
      "\n",
      "Epoch 00390: val_loss did not improve from 0.39910\n",
      "Epoch 391/400\n",
      "24692/24692 [==============================] - 15s 613us/step - loss: 0.1143 - acc: 0.9607 - val_loss: 0.4484 - val_acc: 0.8957\n",
      "\n",
      "Epoch 00391: val_loss did not improve from 0.39910\n",
      "Epoch 392/400\n",
      "24692/24692 [==============================] - 15s 617us/step - loss: 0.1122 - acc: 0.9605 - val_loss: 0.5003 - val_acc: 0.8944\n",
      "\n",
      "Epoch 00392: val_loss did not improve from 0.39910\n",
      "Epoch 393/400\n",
      "24692/24692 [==============================] - 15s 616us/step - loss: 0.1195 - acc: 0.9586 - val_loss: 0.4607 - val_acc: 0.8986\n",
      "\n",
      "Epoch 00393: val_loss did not improve from 0.39910\n",
      "Epoch 394/400\n",
      "24692/24692 [==============================] - 15s 618us/step - loss: 0.1074 - acc: 0.9609 - val_loss: 0.4099 - val_acc: 0.8957\n",
      "\n",
      "Epoch 00394: val_loss did not improve from 0.39910\n",
      "Epoch 395/400\n",
      "24692/24692 [==============================] - 15s 617us/step - loss: 0.1151 - acc: 0.9600 - val_loss: 0.4525 - val_acc: 0.8967\n",
      "\n",
      "Epoch 00395: val_loss did not improve from 0.39910\n",
      "Epoch 396/400\n",
      "24692/24692 [==============================] - 15s 619us/step - loss: 0.1156 - acc: 0.9592 - val_loss: 0.4574 - val_acc: 0.8980\n",
      "\n",
      "Epoch 00396: val_loss did not improve from 0.39910\n",
      "Epoch 397/400\n",
      "24692/24692 [==============================] - 15s 617us/step - loss: 0.1137 - acc: 0.9626 - val_loss: 0.4411 - val_acc: 0.8970\n",
      "\n",
      "Epoch 00397: val_loss did not improve from 0.39910\n",
      "Epoch 398/400\n",
      "24692/24692 [==============================] - 15s 619us/step - loss: 0.1093 - acc: 0.9618 - val_loss: 0.4501 - val_acc: 0.8980\n",
      "\n",
      "Epoch 00398: val_loss did not improve from 0.39910\n",
      "Epoch 399/400\n",
      "24692/24692 [==============================] - 15s 617us/step - loss: 0.1086 - acc: 0.9622 - val_loss: 0.4401 - val_acc: 0.8944\n",
      "\n",
      "Epoch 00399: val_loss did not improve from 0.39910\n",
      "Epoch 400/400\n",
      "24692/24692 [==============================] - 15s 616us/step - loss: 0.1042 - acc: 0.9629 - val_loss: 0.4402 - val_acc: 0.9048\n",
      "\n",
      "Epoch 00400: val_loss did not improve from 0.39910\n",
      "Traing finished.\n",
      "Loading the best model...\n",
      "Best Model loaded!\n"
     ]
    }
   ],
   "source": [
    "# autosave best Model\n",
    "best_model_file = \"leafnet.h5\"\n",
    "best_model = ModelCheckpoint(best_model_file, monitor='val_loss', verbose=1, save_best_only=True)\n",
    "\n",
    "print('Training model...')\n",
    "results = model.fit(X_train, Y_train, epochs=400, batch_size=64, validation_data=(X_val, Y_val), callbacks=[best_model])\n",
    "print('Traing finished.')\n",
    "\n",
    "print('Loading the best model...')\n",
    "model = load_model(best_model_file)\n",
    "print('Best Model loaded!')"
   ]
  },
  {
   "cell_type": "markdown",
   "metadata": {
    "colab_type": "text",
    "id": "F1nZNKFpeKcx"
   },
   "source": [
    "### Evaluate the model"
   ]
  },
  {
   "cell_type": "code",
   "execution_count": 11,
   "metadata": {
    "colab": {
     "base_uri": "https://localhost:8080/",
     "height": 51
    },
    "colab_type": "code",
    "id": "joT_5pTFXS0F",
    "outputId": "ac09bf29-f83a-4489-9738-4e46967e0147"
   },
   "outputs": [
    {
     "name": "stdout",
     "output_type": "stream",
     "text": [
      "3087/3087 [==============================] - 1s 322us/step\n"
     ]
    },
    {
     "data": {
      "text/plain": [
       "[0.4842557368596704, 0.8918043408225492]"
      ]
     },
     "execution_count": 11,
     "metadata": {
      "tags": []
     },
     "output_type": "execute_result"
    }
   ],
   "source": [
    "model.evaluate(X_test, Y_test)"
   ]
  },
  {
   "cell_type": "markdown",
   "metadata": {
    "colab_type": "text",
    "id": "jiAKhxZdeRhg"
   },
   "source": [
    "## Examination/visualization of results"
   ]
  },
  {
   "cell_type": "markdown",
   "metadata": {
    "colab_type": "text",
    "id": "T5tWPJD8gwLQ"
   },
   "source": [
    "Results are examined/visualized by the following steps:\n",
    "\n",
    "1. Import packages\n",
    "2. Plot train/dev accuracy and loss\n",
    "3. Create a dataset with predicted labels\n",
    "\n",
    "Visaulize important picture regions"
   ]
  },
  {
   "cell_type": "markdown",
   "metadata": {
    "colab_type": "text",
    "id": "6-xSZk2_eZzb"
   },
   "source": [
    "### 1. Import packages"
   ]
  },
  {
   "cell_type": "code",
   "execution_count": 0,
   "metadata": {
    "colab": {},
    "colab_type": "code",
    "id": "AtWUPb2AjO4q"
   },
   "outputs": [],
   "source": [
    "!pip install keras-vis"
   ]
  },
  {
   "cell_type": "code",
   "execution_count": 0,
   "metadata": {
    "colab": {},
    "colab_type": "code",
    "id": "sobfMA2leb86"
   },
   "outputs": [],
   "source": [
    "from matplotlib import pyplot as plt\n",
    "from vis.utils import utils\n",
    "from keras import activations\n",
    "from vis.visualization import visualize_cam\n",
    "import seaborn as sns\n",
    "import cv2"
   ]
  },
  {
   "cell_type": "markdown",
   "metadata": {
    "colab_type": "text",
    "id": "a1YIjgw7ec4p"
   },
   "source": [
    "### 2. Plot train/dev accuracy and loss"
   ]
  },
  {
   "cell_type": "code",
   "execution_count": 15,
   "metadata": {
    "colab": {
     "base_uri": "https://localhost:8080/",
     "height": 735
    },
    "colab_type": "code",
    "id": "f-QqzBSAw7EW",
    "outputId": "14981ad0-bfee-45fb-f2fb-c6e279d484c3"
   },
   "outputs": [
    {
     "data": {
      "image/png": "[encoded data removed]",
      "text/plain": [
       "<matplotlib.figure.Figure at 0x7fc40c8f1a58>"
      ]
     },
     "metadata": {
      "tags": []
     },
     "output_type": "display_data"
    },
    {
     "data": {
      "image/png": "[encoded data removed]",
      "text/plain": [
       "<matplotlib.figure.Figure at 0x7fc40c809588>"
      ]
     },
     "metadata": {
      "tags": []
     },
     "output_type": "display_data"
    }
   ],
   "source": [
    "# summarize history for accuracy\n",
    "plt.plot(results.history['acc'])\n",
    "plt.plot(results.history['val_acc'])\n",
    "plt.title('model accuracy')\n",
    "plt.ylabel('accuracy')\n",
    "plt.xlabel('epoch')\n",
    "plt.legend(['train', 'test'], loc='upper left')\n",
    "plt.show()\n",
    "# summarize history for loss\n",
    "plt.plot(results.history['loss'])\n",
    "plt.plot(results.history['val_loss'])\n",
    "plt.title('model loss')\n",
    "plt.ylabel('loss')\n",
    "plt.xlabel('epoch')\n",
    "plt.legend(['train', 'test'], loc='upper right')\n",
    "plt.show()"
   ]
  },
  {
   "cell_type": "markdown",
   "metadata": {
    "colab_type": "text",
    "id": "kJKg204g512K"
   },
   "source": [
    "### 3. Create a dataset with predicted labels"
   ]
  },
  {
   "cell_type": "markdown",
   "metadata": {
    "colab_type": "text",
    "id": "bun3sxzC53_p"
   },
   "source": [
    "We predict the test pictures' classes using our model and create a data frame holding these predictions togehter with all other relevant information like filenames or path to the pictures."
   ]
  },
  {
   "cell_type": "code",
   "execution_count": 16,
   "metadata": {
    "colab": {
     "base_uri": "https://localhost:8080/",
     "height": 309
    },
    "colab_type": "code",
    "id": "kmcvTufQ6D64",
    "outputId": "0d818dae-922e-4014-8a9f-8248e3b79168"
   },
   "outputs": [
    {
     "data": {
      "text/html": [
       "<div>\n",
       "<style scoped>\n",
       "    .dataframe tbody tr th:only-of-type {\n",
       "        vertical-align: middle;\n",
       "    }\n",
       "\n",
       "    .dataframe tbody tr th {\n",
       "        vertical-align: top;\n",
       "    }\n",
       "\n",
       "    .dataframe thead th {\n",
       "        text-align: right;\n",
       "    }\n",
       "</style>\n",
       "<table border=\"1\" class=\"dataframe\">\n",
       "  <thead>\n",
       "    <tr style=\"text-align: right;\">\n",
       "      <th></th>\n",
       "      <th>prediction</th>\n",
       "      <th>label_numeric</th>\n",
       "      <th>label</th>\n",
       "      <th>source</th>\n",
       "      <th>filename</th>\n",
       "      <th>path</th>\n",
       "    </tr>\n",
       "  </thead>\n",
       "  <tbody>\n",
       "    <tr>\n",
       "      <th>27779</th>\n",
       "      <td>127</td>\n",
       "      <td>127</td>\n",
       "      <td>Tilia americana</td>\n",
       "      <td>lab</td>\n",
       "      <td>pi0057-08-1.jpg</td>\n",
       "      <td>dataset/images/lab/tilia_americana/pi0057-08-1...</td>\n",
       "    </tr>\n",
       "    <tr>\n",
       "      <th>27780</th>\n",
       "      <td>8</td>\n",
       "      <td>8</td>\n",
       "      <td>Acer rubrum</td>\n",
       "      <td>lab</td>\n",
       "      <td>pi2388-07-1.jpg</td>\n",
       "      <td>dataset/images/lab/acer_rubrum/pi2388-07-1.jpg</td>\n",
       "    </tr>\n",
       "    <tr>\n",
       "      <th>27781</th>\n",
       "      <td>106</td>\n",
       "      <td>106</td>\n",
       "      <td>Quercus alba</td>\n",
       "      <td>lab</td>\n",
       "      <td>pi0080-08-2.jpg</td>\n",
       "      <td>dataset/images/lab/quercus_alba/pi0080-08-2.jpg</td>\n",
       "    </tr>\n",
       "    <tr>\n",
       "      <th>27782</th>\n",
       "      <td>91</td>\n",
       "      <td>91</td>\n",
       "      <td>Pinus strobus</td>\n",
       "      <td>lab</td>\n",
       "      <td>wb1081-05-3.jpg</td>\n",
       "      <td>dataset/images/lab/pinus_strobus/wb1081-05-3.jpg</td>\n",
       "    </tr>\n",
       "    <tr>\n",
       "      <th>27783</th>\n",
       "      <td>58</td>\n",
       "      <td>58</td>\n",
       "      <td>Juniperus virginiana</td>\n",
       "      <td>field</td>\n",
       "      <td>13001955324151.jpg</td>\n",
       "      <td>dataset/images/field/juniperus_virginiana/1300...</td>\n",
       "    </tr>\n",
       "  </tbody>\n",
       "</table>\n",
       "</div>"
      ],
      "text/plain": [
       "       prediction  label_numeric                 label source  \\\n",
       "27779         127            127       Tilia americana    lab   \n",
       "27780           8              8           Acer rubrum    lab   \n",
       "27781         106            106          Quercus alba    lab   \n",
       "27782          91             91         Pinus strobus    lab   \n",
       "27783          58             58  Juniperus virginiana  field   \n",
       "\n",
       "                 filename                                               path  \n",
       "27779     pi0057-08-1.jpg  dataset/images/lab/tilia_americana/pi0057-08-1...  \n",
       "27780     pi2388-07-1.jpg     dataset/images/lab/acer_rubrum/pi2388-07-1.jpg  \n",
       "27781     pi0080-08-2.jpg    dataset/images/lab/quercus_alba/pi0080-08-2.jpg  \n",
       "27782     wb1081-05-3.jpg   dataset/images/lab/pinus_strobus/wb1081-05-3.jpg  \n",
       "27783  13001955324151.jpg  dataset/images/field/juniperus_virginiana/1300...  "
      ]
     },
     "execution_count": 16,
     "metadata": {
      "tags": []
     },
     "output_type": "execute_result"
    }
   ],
   "source": [
    "pred = model.predict_classes(X_test)\n",
    "predictions= pd.DataFrame({'prediction': pred, 'label_numeric': labels_numeric_test, 'label': labels_test, 'source': source_test, 'filename':filenames_test, 'path':path_test})\n",
    "#order columns\n",
    "predictions = predictions[['prediction', 'label_numeric', 'label', 'source', 'filename', 'path']]\n",
    "predictions.head()"
   ]
  },
  {
   "cell_type": "markdown",
   "metadata": {
    "colab_type": "text",
    "id": "0otKfn_a-9th"
   },
   "source": [
    "### 4. Plot confusion matrix"
   ]
  },
  {
   "cell_type": "markdown",
   "metadata": {
    "colab_type": "text",
    "id": "XZQnLNJC_H3e"
   },
   "source": [
    "A confusion matrix is a crosstable of predicted vs. actual classes, showing the height of the values in each cell in color intensity. For the 185 classes our data has, it is of course not what we would call a neat plot."
   ]
  },
  {
   "cell_type": "code",
   "execution_count": 0,
   "metadata": {
    "colab": {},
    "colab_type": "code",
    "id": "XOxrANvA_aCR"
   },
   "outputs": [],
   "source": [
    "def plot_confusion_matrix(y_actu, y_pred, title='Confusion matrix', cmap=plt.cm.gray_r, figsize=(100,70), col_range_min=0, col_range_max=30):\n",
    "    '''\n",
    "    Creates a confusion matrix mapping actual labels vs. predicted labels, showing the height of values in each cell in color intensity.\n",
    "    \n",
    "    Input:\n",
    "    - y_actu: actual labels\n",
    "    - y_pred: predicted labels\n",
    "    - title: title of the plot\n",
    "    - cmap: color mapping\n",
    "    - figsize: tuple of (w,h) determining the size of the plot\n",
    "    - col_range_min /_max: min and max cell-value height the color intensity is based on, approx. amount of test data / number of classes\n",
    "    \n",
    "    Returns:\n",
    "    - confusion matrix\n",
    "    '''\n",
    "    \n",
    "    #create crosstab\n",
    "    df_confusion = pd.crosstab(y_actu, y_pred.reshape(y_pred.shape[0],), rownames=['Actual'], colnames=['Predicted'], margins=True)\n",
    "    \n",
    "    df_conf_norm = df_confusion / df_confusion.sum(axis=1)\n",
    "    \n",
    "    #scale plot to requested figur size\n",
    "    plt.figure(figsize=figsize)\n",
    "    \n",
    "    #plot crosstab\n",
    "    plt.matshow(df_confusion, cmap=cmap, fignum=1) # imshow\n",
    "    #plt.title(title)\n",
    "    \n",
    "    #apply min and max ranges\n",
    "    plt.clim(col_range_min, col_range_max)\n",
    "    #create colorbar for the legend\n",
    "    plt.colorbar()\n",
    "    #create axes ticks\n",
    "    tick_marks = np.arange(len(df_confusion.columns))\n",
    "    plt.xticks(tick_marks, df_confusion.columns, rotation=45)\n",
    "    plt.yticks(tick_marks, df_confusion.index)\n",
    "    #plt.tight_layout()\n",
    "    \n",
    "    #label axes\n",
    "    plt.ylabel(df_confusion.index.name)\n",
    "    plt.xlabel(df_confusion.columns.name)"
   ]
  },
  {
   "cell_type": "code",
   "execution_count": 18,
   "metadata": {
    "colab": {
     "base_uri": "https://localhost:8080/",
     "height": 3997
    },
    "colab_type": "code",
    "id": "zZDrCzbCjqfv",
    "outputId": "eb7da500-9734-40c6-bb47-f27bb3ec3cf6"
   },
   "outputs": [
    {
     "data": {
      "image/png": "[encoded data removed]",
      "text/plain": [
       "<matplotlib.figure.Figure at 0x7fc45ae46c50>"
      ]
     },
     "metadata": {
      "tags": []
     },
     "output_type": "display_data"
    }
   ],
   "source": [
    "plot_confusion_matrix(labels_numeric_test, pred)"
   ]
  },
  {
   "cell_type": "markdown",
   "metadata": {
    "colab_type": "text",
    "id": "1lAkLj-E-y0t"
   },
   "source": [
    "### Investigate the role of the amount of examples per class"
   ]
  },
  {
   "cell_type": "markdown",
   "metadata": {
    "colab_type": "text",
    "id": "so2ZkdJ5B9LL"
   },
   "source": [
    "Is the model making more errors when predicting classes it has had less examples to train on?\n",
    "- How are the classes distributed in the training data (see histogram)?\n",
    "- Can the amount of training examples predict how prone the model is to make errors when predicting on the test set? (see correlation and regression plot)\n",
    "  - Here, the amount of errors is used rather than the absolute errors, as with more training examples, more errors are likelier"
   ]
  },
  {
   "cell_type": "code",
   "execution_count": 17,
   "metadata": {
    "colab": {
     "base_uri": "https://localhost:8080/",
     "height": 380
    },
    "colab_type": "code",
    "id": "Q29PwnfFuKbL",
    "outputId": "0ed5db27-6a7d-4855-e913-36fb1b4b2905"
   },
   "outputs": [
    {
     "data": {
      "text/plain": [
       "<matplotlib.axes._subplots.AxesSubplot at 0x7f08fecabf60>"
      ]
     },
     "execution_count": 17,
     "metadata": {
      "tags": []
     },
     "output_type": "execute_result"
    },
    {
     "data": {
      "image/png": "[encoded data removed]",
      "text/plain": [
       "<matplotlib.figure.Figure at 0x7f09017efe10>"
      ]
     },
     "metadata": {
      "tags": []
     },
     "output_type": "display_data"
    }
   ],
   "source": [
    "#number of examples per class in training set\n",
    "training_examples = img_info_rand.iloc[0:index_train,:]\n",
    "examples_per_label = training_examples.label.value_counts()\n",
    "examples_per_label.plot(kind=\"hist\", title=\"number of training examples\")"
   ]
  },
  {
   "cell_type": "markdown",
   "metadata": {
    "colab_type": "text",
    "id": "KocTGdVnvAuM"
   },
   "source": [
    "The majority of classes hold approximately between 100 and 150 examples, least is about 50 examples."
   ]
  },
  {
   "cell_type": "code",
   "execution_count": 18,
   "metadata": {
    "colab": {
     "base_uri": "https://localhost:8080/",
     "height": 35
    },
    "colab_type": "code",
    "id": "VIze9u-UCXbP",
    "outputId": "e436afb8-5993-4a5c-b541-6e1255df9a88"
   },
   "outputs": [
    {
     "name": "stdout",
     "output_type": "stream",
     "text": [
      "Correlation is -0.041467630664695526\n"
     ]
    }
   ],
   "source": [
    "#incorrect predictions\n",
    "incorrect = predictions[predictions[\"label_numeric\"] != predictions[\"prediction\"]]\n",
    "incorrect = incorrect[['prediction', 'label_numeric', 'label', 'source', 'filename', 'path']]\n",
    "\n",
    "#number of mistakes per class in test set\n",
    "mistakes_per_label = incorrect.label.value_counts()\n",
    "\n",
    "#pull together in df\n",
    "examples_vs_mistakes = pd.DataFrame({'examples': examples_per_label, 'errors': mistakes_per_label})\n",
    "#all species no mistakes were made on appear as NA, set them to 0\n",
    "examples_vs_mistakes = examples_vs_mistakes.fillna(value=0)\n",
    "#calculate error amount\n",
    "examples_vs_mistakes[\"error_amount\"] = examples_vs_mistakes[\"errors\"] / examples_vs_mistakes[\"examples\"]\n",
    "\n",
    "print(\"Correlation is\", examples_vs_mistakes[\"error_amount\"].corr(examples_vs_mistakes[\"examples\"]))"
   ]
  },
  {
   "cell_type": "code",
   "execution_count": 21,
   "metadata": {
    "colab": {
     "base_uri": "https://localhost:8080/",
     "height": 397
    },
    "colab_type": "code",
    "id": "b90YDl-ethu9",
    "outputId": "480d5475-dd66-4b19-aa08-1206b3be9bd5"
   },
   "outputs": [
    {
     "data": {
      "text/plain": [
       "Text(0.5,1,'Amount of training examples vs errors on test set')"
      ]
     },
     "execution_count": 21,
     "metadata": {
      "tags": []
     },
     "output_type": "execute_result"
    },
    {
     "data": {
      "image/png": "[encoded data removed]",
      "text/plain": [
       "<matplotlib.figure.Figure at 0x7fc3e6916f60>"
      ]
     },
     "metadata": {
      "tags": []
     },
     "output_type": "display_data"
    }
   ],
   "source": [
    "sns.lmplot(x='error_amount',y='examples',data=examples_vs_mistakes,fit_reg=True)\n",
    "ax = plt.gca()\n",
    "ax.set_title(\"Amount of training examples vs errors on test set\")"
   ]
  },
  {
   "cell_type": "markdown",
   "metadata": {
    "colab_type": "text",
    "id": "RTaDgh6Ktw3H"
   },
   "source": [
    "We can observe a really slight negative correlation: The less training examples are available, the higher is the amount of errors."
   ]
  },
  {
   "cell_type": "markdown",
   "metadata": {
    "colab_type": "text",
    "id": "Cw1TuS_jY9mt"
   },
   "source": [
    "### Is the performance different for lab/field pictures?"
   ]
  },
  {
   "cell_type": "markdown",
   "metadata": {
    "colab_type": "text",
    "id": "9EJ-R_98ZEf0"
   },
   "source": [
    "Is the model more prone to making errors when classifying pictures taken in the lab vs in the field?\n",
    "\n",
    "- Amount of lab pictures misclassified\n",
    "- Amount of field pictures misclassified"
   ]
  },
  {
   "cell_type": "code",
   "execution_count": 19,
   "metadata": {
    "colab": {
     "base_uri": "https://localhost:8080/",
     "height": 52
    },
    "colab_type": "code",
    "id": "NTFVKC9sZOtz",
    "outputId": "ab3a4b51-41f7-400f-ccb5-2e51e100bf54"
   },
   "outputs": [
    {
     "name": "stdout",
     "output_type": "stream",
     "text": [
      "Error amount lab picures: 0.058033780857514074\n",
      "Error amount field pictures: 0.2570694087403599\n"
     ]
    }
   ],
   "source": [
    "lab_errors = incorrect[incorrect[\"source\"] == \"lab\"]\n",
    "amount_lab_errors = len(lab_errors)/len(predictions[predictions[\"source\"] == \"lab\"])\n",
    "\n",
    "field_errors = incorrect[incorrect[\"source\"] == \"field\"]\n",
    "amount_field_errors = len(field_errors)/len(predictions[predictions[\"source\"] == \"field\"])\n",
    "\n",
    "print(\"Error amount lab picures: \" + str(amount_lab_errors))\n",
    "print(\"Error amount field pictures: \" + str(amount_field_errors))"
   ]
  },
  {
   "cell_type": "markdown",
   "metadata": {
    "colab_type": "text",
    "id": "z2QV3dn-wdr8"
   },
   "source": [
    "Much higher error amount on the field images."
   ]
  },
  {
   "cell_type": "markdown",
   "metadata": {
    "colab_type": "text",
    "id": "m-uAYywhCY0H"
   },
   "source": [
    "### Show examples of classes the model could predict worst/best"
   ]
  },
  {
   "cell_type": "markdown",
   "metadata": {
    "colab_type": "text",
    "id": "ymQaDpPaCqVD"
   },
   "source": [
    "On which classes did the model perform well and which were often misclassified?"
   ]
  },
  {
   "cell_type": "markdown",
   "metadata": {
    "colab_type": "text",
    "id": "pc1njExrxTBA"
   },
   "source": [
    "List the species no errors were made on:"
   ]
  },
  {
   "cell_type": "code",
   "execution_count": 23,
   "metadata": {
    "colab": {
     "base_uri": "https://localhost:8080/",
     "height": 1537
    },
    "colab_type": "code",
    "id": "EkaoBrkzZPer",
    "outputId": "a9b693c8-8982-40a2-df74-5add39ae1f3c"
   },
   "outputs": [
    {
     "data": {
      "text/html": [
       "<div>\n",
       "<style scoped>\n",
       "    .dataframe tbody tr th:only-of-type {\n",
       "        vertical-align: middle;\n",
       "    }\n",
       "\n",
       "    .dataframe tbody tr th {\n",
       "        vertical-align: top;\n",
       "    }\n",
       "\n",
       "    .dataframe thead th {\n",
       "        text-align: right;\n",
       "    }\n",
       "</style>\n",
       "<table border=\"1\" class=\"dataframe\">\n",
       "  <thead>\n",
       "    <tr style=\"text-align: right;\">\n",
       "      <th></th>\n",
       "      <th>errors</th>\n",
       "      <th>examples</th>\n",
       "      <th>error_amount</th>\n",
       "    </tr>\n",
       "  </thead>\n",
       "  <tbody>\n",
       "    <tr>\n",
       "      <th>Abies concolor</th>\n",
       "      <td>0.0</td>\n",
       "      <td>196</td>\n",
       "      <td>0.0</td>\n",
       "    </tr>\n",
       "    <tr>\n",
       "      <th>Abies nordmanniana</th>\n",
       "      <td>0.0</td>\n",
       "      <td>126</td>\n",
       "      <td>0.0</td>\n",
       "    </tr>\n",
       "    <tr>\n",
       "      <th>Acer campestre</th>\n",
       "      <td>0.0</td>\n",
       "      <td>122</td>\n",
       "      <td>0.0</td>\n",
       "    </tr>\n",
       "    <tr>\n",
       "      <th>Acer griseum</th>\n",
       "      <td>0.0</td>\n",
       "      <td>105</td>\n",
       "      <td>0.0</td>\n",
       "    </tr>\n",
       "    <tr>\n",
       "      <th>Acer palmatum</th>\n",
       "      <td>0.0</td>\n",
       "      <td>172</td>\n",
       "      <td>0.0</td>\n",
       "    </tr>\n",
       "    <tr>\n",
       "      <th>Acer saccharum</th>\n",
       "      <td>0.0</td>\n",
       "      <td>149</td>\n",
       "      <td>0.0</td>\n",
       "    </tr>\n",
       "    <tr>\n",
       "      <th>Aesculus hippocastamon</th>\n",
       "      <td>0.0</td>\n",
       "      <td>126</td>\n",
       "      <td>0.0</td>\n",
       "    </tr>\n",
       "    <tr>\n",
       "      <th>Albizia julibrissin</th>\n",
       "      <td>0.0</td>\n",
       "      <td>118</td>\n",
       "      <td>0.0</td>\n",
       "    </tr>\n",
       "    <tr>\n",
       "      <th>Amelanchier laevis</th>\n",
       "      <td>0.0</td>\n",
       "      <td>121</td>\n",
       "      <td>0.0</td>\n",
       "    </tr>\n",
       "    <tr>\n",
       "      <th>Betula alleghaniensis</th>\n",
       "      <td>0.0</td>\n",
       "      <td>117</td>\n",
       "      <td>0.0</td>\n",
       "    </tr>\n",
       "    <tr>\n",
       "      <th>Betula populifolia</th>\n",
       "      <td>0.0</td>\n",
       "      <td>120</td>\n",
       "      <td>0.0</td>\n",
       "    </tr>\n",
       "    <tr>\n",
       "      <th>Carya cordiformis</th>\n",
       "      <td>0.0</td>\n",
       "      <td>170</td>\n",
       "      <td>0.0</td>\n",
       "    </tr>\n",
       "    <tr>\n",
       "      <th>Carya ovata</th>\n",
       "      <td>0.0</td>\n",
       "      <td>123</td>\n",
       "      <td>0.0</td>\n",
       "    </tr>\n",
       "    <tr>\n",
       "      <th>Carya tomentosa</th>\n",
       "      <td>0.0</td>\n",
       "      <td>152</td>\n",
       "      <td>0.0</td>\n",
       "    </tr>\n",
       "    <tr>\n",
       "      <th>Cedrus libani</th>\n",
       "      <td>0.0</td>\n",
       "      <td>134</td>\n",
       "      <td>0.0</td>\n",
       "    </tr>\n",
       "    <tr>\n",
       "      <th>Cercidiphyllum japonicum</th>\n",
       "      <td>0.0</td>\n",
       "      <td>112</td>\n",
       "      <td>0.0</td>\n",
       "    </tr>\n",
       "    <tr>\n",
       "      <th>Chamaecyparis pisifera</th>\n",
       "      <td>0.0</td>\n",
       "      <td>149</td>\n",
       "      <td>0.0</td>\n",
       "    </tr>\n",
       "    <tr>\n",
       "      <th>Chamaecyparis thyoides</th>\n",
       "      <td>0.0</td>\n",
       "      <td>125</td>\n",
       "      <td>0.0</td>\n",
       "    </tr>\n",
       "    <tr>\n",
       "      <th>Corylus colurna</th>\n",
       "      <td>0.0</td>\n",
       "      <td>68</td>\n",
       "      <td>0.0</td>\n",
       "    </tr>\n",
       "    <tr>\n",
       "      <th>Fraxinus americana</th>\n",
       "      <td>0.0</td>\n",
       "      <td>78</td>\n",
       "      <td>0.0</td>\n",
       "    </tr>\n",
       "    <tr>\n",
       "      <th>Gymnocladus dioicus</th>\n",
       "      <td>0.0</td>\n",
       "      <td>121</td>\n",
       "      <td>0.0</td>\n",
       "    </tr>\n",
       "    <tr>\n",
       "      <th>Larix decidua</th>\n",
       "      <td>0.0</td>\n",
       "      <td>112</td>\n",
       "      <td>0.0</td>\n",
       "    </tr>\n",
       "    <tr>\n",
       "      <th>Liquidambar styraciflua</th>\n",
       "      <td>0.0</td>\n",
       "      <td>129</td>\n",
       "      <td>0.0</td>\n",
       "    </tr>\n",
       "    <tr>\n",
       "      <th>Maclura pomifera</th>\n",
       "      <td>0.0</td>\n",
       "      <td>362</td>\n",
       "      <td>0.0</td>\n",
       "    </tr>\n",
       "    <tr>\n",
       "      <th>Malus hupehensis</th>\n",
       "      <td>0.0</td>\n",
       "      <td>127</td>\n",
       "      <td>0.0</td>\n",
       "    </tr>\n",
       "    <tr>\n",
       "      <th>Morus alba</th>\n",
       "      <td>0.0</td>\n",
       "      <td>119</td>\n",
       "      <td>0.0</td>\n",
       "    </tr>\n",
       "    <tr>\n",
       "      <th>Morus rubra</th>\n",
       "      <td>0.0</td>\n",
       "      <td>108</td>\n",
       "      <td>0.0</td>\n",
       "    </tr>\n",
       "    <tr>\n",
       "      <th>Oxydendrum arboreum</th>\n",
       "      <td>0.0</td>\n",
       "      <td>129</td>\n",
       "      <td>0.0</td>\n",
       "    </tr>\n",
       "    <tr>\n",
       "      <th>Picea abies</th>\n",
       "      <td>0.0</td>\n",
       "      <td>139</td>\n",
       "      <td>0.0</td>\n",
       "    </tr>\n",
       "    <tr>\n",
       "      <th>Pinus peucea</th>\n",
       "      <td>0.0</td>\n",
       "      <td>124</td>\n",
       "      <td>0.0</td>\n",
       "    </tr>\n",
       "    <tr>\n",
       "      <th>Pinus resinosa</th>\n",
       "      <td>0.0</td>\n",
       "      <td>136</td>\n",
       "      <td>0.0</td>\n",
       "    </tr>\n",
       "    <tr>\n",
       "      <th>Pinus sylvestris</th>\n",
       "      <td>0.0</td>\n",
       "      <td>121</td>\n",
       "      <td>0.0</td>\n",
       "    </tr>\n",
       "    <tr>\n",
       "      <th>Populus deltoides</th>\n",
       "      <td>0.0</td>\n",
       "      <td>135</td>\n",
       "      <td>0.0</td>\n",
       "    </tr>\n",
       "    <tr>\n",
       "      <th>Populus grandidentata</th>\n",
       "      <td>0.0</td>\n",
       "      <td>133</td>\n",
       "      <td>0.0</td>\n",
       "    </tr>\n",
       "    <tr>\n",
       "      <th>Prunus pensylvanica</th>\n",
       "      <td>0.0</td>\n",
       "      <td>121</td>\n",
       "      <td>0.0</td>\n",
       "    </tr>\n",
       "    <tr>\n",
       "      <th>Quercus acutissima</th>\n",
       "      <td>0.0</td>\n",
       "      <td>135</td>\n",
       "      <td>0.0</td>\n",
       "    </tr>\n",
       "    <tr>\n",
       "      <th>Quercus coccinea</th>\n",
       "      <td>0.0</td>\n",
       "      <td>120</td>\n",
       "      <td>0.0</td>\n",
       "    </tr>\n",
       "    <tr>\n",
       "      <th>Quercus macrocarpa</th>\n",
       "      <td>0.0</td>\n",
       "      <td>132</td>\n",
       "      <td>0.0</td>\n",
       "    </tr>\n",
       "    <tr>\n",
       "      <th>Quercus palustris</th>\n",
       "      <td>0.0</td>\n",
       "      <td>112</td>\n",
       "      <td>0.0</td>\n",
       "    </tr>\n",
       "    <tr>\n",
       "      <th>Quercus phellos</th>\n",
       "      <td>0.0</td>\n",
       "      <td>110</td>\n",
       "      <td>0.0</td>\n",
       "    </tr>\n",
       "    <tr>\n",
       "      <th>Quercus robur</th>\n",
       "      <td>0.0</td>\n",
       "      <td>118</td>\n",
       "      <td>0.0</td>\n",
       "    </tr>\n",
       "    <tr>\n",
       "      <th>Quercus shumardii</th>\n",
       "      <td>0.0</td>\n",
       "      <td>121</td>\n",
       "      <td>0.0</td>\n",
       "    </tr>\n",
       "    <tr>\n",
       "      <th>Salix babylonica</th>\n",
       "      <td>0.0</td>\n",
       "      <td>145</td>\n",
       "      <td>0.0</td>\n",
       "    </tr>\n",
       "    <tr>\n",
       "      <th>Styrax obassia</th>\n",
       "      <td>0.0</td>\n",
       "      <td>67</td>\n",
       "      <td>0.0</td>\n",
       "    </tr>\n",
       "    <tr>\n",
       "      <th>Syringa reticulata</th>\n",
       "      <td>0.0</td>\n",
       "      <td>77</td>\n",
       "      <td>0.0</td>\n",
       "    </tr>\n",
       "    <tr>\n",
       "      <th>Taxodium distichum</th>\n",
       "      <td>0.0</td>\n",
       "      <td>139</td>\n",
       "      <td>0.0</td>\n",
       "    </tr>\n",
       "    <tr>\n",
       "      <th>Tilia tomentosa</th>\n",
       "      <td>0.0</td>\n",
       "      <td>112</td>\n",
       "      <td>0.0</td>\n",
       "    </tr>\n",
       "    <tr>\n",
       "      <th>Tsuga canadensis</th>\n",
       "      <td>0.0</td>\n",
       "      <td>152</td>\n",
       "      <td>0.0</td>\n",
       "    </tr>\n",
       "  </tbody>\n",
       "</table>\n",
       "</div>"
      ],
      "text/plain": [
       "                          errors  examples  error_amount\n",
       "Abies concolor               0.0       196           0.0\n",
       "Abies nordmanniana           0.0       126           0.0\n",
       "Acer campestre               0.0       122           0.0\n",
       "Acer griseum                 0.0       105           0.0\n",
       "Acer palmatum                0.0       172           0.0\n",
       "Acer saccharum               0.0       149           0.0\n",
       "Aesculus hippocastamon       0.0       126           0.0\n",
       "Albizia julibrissin          0.0       118           0.0\n",
       "Amelanchier laevis           0.0       121           0.0\n",
       "Betula alleghaniensis        0.0       117           0.0\n",
       "Betula populifolia           0.0       120           0.0\n",
       "Carya cordiformis            0.0       170           0.0\n",
       "Carya ovata                  0.0       123           0.0\n",
       "Carya tomentosa              0.0       152           0.0\n",
       "Cedrus libani                0.0       134           0.0\n",
       "Cercidiphyllum japonicum     0.0       112           0.0\n",
       "Chamaecyparis pisifera       0.0       149           0.0\n",
       "Chamaecyparis thyoides       0.0       125           0.0\n",
       "Corylus colurna              0.0        68           0.0\n",
       "Fraxinus americana           0.0        78           0.0\n",
       "Gymnocladus dioicus          0.0       121           0.0\n",
       "Larix decidua                0.0       112           0.0\n",
       "Liquidambar styraciflua      0.0       129           0.0\n",
       "Maclura pomifera             0.0       362           0.0\n",
       "Malus hupehensis             0.0       127           0.0\n",
       "Morus alba                   0.0       119           0.0\n",
       "Morus rubra                  0.0       108           0.0\n",
       "Oxydendrum arboreum          0.0       129           0.0\n",
       "Picea abies                  0.0       139           0.0\n",
       "Pinus peucea                 0.0       124           0.0\n",
       "Pinus resinosa               0.0       136           0.0\n",
       "Pinus sylvestris             0.0       121           0.0\n",
       "Populus deltoides            0.0       135           0.0\n",
       "Populus grandidentata        0.0       133           0.0\n",
       "Prunus pensylvanica          0.0       121           0.0\n",
       "Quercus acutissima           0.0       135           0.0\n",
       "Quercus coccinea             0.0       120           0.0\n",
       "Quercus macrocarpa           0.0       132           0.0\n",
       "Quercus palustris            0.0       112           0.0\n",
       "Quercus phellos              0.0       110           0.0\n",
       "Quercus robur                0.0       118           0.0\n",
       "Quercus shumardii            0.0       121           0.0\n",
       "Salix babylonica             0.0       145           0.0\n",
       "Styrax obassia               0.0        67           0.0\n",
       "Syringa reticulata           0.0        77           0.0\n",
       "Taxodium distichum           0.0       139           0.0\n",
       "Tilia tomentosa              0.0       112           0.0\n",
       "Tsuga canadensis             0.0       152           0.0"
      ]
     },
     "execution_count": 23,
     "metadata": {
      "tags": []
     },
     "output_type": "execute_result"
    }
   ],
   "source": [
    "examples_vs_mistakes[examples_vs_mistakes[\"error_amount\"] == min(examples_vs_mistakes[\"error_amount\"])]"
   ]
  },
  {
   "cell_type": "markdown",
   "metadata": {
    "colab_type": "text",
    "id": "-VPqxdrFxeg4"
   },
   "source": [
    "Species with the highest error rate:"
   ]
  },
  {
   "cell_type": "code",
   "execution_count": 24,
   "metadata": {
    "colab": {
     "base_uri": "https://localhost:8080/",
     "height": 80
    },
    "colab_type": "code",
    "id": "Zxmo-Wzvw8JW",
    "outputId": "b31c7d80-3c29-4d2d-b0d5-cefae5d7891f"
   },
   "outputs": [
    {
     "data": {
      "text/html": [
       "<div>\n",
       "<style scoped>\n",
       "    .dataframe tbody tr th:only-of-type {\n",
       "        vertical-align: middle;\n",
       "    }\n",
       "\n",
       "    .dataframe tbody tr th {\n",
       "        vertical-align: top;\n",
       "    }\n",
       "\n",
       "    .dataframe thead th {\n",
       "        text-align: right;\n",
       "    }\n",
       "</style>\n",
       "<table border=\"1\" class=\"dataframe\">\n",
       "  <thead>\n",
       "    <tr style=\"text-align: right;\">\n",
       "      <th></th>\n",
       "      <th>errors</th>\n",
       "      <th>examples</th>\n",
       "      <th>error_amount</th>\n",
       "    </tr>\n",
       "  </thead>\n",
       "  <tbody>\n",
       "    <tr>\n",
       "      <th>Ulmus glabra</th>\n",
       "      <td>12.0</td>\n",
       "      <td>118</td>\n",
       "      <td>0.101695</td>\n",
       "    </tr>\n",
       "  </tbody>\n",
       "</table>\n",
       "</div>"
      ],
      "text/plain": [
       "              errors  examples  error_amount\n",
       "Ulmus glabra    12.0       118      0.101695"
      ]
     },
     "execution_count": 24,
     "metadata": {
      "tags": []
     },
     "output_type": "execute_result"
    }
   ],
   "source": [
    "examples_vs_mistakes[examples_vs_mistakes[\"error_amount\"] == max(examples_vs_mistakes[\"error_amount\"])]"
   ]
  },
  {
   "cell_type": "markdown",
   "metadata": {
    "colab_type": "text",
    "id": "H00gtrYVcYT5"
   },
   "source": [
    "Example for (one of the species with the) lowest error rate (abies nordmanniana):\n",
    "\n",
    "<img src=\"http://drive.google.com/uc?export=view&id=1L-oVJRD3m2pfS0FuEQrpIzlSXHSczYxt\">\n",
    "          \n",
    "Example for species with the highest error rate (ulmus glabra):\n",
    "\n",
    "<img src=\"http://drive.google.com/uc?export=view&id=1XeO7cb3l--kY0AOAK-gM-SGKCGDddJhT\">"
   ]
  },
  {
   "cell_type": "markdown",
   "metadata": {
    "colab_type": "text",
    "id": "EDG2MeM90zUW"
   },
   "source": [
    "### Visualize important picture regions "
   ]
  },
  {
   "cell_type": "markdown",
   "metadata": {
    "colab_type": "text",
    "id": "wmLxGekC28oL"
   },
   "source": [
    "**Gradient weighted class activation maps**\n",
    "\n",
    "We predict the class of one image with our network. From the output, we select the column corresponding to the class that the highest probability was assigned to. Next, we get the output from the final convolutional layer (the final convolutional feature map, eg (14,14,512)). We then compute the gradient of our selected class’s output with respect to the feature map (In how far does changing the values in the feature map change the output for our selected class?). \n",
    "\n",
    "From these gradients, we select the maximum gradient per channel of the feature map (so the maximum gradient for each filter (512,) --> like a global max pooling layer: collapse each filter (each channel) so each feature that is detected (by the corresponding filter) in one node ((1,1,512) or (512,)) and multiply the first two dimensions oft he feature map with it (so multiply each of the 14x14 values per each of the 512 channels with the one maximum gradient value for the corresponding channel). From this, we obtain the weighted feature map (14, 14, 512), where each of the 14x14 values inside each channel is weighted by the maximum gradient of this channel. \n",
    "\n",
    "We then average across the channel axis into a (14, 14) heatmap (so we have one average value for each of the first two dimensions of the weighted feature map across all channels). The higher a value in this heatmap, the more does the output for our selected class depend on it. \n",
    "\n",
    "Then, we set all negative entries in the heatmap to zero and normalize all values by dividing them by the maximum value inside the heatmap, so that now values range from 0 to 1. Next, we resize the heatmap to the size of the image we generated the heatmap for (the input image we predicted a class for). Then, we multiply each of the heatmap’s entries by 255, to obtain a grayscale image. This is then pseudocolored. Finally, the heatmap is imposed on the original image. \n",
    "\n",
    "From this, we can see, which parts of the image the model mainly used to come up with a classification, as\n",
    "\n",
    "**we highlight the feature map regions that cause the most change in the output**.\n"
   ]
  },
  {
   "cell_type": "code",
   "execution_count": 0,
   "metadata": {
    "colab": {},
    "colab_type": "code",
    "id": "ii4j2k8j0z4h"
   },
   "outputs": [],
   "source": [
    "def generate_heatmap(img_array, model, layer_output, layer_conv, img):\n",
    "    '''\n",
    "    Computes a gradient weighted class activation map for an image by weighing the final convolutional \n",
    "    feature map with the gradient of the predicted class with respect to the channel and then averaging \n",
    "    along the channel (filter) axis to visualize which image regions are important for classifying the\n",
    "    image.\n",
    "    \n",
    "    Input:\n",
    "    - img_array: normalized rgb array of an image with shape (w,h,c) as expected by the model (assuming\n",
    "      the amount of training examples is given on the first axis for the model input)\n",
    "    - model: model to base the class activation map on\n",
    "    - layer_ouput: name of the model's softmax output layer (str)\n",
    "    - layer_conv: name of the final convolutional layer (this feature map is used) (str)\n",
    "    - img: filename (with path) of the image corresponding to img_array, of any size\n",
    "    \n",
    "    Returns:\n",
    "    - img with the class activation map superimposed on it \n",
    "    '''\n",
    "    \n",
    "    #expand img_array to fit into model: (1,w,h,c)\n",
    "    x = np.expand_dims(img_array, axis=0)\n",
    "    #predict the corresponding class\n",
    "    pred_class = np.argmax(model.predict(x))\n",
    "    layer_output_name = layer_output\n",
    "    layer_conv_name = layer_conv\n",
    "    #get indices of the relevant layers\n",
    "    output_layer_idx = [idx for idx, layer in enumerate(model.layers) if layer.name == layer_output_name][0]\n",
    "    conv_layer_idx = [idx for idx, layer in enumerate(model.layers) if layer.name == layer_conv_name][0]\n",
    "    #change softmax layer to linear activation layer to obtain better results\n",
    "    model.layers[output_layer_idx].activation = activations.linear\n",
    "    #apply changes (to new model instance, original model stays untouched)\n",
    "    model_maps = utils.apply_modifications(model)\n",
    "    #generate class activation map\n",
    "    heatmap = visualize_cam(model=model_maps, layer_idx=output_layer_idx, filter_indices=[pred_class], seed_input=x, penultimate_layer_idx=conv_layer_idx)\n",
    "    #read image the map is to be superimposed on\n",
    "    img = cv2.imread(img)\n",
    "    #resize map to the size of img\n",
    "    heatmap = cv2.resize(heatmap, (img.shape[1], img.shape[0]))\n",
    "    #superimpose\n",
    "    superimposed_img = cv2.addWeighted(img, 0.6, heatmap, 0.4, 0)\n",
    "    \n",
    "    return superimposed_img"
   ]
  },
  {
   "cell_type": "markdown",
   "metadata": {
    "colab_type": "text",
    "id": "JiMN9Gxa3Q5g"
   },
   "source": [
    "Data frame containing one lab picture per class. "
   ]
  },
  {
   "cell_type": "code",
   "execution_count": 0,
   "metadata": {
    "colab": {},
    "colab_type": "code",
    "id": "4FTAqnz13vpc"
   },
   "outputs": [],
   "source": [
    "img_info = pd.read_csv(\"img_info.csv\")\n",
    "img_info_lab = img_info[img_info[\"source\"] == \"lab\"]\n",
    "\n",
    "k = 0\n",
    "for index, row in img_info_lab.iterrows():\n",
    "    if k == 0:\n",
    "        if row[\"labels_integer\"] == k:\n",
    "            example_per_label_lab = row\n",
    "            example_per_label_lab = pd.DataFrame([example_per_label_lab])\n",
    "            k += 1\n",
    "    elif k == 185:\n",
    "        break\n",
    "    else:\n",
    "        if row[\"labels_integer\"] == k:\n",
    "            example_per_label_lab = example_per_label_lab.append(row)\n",
    "            k +=1"
   ]
  },
  {
   "cell_type": "markdown",
   "metadata": {
    "colab_type": "text",
    "id": "xUdtsoZvAscA"
   },
   "source": [
    "Generate heatmap for each lab example (one per class)."
   ]
  },
  {
   "cell_type": "code",
   "execution_count": 0,
   "metadata": {
    "colab": {},
    "colab_type": "code",
    "id": "-q6lxcEj8BiH"
   },
   "outputs": [],
   "source": [
    "output_path = \"heatmaps/lab/\"\n",
    "col_index_path = example_per_label_lab.columns.get_loc(\"image_path\")\n",
    "col_index_filename = example_per_label_lab.columns.get_loc(\"filename\")\n",
    "col_index_label = example_per_label_lab.columns.get_loc(\"species\")\n",
    "\n",
    "for i in range(len(example_per_label_lab)):\n",
    "  path = example_per_label_lab.iloc[i, col_index_path]\n",
    "  img = cv2.imread(path)\n",
    "  img = cv2.resize(img, (64, 64))\n",
    "  img = img/255\n",
    "  heatmap = generate_heatmap(img, model, \"dense_2\", \"activation_2\", path)\n",
    "  filename = example_per_label_lab.iloc[i, col_index_label] + \"_heatmap_\" +  example_per_label_lab.iloc[i, col_index_filename]\n",
    "  cv2.imwrite(output_path + filename, heatmap)"
   ]
  },
  {
   "cell_type": "markdown",
   "metadata": {
    "colab_type": "text",
    "id": "hNhGD-6e35dS"
   },
   "source": [
    "Data frame containing one field picture per class (for some reason, there are no field images of species \"ulmus procera\t\" corresponding to the numeric label 136, so that one is skipped in the code below)."
   ]
  },
  {
   "cell_type": "code",
   "execution_count": 0,
   "metadata": {
    "colab": {},
    "colab_type": "code",
    "id": "Az06FWBi31Ed"
   },
   "outputs": [],
   "source": [
    "img_info = pd.read_csv(\"img_info.csv\")\n",
    "img_info_field = img_info[img_info[\"source\"] == \"field\"]\n",
    "\n",
    "k = 0\n",
    "for index, row in img_info_field.iterrows():\n",
    "    if k == 0:\n",
    "        if row[\"labels_integer\"] == k:\n",
    "            example_per_label_field = row\n",
    "            example_per_label_field = pd.DataFrame([example_per_label_field])\n",
    "            k += 1\n",
    "    elif k == 185:\n",
    "        break\n",
    "    elif k == 136:\n",
    "        k +=1\n",
    "    else:\n",
    "        if row[\"labels_integer\"] == k:\n",
    "            example_per_label_field = example_per_label_field.append(row)\n",
    "            k +=1"
   ]
  },
  {
   "cell_type": "code",
   "execution_count": 0,
   "metadata": {
    "colab": {},
    "colab_type": "code",
    "id": "sOjJ67SU03sN"
   },
   "outputs": [],
   "source": [
    "output_path = \"heatmaps/field/\"\n",
    "col_index_path = example_per_label_field.columns.get_loc(\"image_path\")\n",
    "col_index_filename = example_per_label_field.columns.get_loc(\"filename\")\n",
    "col_index_label = example_per_label_field.columns.get_loc(\"species\")\n",
    "\n",
    "for i in range(len(example_per_label_field)):\n",
    "  path = example_per_label_field.iloc[i, col_index_path]\n",
    "  img = cv2.imread(path)\n",
    "  img = cv2.resize(img, (64, 64))\n",
    "  img = img/255\n",
    "  heatmap = generate_heatmap(img, model, \"dense_2\", \"activation_2\", path)\n",
    "  filename = example_per_label_field.iloc[i, col_index_label] + \"_heatmap_\" +  example_per_label_field.iloc[i, col_index_filename]\n",
    "  cv2.imwrite(output_path + filename, heatmap)"
   ]
  },
  {
   "cell_type": "markdown",
   "metadata": {
    "colab_type": "text",
    "id": "CCbRRJCLr7uo"
   },
   "source": [
    "Examples of lab picture heatmaps:\n",
    "\n",
    "<img src=\"http://drive.google.com/uc?export=view&id=1SE3rvIH3rEjE6mRpxPzSghkaA49yWGsI\">\n",
    "\n",
    "Examples of field picture heatmaps:\n",
    "\n",
    "<img src=\"http://drive.google.com/uc?export=view&id=13AOGuAUiueGLcP2SiDFdftUHEbCM3ukx\">"
   ]
  },
  {
   "cell_type": "markdown",
   "metadata": {
    "colab_type": "text",
    "id": "PCE3nt2MA8Fs"
   },
   "source": [
    "We can see that **for the lab pictures, often not the leaf itself but the tools lying next to the image like a ruler are used by the CNN**. From this we can see, that it is able to detect  patterns, but not to distinguish between those that are relevant for the task and those that are not. We therefore need to clean the input more!\n",
    "\n",
    "How the leaves are really identified and distinguished can be observed better for the field images."
   ]
  },
  {
   "cell_type": "markdown",
   "metadata": {
    "colab_type": "text",
    "id": "eylIYFYXsDw_"
   },
   "source": [
    "Heatmap for the species yielding the lowest error rate (abies nordmanniana):\n",
    "\n",
    "<img src=\"http://drive.google.com/uc?export=view&id=1vGiH0fXgdpj4p0EwjxtOwibEWJ4EQcS8\">\n",
    "\n",
    "Heatmap for the species yielding the highest error rate (ulmus glabra):\n",
    "\n",
    "<img src=\"http://drive.google.com/uc?export=view&id=1rR7DEcfASpvpABWBqdb4NQ4tlbcCVxhH\">"
   ]
  },
  {
   "cell_type": "markdown",
   "metadata": {
    "colab_type": "text",
    "id": "74GRF8ueCzr1"
   },
   "source": [
    "## Conclusion"
   ]
  },
  {
   "cell_type": "markdown",
   "metadata": {
    "colab_type": "text",
    "id": "3q6nGMp_C6dK"
   },
   "source": [
    "Our CNN increased performance as compared to the computer vision algorithm implemented by , doing so with a relatively simple architecture. Specifically, top-1 accuracy rose from ca. 72% (computer vision algorithm) to 89% (our model), training on on average 133 examples per each of the 185 classes of tree species in Northeastern America. This emphasizes how promising the approach of CNNs is for image classification. \n",
    "\n",
    "However, it seems that for tree leaf pictures taken in the lab, the colorbars present on the pictures drew our models' attention, as they seem to have been used to classify these pictures (see the heatmaps). To really only rely on the leaves themselves, in future work, only pictures showing noting but the leaf against a background should be used to train a CNN. This is a clear limitation in this project, especially in the light of the differences in error rates between lab and field pictures.\n",
    "\n",
    "What is more, a bigger dataset, better balanced for the different species could be aqcuired and used. Also, it may be reasonable to use picture versions that have a higher resolution than 64x64 pixels as input to the CNN to further boost performance. In this project, although using Google Colaboratory, computional resources were not sufficient to do so. Especially performance for tree species with relatively small leaves could profit from this approach."
   ]
  },
  {
   "cell_type": "markdown",
   "metadata": {
    "colab_type": "text",
    "id": "z2_KAXQvC99J"
   },
   "source": [
    "##Clean-up"
   ]
  },
  {
   "cell_type": "markdown",
   "metadata": {
    "colab_type": "text",
    "id": "0qhbPpPfxuP2"
   },
   "source": [
    "Terminate the kernel and free memory resources."
   ]
  },
  {
   "cell_type": "code",
   "execution_count": 0,
   "metadata": {
    "colab": {},
    "colab_type": "code",
    "id": "EzS-wFqgxTmD"
   },
   "outputs": [],
   "source": [
    "import os, signal\n",
    "os.kill(os.getpid(), signal.SIGKILL)"
   ]
  }
 ],
 "metadata": {
  "accelerator": "GPU",
  "colab": {
   "collapsed_sections": [],
   "include_colab_link": true,
   "name": "Complete-Workflow.ipynb",
   "provenance": [],
   "toc_visible": true,
   "version": "0.3.2"
  },
  "kernelspec": {
   "display_name": "Python 3",
   "language": "python",
   "name": "python3"
  },
  "language_info": {
   "codemirror_mode": {
    "name": "ipython",
    "version": 3
   },
   "file_extension": ".py",
   "mimetype": "text/x-python",
   "name": "python",
   "nbconvert_exporter": "python",
   "pygments_lexer": "ipython3",
   "version": "3.6.6"
  }
 },
 "nbformat": 4,
 "nbformat_minor": 1
}
