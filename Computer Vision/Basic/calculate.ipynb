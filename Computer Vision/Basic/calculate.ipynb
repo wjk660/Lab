{
 "cells": [
  {
   "cell_type": "code",
   "execution_count": 1,
   "metadata": {},
   "outputs": [],
   "source": [
    "import tensorflow as tf\n",
    "a = tf.constant(6)"
   ]
  },
  {
   "cell_type": "code",
   "execution_count": 3,
   "metadata": {},
   "outputs": [
    {
     "name": "stdout",
     "output_type": "stream",
     "text": [
      "8\n",
      "12\n",
      "4\n",
      "3.0\n",
      "end!\n"
     ]
    }
   ],
   "source": [
    "b = tf.constant(2)\n",
    "dataAdd = tf.add(a,b)\n",
    "dataMul = tf.multiply(a,b)\n",
    "dataSub = tf.subtract(a,b)\n",
    "dataDiv = tf.divide(a,b)\n",
    "with tf.Session() as sess:\n",
    "    print(sess.run(dataAdd))\n",
    "    print(sess.run(dataMul))\n",
    "    print(sess.run(dataSub))\n",
    "    print(sess.run(dataDiv))\n",
    "print('end!')    \n"
   ]
  },
  {
   "cell_type": "code",
   "execution_count": 12,
   "metadata": {},
   "outputs": [
    {
     "name": "stdout",
     "output_type": "stream",
     "text": [
      "None\n",
      "8\n",
      "12\n",
      "4\n",
      "3.0\n",
      "8\n",
      "10\n",
      "10\n",
      "12\n",
      "12\n",
      "end!\n"
     ]
    }
   ],
   "source": [
    "a = tf.Variable(6)\n",
    "b = tf.constant(2)\n",
    "dataAdd = tf.add(a,b)\n",
    "c = tf.assign(a,dataAdd)\n",
    "dataMul = tf.multiply(a,b)\n",
    "dataSub = tf.subtract(a,b)\n",
    "dataDiv = tf.divide(a,b)\n",
    "init = tf.global_variables_initializer()\n",
    "with tf.Session() as sess:\n",
    "    print(sess.run(init))\n",
    "    print(sess.run(dataAdd))\n",
    "    print(sess.run(dataMul))\n",
    "    print(sess.run(dataSub))\n",
    "    print(sess.run(dataDiv))\n",
    "    print(sess.run(c))\n",
    "    print(c.eval())\n",
    "    print(a.eval())\n",
    "    print(c.eval())\n",
    "    print(a.eval())\n",
    "print('end!')    "
   ]
  },
  {
   "cell_type": "code",
   "execution_count": 2,
   "metadata": {},
   "outputs": [
    {
     "name": "stdout",
     "output_type": "stream",
     "text": [
      "None\n",
      "8\n",
      "10\n",
      "16\n",
      "6\n",
      "4.0\n",
      "10\n",
      "12\n",
      "12\n",
      "14\n",
      "14\n",
      "end!\n"
     ]
    }
   ],
   "source": [
    "import tensorflow as tf\n",
    "a = tf.Variable(6)\n",
    "b = tf.constant(2)\n",
    "dataAdd = tf.add(a,b)   \n",
    "c = tf.assign(a,dataAdd)\n",
    "dataMul = tf.multiply(a,b)\n",
    "dataSub = tf.subtract(a,b)\n",
    "dataDiv = tf.divide(a,b)\n",
    "init = tf.global_variables_initializer()\n",
    "with tf.Session() as sess:\n",
    "    print(sess.run(init))\n",
    "    print(sess.run(c))\n",
    "    print(sess.run(dataAdd))\n",
    "    print(sess.run(dataMul))\n",
    "    print(sess.run(dataSub))\n",
    "    print(sess.run(dataDiv))\n",
    "    print(sess.run(c))\n",
    "    print(c.eval())\n",
    "    print(a.eval())\n",
    "    print(c.eval())\n",
    "    print(a.eval())\n",
    "print('end!')    "
   ]
  },
  {
   "cell_type": "code",
   "execution_count": 3,
   "metadata": {},
   "outputs": [
    {
     "name": "stdout",
     "output_type": "stream",
     "text": [
      "None\n",
      "8\n",
      "None\n",
      "8\n",
      "16\n"
     ]
    }
   ],
   "source": [
    "import tensorflow as tf\n",
    "a = tf.Variable(6)\n",
    "b = tf.constant(2)\n",
    "dataAdd = tf.add(a,b) \n",
    "init = tf.global_variables_initializer()\n",
    "with tf.Session() as sess:\n",
    "    print(sess.run(init))\n",
    "    print(sess.run(dataAdd))\n",
    "c = tf.assign(a,dataAdd)\n",
    "dataMul = tf.multiply(a,b)\n",
    "with tf.Session() as sess:\n",
    "    print(sess.run(init))\n",
    "    print(sess.run(c))\n",
    "    print(sess.run(dataMul))"
   ]
  },
  {
   "cell_type": "code",
   "execution_count": null,
   "metadata": {},
   "outputs": [],
   "source": []
  }
 ],
 "metadata": {
  "kernelspec": {
   "display_name": "Python 3",
   "language": "python",
   "name": "python3"
  },
  "language_info": {
   "codemirror_mode": {
    "name": "ipython",
    "version": 3
   },
   "file_extension": ".py",
   "mimetype": "text/x-python",
   "name": "python",
   "nbconvert_exporter": "python",
   "pygments_lexer": "ipython3",
   "version": "3.6.6"
  }
 },
 "nbformat": 4,
 "nbformat_minor": 2
}
