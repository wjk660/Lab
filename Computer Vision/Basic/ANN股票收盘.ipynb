{
 "cells": [
  {
   "cell_type": "code",
   "execution_count": 5,
   "metadata": {},
   "outputs": [
    {
     "name": "stdout",
     "output_type": "stream",
     "text": [
      "[1. 2. 3. 4. 5. 6. 7.]\n"
     ]
    },
    {
     "data": {
      "image/png": "[encoded data removed]",
      "text/plain": [
       "<Figure size 432x288 with 1 Axes>"
      ]
     },
     "metadata": {},
     "output_type": "display_data"
    }
   ],
   "source": [
    "import tensorflow as tf\n",
    "import numpy as np\n",
    "import matplotlib.pyplot as plt\n",
    "date = np.linspace(1,7,7)\n",
    "endPrice = np.array([2511,2390,2591,2396,2451,2461,2461])\n",
    "beginPrice = np.array([2438,2500,2534,2312,2594,2343,2300])\n",
    "print(date)\n",
    "plt.figure()\n",
    "#FOR默认左闭右开\n",
    "for i in range(0,7):\n",
    "    i_date = np.array([i,i])\n",
    "    price = np.array([beginPrice[i],endPrice[i]])\n",
    "    if(endPrice[i]>beginPrice[i]):\n",
    "        plt.plot(i_date,price,'r',lw = 8)\n",
    "    else:\n",
    "        plt.plot(i_date,price,'g',lw = 8)\n",
    "plt.show()\n",
    "#plt.plot坐标参数是二元组【（横坐标1,2），（纵坐标1,2）】       \n",
    "    "
   ]
  },
  {
   "cell_type": "code",
   "execution_count": null,
   "metadata": {},
   "outputs": [],
   "source": []
  }
 ],
 "metadata": {
  "kernelspec": {
   "display_name": "Python 3",
   "language": "python",
   "name": "python3"
  },
  "language_info": {
   "codemirror_mode": {
    "name": "ipython",
    "version": 3
   },
   "file_extension": ".py",
   "mimetype": "text/x-python",
   "name": "python",
   "nbconvert_exporter": "python",
   "pygments_lexer": "ipython3",
   "version": "3.6.6"
  }
 },
 "nbformat": 4,
 "nbformat_minor": 2
}
