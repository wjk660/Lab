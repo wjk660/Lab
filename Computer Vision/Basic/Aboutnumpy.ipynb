{
 "cells": [
  {
   "cell_type": "code",
   "execution_count": 2,
   "metadata": {},
   "outputs": [
    {
     "name": "stdout",
     "output_type": "stream",
     "text": [
      "[1 2 3 4 5]\n",
      "[[1 2 3]\n",
      " [4 5 6]]\n",
      "(5,) (2, 3)\n",
      "[[0. 0. 0. 0. 0.]\n",
      " [0. 0. 0. 0. 0.]\n",
      " [0. 0. 0. 0. 0.]\n",
      " [0. 0. 0. 0. 0.]] [[1. 1. 1. 1. 1. 1.]\n",
      " [1. 1. 1. 1. 1. 1.]\n",
      " [1. 1. 1. 1. 1. 1.]]\n",
      "[[ 1  2  3]\n",
      " [ 4  5 10]]\n",
      "[[2. 2. 2.]\n",
      " [2. 2. 2.]] [[0.5 0.5 0.5]\n",
      " [0.5 0.5 0.5]] [[2. 2. 2.]\n",
      " [2. 2. 2.]] [[-1. -1. -1.]\n",
      " [-1. -1. -1.]] [[ 2.  3.  4.]\n",
      " [ 5.  6. 11.]] [[ 1.  2.  3.]\n",
      " [ 4.  5. 10.]]\n"
     ]
    }
   ],
   "source": [
    "import numpy as np\n",
    "mat1 = np.array([1,2,3,4,5])\n",
    "print(mat1)\n",
    "mat2 = np.array([[1,2,3],[4,5,6]])\n",
    "print(mat2)\n",
    "print(mat1.shape,mat2.shape)\n",
    "print(np.zeros([4,5]),np.ones([3,6]))\n",
    "mat2[1,2] = 10\n",
    "print(mat2)\n",
    "mat3 = np.ones([2,3])\n",
    "print(mat3*2,mat3/2,mat3+1,mat3-2,mat3+mat2,mat3*mat2)\n",
    "#在这个模块中 矩阵相乘是对应元素相乘 而非常见的矩阵乘法"
   ]
  },
  {
   "cell_type": "code",
   "execution_count": null,
   "metadata": {},
   "outputs": [],
   "source": []
  }
 ],
 "metadata": {
  "kernelspec": {
   "display_name": "Python 3",
   "language": "python",
   "name": "python3"
  },
  "language_info": {
   "codemirror_mode": {
    "name": "ipython",
    "version": 3
   },
   "file_extension": ".py",
   "mimetype": "text/x-python",
   "name": "python",
   "nbconvert_exporter": "python",
   "pygments_lexer": "ipython3",
   "version": "3.6.6"
  }
 },
 "nbformat": 4,
 "nbformat_minor": 2
}
