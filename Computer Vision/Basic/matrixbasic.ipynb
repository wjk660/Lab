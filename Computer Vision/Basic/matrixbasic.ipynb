{
 "cells": [
  {
   "cell_type": "code",
   "execution_count": 1,
   "metadata": {},
   "outputs": [
    {
     "name": "stdout",
     "output_type": "stream",
     "text": [
      "8.0\n"
     ]
    }
   ],
   "source": [
    "import tensorflow as tf\n",
    "a = tf.placeholder(tf.float32)\n",
    "b = tf.placeholder(tf.float32)\n",
    "c = tf.add(a,b)\n",
    "with tf.Session() as sess:\n",
    "    print(sess.run(c,feed_dict={a:6,b:2}))"
   ]
  },
  {
   "cell_type": "code",
   "execution_count": 2,
   "metadata": {},
   "outputs": [
    {
     "name": "stdout",
     "output_type": "stream",
     "text": [
      "(3, 2)\n",
      "[[6 1]\n",
      " [7 3]\n",
      " [8 9]]\n",
      "[6 1]\n",
      "[6 7 8]\n",
      "9\n"
     ]
    }
   ],
   "source": [
    "import tensorflow as tf\n",
    "data1 = tf.constant([[6,1], \n",
    "                     [7,3],\n",
    "                     [8,9]])\n",
    "print(data1.shape)\n",
    "with tf.Session() as sess:\n",
    "    print(sess.run(data1))\n",
    "    print(sess.run(data1[0,:]))\n",
    "    print(sess.run(data1[:,0]))\n",
    "    print(sess.run(data1[2,1]))"
   ]
  },
  {
   "cell_type": "code",
   "execution_count": 20,
   "metadata": {},
   "outputs": [
    {
     "name": "stdout",
     "output_type": "stream",
     "text": [
      "[array([[3, 4, 5],\n",
      "       [6, 7, 8]]), array([[3, 4, 5],\n",
      "       [6, 7, 8]]), array([[ 6,  6],\n",
      "       [15, 15]]), array([[6, 6],\n",
      "       [6, 6]]), array([[5, 7, 9],\n",
      "       [5, 7, 9],\n",
      "       [5, 7, 9]]), array([[0, 0],\n",
      "       [0, 0]])]\n",
      "[[1. 1. 1.]\n",
      " [1. 1. 1.]]\n"
     ]
    }
   ],
   "source": [
    "mat0 = tf.constant([[1,2,3],[4,5,6]])\n",
    "mat1 = tf.fill([2,3],2)\n",
    "mat2 = tf.fill([3,2],1)\n",
    "mat3 = tf.fill([2,3],0)\n",
    "matAdd0 = tf.add(mat0,mat1)\n",
    "matAdd1 = tf.add(mat1,mat0)\n",
    "matMul0 = tf.matmul(mat0,mat2)\n",
    "matMul1 = tf.matmul(mat1,mat2)\n",
    "matMul2 = tf.matmul(mat2,mat0)\n",
    "matMul3 = tf.matmul(mat3,mat2)\n",
    "with tf.Session() as sess:\n",
    "    print(sess.run([matAdd0,matAdd1,matMul0,matMul1,matMul2,matMul3]))\n",
    "mat4 = tf.ones([2,3])\n",
    "mat5 = tf.zeros([2,3])\n",
    "matAdd2 = tf.add(mat4,mat5)\n",
    "with tf.Session() as sess:\n",
    "    print(sess.run(matAdd2))"
   ]
  },
  {
   "cell_type": "code",
   "execution_count": null,
   "metadata": {},
   "outputs": [],
   "source": []
  }
 ],
 "metadata": {
  "kernelspec": {
   "display_name": "Python 3",
   "language": "python",
   "name": "python3"
  },
  "language_info": {
   "codemirror_mode": {
    "name": "ipython",
    "version": 3
   },
   "file_extension": ".py",
   "mimetype": "text/x-python",
   "name": "python",
   "nbconvert_exporter": "python",
   "pygments_lexer": "ipython3",
   "version": "3.6.6"
  }
 },
 "nbformat": 4,
 "nbformat_minor": 2
}
