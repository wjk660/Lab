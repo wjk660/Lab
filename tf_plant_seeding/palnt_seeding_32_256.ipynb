{
 "cells": [
  {
   "cell_type": "code",
   "execution_count": 1,
   "metadata": {},
   "outputs": [
    {
     "name": "stderr",
     "output_type": "stream",
     "text": [
      "Using TensorFlow backend.\n"
     ]
    },
    {
     "name": "stdout",
     "output_type": "stream",
     "text": [
      "2.1.0\n",
      "sys.version_info(major=3, minor=6, micro=10, releaselevel='final', serial=0)\n",
      "matplotlib 3.1.3\n",
      "numpy 1.18.1\n",
      "sklearn 0.22.1\n",
      "tensorflow 2.1.0\n",
      "keras 2.3.1\n"
     ]
    }
   ],
   "source": [
    "import matplotlib as mpl\n",
    "import matplotlib.pyplot as plt\n",
    "%matplotlib inline\n",
    "import numpy as np\n",
    "import sklearn\n",
    "import pandas as pd\n",
    "import os\n",
    "import sys\n",
    "import time\n",
    "import tensorflow as tf\n",
    "import keras\n",
    "\n",
    "print(tf.__version__)\n",
    "print(sys.version_info)\n",
    "for module in mpl,np,sklearn,tf,keras:\n",
    "    print(module.__name__,module.__version__)"
   ]
  },
  {
   "cell_type": "code",
   "execution_count": 2,
   "metadata": {},
   "outputs": [
    {
     "name": "stdout",
     "output_type": "stream",
     "text": [
      "True\n",
      "True\n",
      "True\n"
     ]
    }
   ],
   "source": [
    "train_dir = os.path.join(\"plantseeding/train\" )\n",
    "test_dir = os.path.join(\"plantseeding/test\" )\n",
    "label_file = os.path.join(\"plantseeding/sample_submission.csv\" )\n",
    "print(os.path.exists(train_dir))\n",
    "print(os.path.exists(test_dir))\n",
    "print(os.path.exists(label_file))"
   ]
  },
  {
   "cell_type": "code",
   "execution_count": 3,
   "metadata": {
    "scrolled": true
   },
   "outputs": [
    {
     "name": "stdout",
     "output_type": "stream",
     "text": [
      "Found 4750 images belonging to 12 classes.\n",
      "Found 4750 images belonging to 12 classes.\n",
      "4750 4750\n"
     ]
    }
   ],
   "source": [
    "height = 128\n",
    "width = 128\n",
    "channels = 3\n",
    "batch_size = 64\n",
    "num_classes = 12\n",
    "\n",
    "trian_datagen = keras.preprocessing.image.ImageDataGenerator(rescale = 1./255,\n",
    "                                                        rotation_range = 40,\n",
    "                                                        width_shift_range = 0.2,\n",
    "                                                        height_shift_range = 0.2,\n",
    "                                                        shear_range = 0.2,\n",
    "                                                        zoom_range = 0.2,\n",
    "                                                        horizontal_flip = True,\n",
    "                                                        fill_mode = 'nearest')\n",
    "train_generator = trian_datagen.flow_from_directory(train_dir,\n",
    "                                                  target_size = (height,width),\n",
    "                                                  batch_size = batch_size,\n",
    "                                                  seed = 7,\n",
    "                                                  shuffle = True,\n",
    "                                                  class_mode = \"categorical\")\n",
    "test_datagen = keras.preprocessing.image.ImageDataGenerator(rescale = 1./255)\n",
    "test_generator = test_datagen.flow_from_directory(train_dir,\n",
    "                                                  target_size = (height,width),\n",
    "                                                  batch_size = batch_size,\n",
    "                                                  seed = 7,\n",
    "                                                  shuffle = False,\n",
    "                                                  class_mode = \"categorical\")\n",
    "train_num = train_generator.samples\n",
    "test_num = test_generator.samples\n",
    "print(train_num,test_num)"
   ]
  },
  {
   "cell_type": "code",
   "execution_count": 4,
   "metadata": {},
   "outputs": [
    {
     "name": "stdout",
     "output_type": "stream",
     "text": [
      "Model: \"sequential_1\"\n",
      "_________________________________________________________________\n",
      "Layer (type)                 Output Shape              Param #   \n",
      "=================================================================\n",
      "conv2d_1 (Conv2D)            (None, 128, 128, 32)      896       \n",
      "_________________________________________________________________\n",
      "conv2d_2 (Conv2D)            (None, 128, 128, 32)      9248      \n",
      "_________________________________________________________________\n",
      "max_pooling2d_1 (MaxPooling2 (None, 64, 64, 32)        0         \n",
      "_________________________________________________________________\n",
      "conv2d_3 (Conv2D)            (None, 64, 64, 64)        18496     \n",
      "_________________________________________________________________\n",
      "conv2d_4 (Conv2D)            (None, 64, 64, 64)        36928     \n",
      "_________________________________________________________________\n",
      "max_pooling2d_2 (MaxPooling2 (None, 32, 32, 64)        0         \n",
      "_________________________________________________________________\n",
      "conv2d_5 (Conv2D)            (None, 32, 32, 128)       73856     \n",
      "_________________________________________________________________\n",
      "conv2d_6 (Conv2D)            (None, 32, 32, 128)       147584    \n",
      "_________________________________________________________________\n",
      "max_pooling2d_3 (MaxPooling2 (None, 16, 16, 128)       0         \n",
      "_________________________________________________________________\n",
      "conv2d_7 (Conv2D)            (None, 16, 16, 256)       295168    \n",
      "_________________________________________________________________\n",
      "conv2d_8 (Conv2D)            (None, 16, 16, 256)       590080    \n",
      "_________________________________________________________________\n",
      "max_pooling2d_4 (MaxPooling2 (None, 8, 8, 256)         0         \n",
      "_________________________________________________________________\n",
      "flatten_1 (Flatten)          (None, 16384)             0         \n",
      "_________________________________________________________________\n",
      "dense_1 (Dense)              (None, 128)               2097280   \n",
      "_________________________________________________________________\n",
      "dropout_1 (Dropout)          (None, 128)               0         \n",
      "_________________________________________________________________\n",
      "dense_2 (Dense)              (None, 12)                1548      \n",
      "=================================================================\n",
      "Total params: 3,271,084\n",
      "Trainable params: 3,271,084\n",
      "Non-trainable params: 0\n",
      "_________________________________________________________________\n"
     ]
    }
   ],
   "source": [
    "model = keras.models.Sequential([\n",
    "    keras.layers.Conv2D(filters = 32,kernel_size = 3,padding = 'same',\n",
    "                       activation = 'relu',input_shape = [width,height,channels]),\n",
    "    keras.layers.Conv2D(filters = 32,kernel_size = 3,padding = 'same',\n",
    "                       activation = 'relu'),\n",
    "    keras.layers.MaxPool2D(pool_size = 2),\n",
    "    \n",
    "    keras.layers.Conv2D(filters = 64,kernel_size = 3,padding = 'same',\n",
    "                       activation = 'relu'),\n",
    "    keras.layers.Conv2D(filters = 64,kernel_size = 3,padding = 'same',\n",
    "                       activation = 'relu'),\n",
    "    keras.layers.MaxPool2D(pool_size = 2),\n",
    "    \n",
    "    keras.layers.Conv2D(filters = 128,kernel_size = 3,padding = 'same',\n",
    "                       activation = 'relu'),\n",
    "    keras.layers.Conv2D(filters = 128,kernel_size = 3,padding = 'same',\n",
    "                       activation = 'relu'),\n",
    "    keras.layers.MaxPool2D(pool_size = 2),\n",
    "    \n",
    "    keras.layers.Conv2D(filters = 256,kernel_size = 3,padding = 'same',\n",
    "                       activation = 'relu'),\n",
    "    keras.layers.Conv2D(filters = 256,kernel_size = 3,padding = 'same',\n",
    "                       activation = 'relu'),\n",
    "    keras.layers.MaxPool2D(pool_size = 2),\n",
    "    \n",
    "    keras.layers.Flatten(),\n",
    "    keras.layers.Dense(128,activation = 'selu'),\n",
    "    keras.layers.Dropout(rate=0.5),\n",
    "    keras.layers.Dense(num_classes,activation = 'softmax'),\n",
    "])\n",
    "model.compile(loss = \"categorical_crossentropy\",\n",
    "             optimizer = \"adam\",\n",
    "             metrics = ['accuracy'])\n",
    "model.summary()"
   ]
  },
  {
   "cell_type": "code",
   "execution_count": 5,
   "metadata": {},
   "outputs": [
    {
     "name": "stdout",
     "output_type": "stream",
     "text": [
      "Epoch 1/50\n",
      "74/74 [==============================] - 485s 7s/step - loss: 2.4378 - accuracy: 0.1310 - val_loss: 2.4679 - val_accuracy: 0.1381\n",
      "Epoch 2/50\n",
      "74/74 [==============================] - 432s 6s/step - loss: 2.4290 - accuracy: 0.1253 - val_loss: 2.5199 - val_accuracy: 0.1396\n",
      "Epoch 3/50\n",
      "74/74 [==============================] - 429s 6s/step - loss: 2.4261 - accuracy: 0.1325 - val_loss: 2.5366 - val_accuracy: 0.1396\n",
      "Epoch 4/50\n",
      "74/74 [==============================] - 431s 6s/step - loss: 2.4218 - accuracy: 0.1347 - val_loss: 2.4756 - val_accuracy: 0.1396\n",
      "Epoch 5/50\n",
      "74/74 [==============================] - 426s 6s/step - loss: 2.4191 - accuracy: 0.1304 - val_loss: 2.4697 - val_accuracy: 0.1396\n",
      "Epoch 6/50\n",
      "74/74 [==============================] - 411s 6s/step - loss: 2.4266 - accuracy: 0.1304 - val_loss: 2.4822 - val_accuracy: 0.1396\n",
      "Epoch 7/50\n",
      "74/74 [==============================] - 424s 6s/step - loss: 2.4201 - accuracy: 0.1342 - val_loss: 2.2666 - val_accuracy: 0.1396\n",
      "Epoch 8/50\n",
      "74/74 [==============================] - 420s 6s/step - loss: 2.4175 - accuracy: 0.1411 - val_loss: 2.2450 - val_accuracy: 0.1396\n",
      "Epoch 9/50\n",
      "74/74 [==============================] - 437s 6s/step - loss: 2.4198 - accuracy: 0.1302 - val_loss: 2.2347 - val_accuracy: 0.1396\n",
      "Epoch 10/50\n",
      "74/74 [==============================] - 439s 6s/step - loss: 2.4171 - accuracy: 0.1368 - val_loss: 2.2652 - val_accuracy: 0.1396\n",
      "Epoch 11/50\n",
      "74/74 [==============================] - 434s 6s/step - loss: 2.4230 - accuracy: 0.1391 - val_loss: 2.2784 - val_accuracy: 0.1396\n",
      "Epoch 12/50\n",
      "74/74 [==============================] - 451s 6s/step - loss: 2.4204 - accuracy: 0.1290 - val_loss: 2.2823 - val_accuracy: 0.1396\n",
      "Epoch 13/50\n",
      "74/74 [==============================] - 480s 6s/step - loss: 2.4121 - accuracy: 0.1316 - val_loss: 2.2377 - val_accuracy: 0.1396\n",
      "Epoch 14/50\n",
      "74/74 [==============================] - 509s 7s/step - loss: 2.4230 - accuracy: 0.1334 - val_loss: 2.6146 - val_accuracy: 0.1396\n",
      "Epoch 15/50\n",
      "74/74 [==============================] - 476s 6s/step - loss: 2.4174 - accuracy: 0.1396 - val_loss: 2.9942 - val_accuracy: 0.1396\n",
      "Epoch 16/50\n",
      "74/74 [==============================] - 432s 6s/step - loss: 2.4215 - accuracy: 0.1319 - val_loss: 2.9882 - val_accuracy: 0.1396\n",
      "Epoch 17/50\n",
      "74/74 [==============================] - 450s 6s/step - loss: 2.4114 - accuracy: 0.1430 - val_loss: 3.0285 - val_accuracy: 0.1396\n",
      "Epoch 18/50\n",
      "74/74 [==============================] - 437s 6s/step - loss: 2.4211 - accuracy: 0.1310 - val_loss: 2.3420 - val_accuracy: 0.1396\n",
      "Epoch 19/50\n",
      "74/74 [==============================] - 444s 6s/step - loss: 2.4165 - accuracy: 0.1404 - val_loss: 2.2158 - val_accuracy: 0.1396\n",
      "Epoch 20/50\n",
      "74/74 [==============================] - 474s 6s/step - loss: 2.4097 - accuracy: 0.1332 - val_loss: 2.2180 - val_accuracy: 0.1396\n",
      "Epoch 21/50\n",
      "74/74 [==============================] - 468s 6s/step - loss: 2.4241 - accuracy: 0.1389 - val_loss: 2.2126 - val_accuracy: 0.1396\n",
      "Epoch 22/50\n",
      "74/74 [==============================] - 479s 6s/step - loss: 2.4197 - accuracy: 0.1402 - val_loss: 2.2051 - val_accuracy: 0.1396\n",
      "Epoch 23/50\n",
      "74/74 [==============================] - 510s 7s/step - loss: 2.4123 - accuracy: 0.1387 - val_loss: 2.2150 - val_accuracy: 0.1396\n",
      "Epoch 24/50\n",
      "74/74 [==============================] - 458s 6s/step - loss: 2.4185 - accuracy: 0.1351 - val_loss: 2.2393 - val_accuracy: 0.1396\n",
      "Epoch 25/50\n",
      "74/74 [==============================] - 473s 6s/step - loss: 2.4216 - accuracy: 0.1342 - val_loss: 2.2320 - val_accuracy: 0.1396\n",
      "Epoch 26/50\n",
      "74/74 [==============================] - 466s 6s/step - loss: 2.4159 - accuracy: 0.1331 - val_loss: 2.8964 - val_accuracy: 0.1396\n",
      "Epoch 27/50\n",
      "74/74 [==============================] - 471s 6s/step - loss: 2.4204 - accuracy: 0.1408 - val_loss: 3.0062 - val_accuracy: 0.1396\n",
      "Epoch 28/50\n",
      "74/74 [==============================] - 500s 7s/step - loss: 2.4198 - accuracy: 0.1335 - val_loss: 3.0359 - val_accuracy: 0.1396\n",
      "Epoch 29/50\n",
      "74/74 [==============================] - 463s 6s/step - loss: 2.4144 - accuracy: 0.1302 - val_loss: 2.6882 - val_accuracy: 0.1396\n",
      "Epoch 30/50\n",
      "74/74 [==============================] - 508s 7s/step - loss: 2.4179 - accuracy: 0.1320 - val_loss: 1.9818 - val_accuracy: 0.1351\n",
      "Epoch 31/50\n",
      "74/74 [==============================] - 524s 7s/step - loss: 2.4139 - accuracy: 0.1428 - val_loss: 1.9435 - val_accuracy: 0.1259\n",
      "Epoch 32/50\n",
      "74/74 [==============================] - 510s 7s/step - loss: 2.4243 - accuracy: 0.1305 - val_loss: 2.0164 - val_accuracy: 0.1259\n",
      "Epoch 33/50\n",
      "74/74 [==============================] - 539s 7s/step - loss: 2.4218 - accuracy: 0.1402 - val_loss: 1.9590 - val_accuracy: 0.1259\n",
      "Epoch 34/50\n",
      "74/74 [==============================] - 519s 7s/step - loss: 2.4136 - accuracy: 0.1310 - val_loss: 2.0069 - val_accuracy: 0.1259\n",
      "Epoch 35/50\n",
      "74/74 [==============================] - 480s 6s/step - loss: 2.4189 - accuracy: 0.1340 - val_loss: 1.9866 - val_accuracy: 0.1259\n",
      "Epoch 36/50\n",
      "74/74 [==============================] - 499s 7s/step - loss: 2.4167 - accuracy: 0.1310 - val_loss: 1.9814 - val_accuracy: 0.1259\n",
      "Epoch 37/50\n",
      "74/74 [==============================] - 510s 7s/step - loss: 2.4193 - accuracy: 0.1286 - val_loss: 2.0151 - val_accuracy: 0.1304\n",
      "Epoch 38/50\n",
      "74/74 [==============================] - 465s 6s/step - loss: 2.4185 - accuracy: 0.1402 - val_loss: 1.9735 - val_accuracy: 0.1259\n",
      "Epoch 39/50\n",
      "74/74 [==============================] - 482s 7s/step - loss: 2.4165 - accuracy: 0.1389 - val_loss: 2.0288 - val_accuracy: 0.1259\n",
      "Epoch 40/50\n",
      "74/74 [==============================] - 465s 6s/step - loss: 2.4184 - accuracy: 0.1317 - val_loss: 2.3312 - val_accuracy: 0.1274\n",
      "Epoch 41/50\n",
      "74/74 [==============================] - 450s 6s/step - loss: 2.4126 - accuracy: 0.1351 - val_loss: 2.3263 - val_accuracy: 0.1396\n",
      "Epoch 42/50\n",
      "74/74 [==============================] - 310s 4s/step - loss: 2.4179 - accuracy: 0.1398 - val_loss: 2.2879 - val_accuracy: 0.1396\n",
      "Epoch 43/50\n",
      "74/74 [==============================] - 304s 4s/step - loss: 2.4130 - accuracy: 0.1424 - val_loss: 2.3094 - val_accuracy: 0.1396\n",
      "Epoch 44/50\n",
      "74/74 [==============================] - 310s 4s/step - loss: 2.4244 - accuracy: 0.1339 - val_loss: 2.3145 - val_accuracy: 0.1396\n",
      "Epoch 45/50\n",
      "74/74 [==============================] - 306s 4s/step - loss: 2.4189 - accuracy: 0.1301 - val_loss: 2.2980 - val_accuracy: 0.1396\n",
      "Epoch 46/50\n",
      "74/74 [==============================] - 310s 4s/step - loss: 2.4135 - accuracy: 0.1332 - val_loss: 2.3019 - val_accuracy: 0.1396\n",
      "Epoch 47/50\n",
      "74/74 [==============================] - 308s 4s/step - loss: 2.4157 - accuracy: 0.1372 - val_loss: 2.8281 - val_accuracy: 0.1396\n",
      "Epoch 48/50\n",
      "74/74 [==============================] - 305s 4s/step - loss: 2.4174 - accuracy: 0.1337 - val_loss: 3.0402 - val_accuracy: 0.1304\n",
      "Epoch 49/50\n",
      "74/74 [==============================] - 326s 4s/step - loss: 2.4208 - accuracy: 0.1271 - val_loss: 3.0584 - val_accuracy: 0.1396\n",
      "Epoch 50/50\n",
      "74/74 [==============================] - 336s 5s/step - loss: 2.4179 - accuracy: 0.1404 - val_loss: 2.7812 - val_accuracy: 0.1396\n"
     ]
    }
   ],
   "source": [
    "epochs = 50\n",
    "logdir = os.path.join(\"50epchos_result\" )\n",
    "if not os.path.exists(logdir):\n",
    "    os.mkdir(logdir)\n",
    "output_model_file = os.path.join(logdir,\n",
    "                                 \"model2.h5\")\n",
    "callbacks = [\n",
    "    keras.callbacks.TensorBoard(logdir),\n",
    "    keras.callbacks.ModelCheckpoint(output_model_file,\n",
    "                                   save_best_only = True)\n",
    "]\n",
    "history = model.fit_generator(train_generator,\n",
    "                             steps_per_epoch = train_num//batch_size,\n",
    "                             epochs = epochs,\n",
    "                              validation_data = test_generator,\n",
    "                              validation_steps = test_num//batch_size,\n",
    "                              callbacks = callbacks,\n",
    "                             )"
   ]
  },
  {
   "cell_type": "code",
   "execution_count": 7,
   "metadata": {},
   "outputs": [
    {
     "data": {
      "image/png": "[encoded data removed]",
      "text/plain": [
       "<Figure size 576x360 with 1 Axes>"
      ]
     },
     "metadata": {
      "needs_background": "light"
     },
     "output_type": "display_data"
    }
   ],
   "source": [
    "def plot_learning_curves(history):\n",
    "    pd.DataFrame(history.history).plot(figsize=(8,5))\n",
    "    plt.grid(True)\n",
    "    plt.gca().set_ylim(0,4)\n",
    "    plt.show()\n",
    "    \n",
    "plot_learning_curves(history)"
   ]
  },
  {
   "cell_type": "code",
   "execution_count": null,
   "metadata": {},
   "outputs": [],
   "source": []
  }
 ],
 "metadata": {
  "kernelspec": {
   "display_name": "Python 3",
   "language": "python",
   "name": "python3"
  },
  "language_info": {
   "codemirror_mode": {
    "name": "ipython",
    "version": 3
   },
   "file_extension": ".py",
   "mimetype": "text/x-python",
   "name": "python",
   "nbconvert_exporter": "python",
   "pygments_lexer": "ipython3",
   "version": "3.6.10"
  }
 },
 "nbformat": 4,
 "nbformat_minor": 4
}
