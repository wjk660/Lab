{
 "cells": [
  {
   "cell_type": "code",
   "execution_count": 1,
   "metadata": {},
   "outputs": [
    {
     "name": "stderr",
     "output_type": "stream",
     "text": [
      "Using TensorFlow backend.\n"
     ]
    },
    {
     "name": "stdout",
     "output_type": "stream",
     "text": [
      "2.1.0\n",
      "sys.version_info(major=3, minor=6, micro=10, releaselevel='final', serial=0)\n",
      "matplotlib 3.1.3\n",
      "numpy 1.18.1\n",
      "sklearn 0.22.1\n",
      "tensorflow 2.1.0\n",
      "keras 2.3.1\n"
     ]
    }
   ],
   "source": [
    "import matplotlib as mpl\n",
    "import matplotlib.pyplot as plt\n",
    "%matplotlib inline\n",
    "import numpy as np\n",
    "import sklearn\n",
    "import pandas as pd\n",
    "import os\n",
    "import sys\n",
    "import time\n",
    "import tensorflow as tf\n",
    "import keras\n",
    "\n",
    "print(tf.__version__)\n",
    "print(sys.version_info)\n",
    "for module in mpl,np,sklearn,tf,keras:\n",
    "    print(module.__name__,module.__version__)"
   ]
  },
  {
   "cell_type": "code",
   "execution_count": 2,
   "metadata": {},
   "outputs": [
    {
     "name": "stdout",
     "output_type": "stream",
     "text": [
      "True\n",
      "True\n",
      "True\n"
     ]
    }
   ],
   "source": [
    "train_dir = os.path.join(\"plantseeding/train\" )\n",
    "test_dir = os.path.join(\"plantseeding/test\" )\n",
    "label_file = os.path.join(\"plantseeding/sample_submission.csv\" )\n",
    "print(os.path.exists(train_dir))\n",
    "print(os.path.exists(test_dir))\n",
    "print(os.path.exists(label_file))"
   ]
  },
  {
   "cell_type": "code",
   "execution_count": 3,
   "metadata": {},
   "outputs": [
    {
     "name": "stdout",
     "output_type": "stream",
     "text": [
      "              file     species\n",
      "0    0021e90e4.png  Sugar beet\n",
      "1    003d61042.png  Sugar beet\n",
      "2    007b3da8b.png  Sugar beet\n",
      "3    0086a6340.png  Sugar beet\n",
      "4    00c47e980.png  Sugar beet\n",
      "..             ...         ...\n",
      "789  fea355851.png  Sugar beet\n",
      "790  fea3da57c.png  Sugar beet\n",
      "791  fef2ade8c.png  Sugar beet\n",
      "792  ff65bc002.png  Sugar beet\n",
      "793  ffc6f8527.png  Sugar beet\n",
      "\n",
      "[794 rows x 2 columns]\n"
     ]
    }
   ],
   "source": [
    "label = pd.read_csv(label_file,header=0)\n",
    "print(label)"
   ]
  },
  {
   "cell_type": "code",
   "execution_count": 4,
   "metadata": {
    "scrolled": true
   },
   "outputs": [
    {
     "name": "stdout",
     "output_type": "stream",
     "text": [
      "Found 4750 images belonging to 12 classes.\n",
      "Found 4750 images belonging to 12 classes.\n",
      "4750 4750\n"
     ]
    }
   ],
   "source": [
    "height = 224\n",
    "width = 224\n",
    "channels = 3\n",
    "batch_size = 24\n",
    "num_classes = 12\n",
    "\n",
    "trian_datagen = keras.preprocessing.image.ImageDataGenerator(\n",
    "    preprocessing_function = keras.applications.resnet50.preprocess_input,\n",
    "    rotation_range = 40,\n",
    "    width_shift_range = 0.2,\n",
    "    height_shift_range = 0.2,\n",
    "    shear_range = 0.2,\n",
    "    zoom_range = 0.2,\n",
    "    horizontal_flip = True,\n",
    "    fill_mode = 'nearest')\n",
    "train_generator = trian_datagen.flow_from_directory(train_dir,\n",
    "                                                  target_size = (height,width),\n",
    "                                                  batch_size = batch_size,\n",
    "                                                  seed = 7,\n",
    "                                                  shuffle = True,\n",
    "                                                  class_mode = \"categorical\")\n",
    "test_datagen = keras.preprocessing.image.ImageDataGenerator(preprocessing_function = keras.applications.resnet50.preprocess_input)\n",
    "test_generator = test_datagen.flow_from_directory(train_dir,\n",
    "                                                  target_size = (height,width),\n",
    "                                                  batch_size = batch_size,\n",
    "                                                  seed = 7,\n",
    "                                                  shuffle = False,\n",
    "                                                  class_mode = \"categorical\")\n",
    "train_num = train_generator.samples\n",
    "test_num = test_generator.samples\n",
    "print(train_num,test_num)"
   ]
  },
  {
   "cell_type": "code",
   "execution_count": 5,
   "metadata": {},
   "outputs": [
    {
     "name": "stdout",
     "output_type": "stream",
     "text": [
      "(24, 224, 224, 3) (24, 12)\n",
      "[[0. 0. 0. 0. 0. 0. 0. 0. 1. 0. 0. 0.]\n",
      " [0. 0. 0. 1. 0. 0. 0. 0. 0. 0. 0. 0.]\n",
      " [0. 0. 0. 0. 0. 0. 0. 1. 0. 0. 0. 0.]\n",
      " [0. 0. 0. 0. 0. 1. 0. 0. 0. 0. 0. 0.]\n",
      " [0. 0. 1. 0. 0. 0. 0. 0. 0. 0. 0. 0.]\n",
      " [0. 1. 0. 0. 0. 0. 0. 0. 0. 0. 0. 0.]\n",
      " [0. 0. 0. 0. 0. 1. 0. 0. 0. 0. 0. 0.]\n",
      " [0. 0. 0. 0. 0. 0. 0. 0. 0. 1. 0. 0.]\n",
      " [0. 0. 0. 0. 0. 0. 1. 0. 0. 0. 0. 0.]\n",
      " [0. 0. 0. 0. 0. 0. 0. 0. 0. 0. 1. 0.]\n",
      " [1. 0. 0. 0. 0. 0. 0. 0. 0. 0. 0. 0.]\n",
      " [0. 0. 0. 0. 0. 0. 0. 0. 0. 0. 0. 1.]\n",
      " [0. 0. 0. 0. 0. 1. 0. 0. 0. 0. 0. 0.]\n",
      " [0. 0. 0. 0. 0. 1. 0. 0. 0. 0. 0. 0.]\n",
      " [0. 0. 0. 0. 0. 0. 1. 0. 0. 0. 0. 0.]\n",
      " [0. 0. 0. 0. 0. 0. 0. 0. 1. 0. 0. 0.]\n",
      " [0. 0. 1. 0. 0. 0. 0. 0. 0. 0. 0. 0.]\n",
      " [0. 0. 0. 0. 0. 0. 0. 0. 0. 0. 0. 1.]\n",
      " [0. 0. 0. 0. 0. 0. 0. 0. 0. 0. 0. 1.]\n",
      " [0. 0. 0. 0. 0. 1. 0. 0. 0. 0. 0. 0.]\n",
      " [0. 0. 1. 0. 0. 0. 0. 0. 0. 0. 0. 0.]\n",
      " [0. 0. 0. 0. 0. 0. 0. 0. 0. 0. 1. 0.]\n",
      " [0. 0. 0. 0. 0. 0. 0. 0. 0. 0. 1. 0.]\n",
      " [0. 0. 0. 0. 0. 0. 1. 0. 0. 0. 0. 0.]]\n",
      "(24, 224, 224, 3) (24, 12)\n",
      "[[1. 0. 0. 0. 0. 0. 0. 0. 0. 0. 0. 0.]\n",
      " [0. 0. 0. 0. 0. 0. 0. 0. 0. 0. 1. 0.]\n",
      " [0. 0. 0. 0. 0. 0. 1. 0. 0. 0. 0. 0.]\n",
      " [0. 0. 0. 0. 0. 0. 0. 0. 0. 0. 0. 1.]\n",
      " [0. 1. 0. 0. 0. 0. 0. 0. 0. 0. 0. 0.]\n",
      " [0. 0. 1. 0. 0. 0. 0. 0. 0. 0. 0. 0.]\n",
      " [0. 0. 0. 0. 0. 0. 0. 0. 0. 0. 1. 0.]\n",
      " [0. 0. 0. 0. 0. 0. 0. 0. 1. 0. 0. 0.]\n",
      " [0. 0. 1. 0. 0. 0. 0. 0. 0. 0. 0. 0.]\n",
      " [0. 0. 0. 0. 0. 0. 0. 1. 0. 0. 0. 0.]\n",
      " [0. 0. 0. 0. 0. 0. 0. 0. 0. 0. 0. 1.]\n",
      " [0. 0. 0. 0. 0. 0. 0. 0. 1. 0. 0. 0.]\n",
      " [0. 0. 0. 0. 0. 0. 0. 0. 1. 0. 0. 0.]\n",
      " [0. 0. 0. 0. 0. 1. 0. 0. 0. 0. 0. 0.]\n",
      " [0. 0. 0. 1. 0. 0. 0. 0. 0. 0. 0. 0.]\n",
      " [0. 1. 0. 0. 0. 0. 0. 0. 0. 0. 0. 0.]\n",
      " [0. 0. 0. 0. 0. 1. 0. 0. 0. 0. 0. 0.]\n",
      " [0. 0. 0. 0. 0. 1. 0. 0. 0. 0. 0. 0.]\n",
      " [0. 0. 1. 0. 0. 0. 0. 0. 0. 0. 0. 0.]\n",
      " [0. 0. 0. 0. 0. 1. 0. 0. 0. 0. 0. 0.]\n",
      " [0. 0. 0. 0. 0. 0. 1. 0. 0. 0. 0. 0.]\n",
      " [0. 0. 0. 1. 0. 0. 0. 0. 0. 0. 0. 0.]\n",
      " [1. 0. 0. 0. 0. 0. 0. 0. 0. 0. 0. 0.]\n",
      " [0. 0. 0. 0. 0. 0. 0. 0. 0. 1. 0. 0.]]\n"
     ]
    }
   ],
   "source": [
    "for i in range(2):\n",
    "    x,y = train_generator.next()\n",
    "    print(x.shape,y.shape)\n",
    "    print(y)"
   ]
  },
  {
   "cell_type": "code",
   "execution_count": 6,
   "metadata": {},
   "outputs": [
    {
     "name": "stdout",
     "output_type": "stream",
     "text": [
      "Model: \"sequential_1\"\n",
      "_________________________________________________________________\n",
      "Layer (type)                 Output Shape              Param #   \n",
      "=================================================================\n",
      "resnet50 (Model)             (None, 2048)              23587712  \n",
      "_________________________________________________________________\n",
      "dense_1 (Dense)              (None, 12)                24588     \n",
      "=================================================================\n",
      "Total params: 23,612,300\n",
      "Trainable params: 1,079,308\n",
      "Non-trainable params: 22,532,992\n",
      "_________________________________________________________________\n"
     ]
    }
   ],
   "source": [
    "resnet50 = keras.applications.ResNet50(include_top = False,\n",
    "                                       pooling = 'avg',\n",
    "                                       weights = 'imagenet')\n",
    "\n",
    "for layer in resnet50.layers[0:-5]:\n",
    "    layer.trainable = False\n",
    "    \n",
    "resnet50_new = keras.models.Sequential([\n",
    "    resnet50,\n",
    "    keras.layers.Dense(num_classes,activation = 'softmax'),\n",
    "])\n",
    "\n",
    "resnet50_new.compile(loss = \"categorical_crossentropy\",\n",
    "             optimizer = \"sgd\",\n",
    "             metrics = ['accuracy'])\n",
    "resnet50_new.summary()"
   ]
  },
  {
   "cell_type": "code",
   "execution_count": 9,
   "metadata": {},
   "outputs": [
    {
     "name": "stdout",
     "output_type": "stream",
     "text": [
      "Epoch 1/10\n",
      "197/197 [==============================] - 1800s 9s/step - loss: 0.7457 - accuracy: 0.7603 - val_loss: 0.1920 - val_accuracy: 0.5104\n",
      "Epoch 2/10\n",
      "197/197 [==============================] - 1758s 9s/step - loss: 0.6934 - accuracy: 0.7776 - val_loss: 0.8579 - val_accuracy: 0.5051\n",
      "Epoch 3/10\n",
      "197/197 [==============================] - 1758s 9s/step - loss: 0.6435 - accuracy: 0.7950 - val_loss: 0.3667 - val_accuracy: 0.5438\n",
      "Epoch 4/10\n",
      "197/197 [==============================] - 1757s 9s/step - loss: 0.6116 - accuracy: 0.8043 - val_loss: 1.3798 - val_accuracy: 0.5186\n",
      "Epoch 5/10\n",
      "197/197 [==============================] - 1760s 9s/step - loss: 0.5799 - accuracy: 0.8199 - val_loss: 0.8112 - val_accuracy: 0.5252\n",
      "Epoch 6/10\n",
      "197/197 [==============================] - 1756s 9s/step - loss: 0.5721 - accuracy: 0.8204 - val_loss: 0.8757 - val_accuracy: 0.5442\n",
      "Epoch 7/10\n",
      "197/197 [==============================] - 1756s 9s/step - loss: 0.5395 - accuracy: 0.8212 - val_loss: 0.7855 - val_accuracy: 0.5601\n",
      "Epoch 8/10\n",
      "197/197 [==============================] - 1755s 9s/step - loss: 0.5249 - accuracy: 0.8333 - val_loss: 0.7752 - val_accuracy: 0.5614\n",
      "Epoch 9/10\n",
      "197/197 [==============================] - 1756s 9s/step - loss: 0.5061 - accuracy: 0.8364 - val_loss: 0.7771 - val_accuracy: 0.5728\n",
      "Epoch 10/10\n",
      "197/197 [==============================] - 1756s 9s/step - loss: 0.4943 - accuracy: 0.8419 - val_loss: 0.2107 - val_accuracy: 0.5777\n"
     ]
    }
   ],
   "source": [
    "epochs = 10\n",
    "logdir = os.path.join(\"ResNetNew_50epchos_result\" )\n",
    "if not os.path.exists(logdir):\n",
    "    os.mkdir(logdir)\n",
    "output_model_file = os.path.join(logdir,\n",
    "                                 \"ResNetNew_model.h5\")\n",
    "callbacks = [\n",
    "    keras.callbacks.TensorBoard(logdir),\n",
    "    keras.callbacks.ModelCheckpoint(output_model_file,\n",
    "                                   save_best_only = True)\n",
    "]\n",
    "history = resnet50_new.fit_generator(train_generator,\n",
    "                                          steps_per_epoch = train_num//batch_size,\n",
    "                                          epochs = epochs,\n",
    "                                          validation_data = test_generator,\n",
    "                                          validation_steps = test_num//batch_size\n",
    "                                          )"
   ]
  },
  {
   "cell_type": "code",
   "execution_count": 11,
   "metadata": {},
   "outputs": [
    {
     "data": {
      "image/png": "[encoded data removed]",
      "text/plain": [
       "<Figure size 576x360 with 1 Axes>"
      ]
     },
     "metadata": {
      "needs_background": "light"
     },
     "output_type": "display_data"
    }
   ],
   "source": [
    "def plot_learning_curves(history):\n",
    "    pd.DataFrame(history.history).plot(figsize=(8,5))\n",
    "    plt.grid(True)\n",
    "    plt.gca().set_ylim(0,1.5)\n",
    "    plt.show()\n",
    "    \n",
    "plot_learning_curves(history)"
   ]
  },
  {
   "cell_type": "code",
   "execution_count": null,
   "metadata": {},
   "outputs": [],
   "source": []
  }
 ],
 "metadata": {
  "kernelspec": {
   "display_name": "Python 3",
   "language": "python",
   "name": "python3"
  },
  "language_info": {
   "codemirror_mode": {
    "name": "ipython",
    "version": 3
   },
   "file_extension": ".py",
   "mimetype": "text/x-python",
   "name": "python",
   "nbconvert_exporter": "python",
   "pygments_lexer": "ipython3",
   "version": "3.6.10"
  }
 },
 "nbformat": 4,
 "nbformat_minor": 4
}
