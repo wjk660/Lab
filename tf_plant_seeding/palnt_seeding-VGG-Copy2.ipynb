{
 "cells": [
  {
   "cell_type": "code",
   "execution_count": 2,
   "metadata": {},
   "outputs": [
    {
     "name": "stdout",
     "output_type": "stream",
     "text": [
      "2.1.0\n",
      "sys.version_info(major=3, minor=6, micro=10, releaselevel='final', serial=0)\n",
      "matplotlib 3.1.3\n",
      "numpy 1.18.1\n",
      "sklearn 0.22.1\n",
      "tensorflow 2.1.0\n",
      "keras 2.3.1\n"
     ]
    }
   ],
   "source": [
    "import matplotlib as mpl\n",
    "import matplotlib.pyplot as plt\n",
    "%matplotlib inline\n",
    "import numpy as np\n",
    "import sklearn\n",
    "import pandas as pd\n",
    "import os\n",
    "import sys\n",
    "import time\n",
    "import tensorflow as tf\n",
    "import keras\n",
    "\n",
    "print(tf.__version__)\n",
    "print(sys.version_info)\n",
    "for module in mpl,np,sklearn,tf,keras:\n",
    "    print(module.__name__,module.__version__)"
   ]
  },
  {
   "cell_type": "code",
   "execution_count": 3,
   "metadata": {},
   "outputs": [
    {
     "name": "stdout",
     "output_type": "stream",
     "text": [
      "True\n",
      "True\n",
      "True\n"
     ]
    }
   ],
   "source": [
    "train_dir = os.path.join(\"plantseeding/train\" )\n",
    "test_dir = os.path.join(\"plantseeding/test\" )\n",
    "label_file = os.path.join(\"plantseeding/sample_submission.csv\" )\n",
    "print(os.path.exists(train_dir))\n",
    "print(os.path.exists(test_dir))\n",
    "print(os.path.exists(label_file))"
   ]
  },
  {
   "cell_type": "code",
   "execution_count": 4,
   "metadata": {},
   "outputs": [
    {
     "name": "stdout",
     "output_type": "stream",
     "text": [
      "              file     species\n",
      "0    0021e90e4.png  Sugar beet\n",
      "1    003d61042.png  Sugar beet\n",
      "2    007b3da8b.png  Sugar beet\n",
      "3    0086a6340.png  Sugar beet\n",
      "4    00c47e980.png  Sugar beet\n",
      "..             ...         ...\n",
      "789  fea355851.png  Sugar beet\n",
      "790  fea3da57c.png  Sugar beet\n",
      "791  fef2ade8c.png  Sugar beet\n",
      "792  ff65bc002.png  Sugar beet\n",
      "793  ffc6f8527.png  Sugar beet\n",
      "\n",
      "[794 rows x 2 columns]\n"
     ]
    }
   ],
   "source": [
    "label = pd.read_csv(label_file,header=0)\n",
    "print(label)"
   ]
  },
  {
   "cell_type": "code",
   "execution_count": 5,
   "metadata": {
    "scrolled": true
   },
   "outputs": [
    {
     "name": "stdout",
     "output_type": "stream",
     "text": [
      "Found 4750 images belonging to 12 classes.\n",
      "Found 4750 images belonging to 12 classes.\n",
      "4750 4750\n"
     ]
    }
   ],
   "source": [
    "height = 128\n",
    "width = 128\n",
    "channels = 3\n",
    "batch_size = 64\n",
    "num_classes = 12\n",
    "\n",
    "trian_datagen = keras.preprocessing.image.ImageDataGenerator(rescale = 1./255,\n",
    "                                                        rotation_range = 40,\n",
    "                                                        width_shift_range = 0.2,\n",
    "                                                        height_shift_range = 0.2,\n",
    "                                                        shear_range = 0.2,\n",
    "                                                        zoom_range = 0.2,\n",
    "                                                        horizontal_flip = True,\n",
    "                                                        fill_mode = 'nearest')\n",
    "train_generator = trian_datagen.flow_from_directory(train_dir,\n",
    "                                                  target_size = (height,width),\n",
    "                                                  batch_size = batch_size,\n",
    "                                                  seed = 7,\n",
    "                                                  shuffle = True,\n",
    "                                                  class_mode = \"categorical\")\n",
    "test_datagen = keras.preprocessing.image.ImageDataGenerator(rescale = 1./255)\n",
    "test_generator = test_datagen.flow_from_directory(train_dir,\n",
    "                                                  target_size = (height,width),\n",
    "                                                  batch_size = batch_size,\n",
    "                                                  seed = 7,\n",
    "                                                  shuffle = False,\n",
    "                                                  class_mode = \"categorical\")\n",
    "train_num = train_generator.samples\n",
    "test_num = test_generator.samples\n",
    "print(train_num,test_num)"
   ]
  },
  {
   "cell_type": "code",
   "execution_count": null,
   "metadata": {},
   "outputs": [],
   "source": [
    "for i in range(2):\n",
    "    x,y = train_generator.next()\n",
    "    print(x.shape,y.shape)\n",
    "    print(y)"
   ]
  },
  {
   "cell_type": "code",
   "execution_count": 6,
   "metadata": {
    "scrolled": false
   },
   "outputs": [
    {
     "name": "stdout",
     "output_type": "stream",
     "text": [
      "Model: \"sequential_1\"\n",
      "_________________________________________________________________\n",
      "Layer (type)                 Output Shape              Param #   \n",
      "=================================================================\n",
      "conv2d_1 (Conv2D)            (None, 128, 128, 32)      896       \n",
      "_________________________________________________________________\n",
      "max_pooling2d_1 (MaxPooling2 (None, 64, 64, 32)        0         \n",
      "_________________________________________________________________\n",
      "conv2d_2 (Conv2D)            (None, 64, 64, 64)        18496     \n",
      "_________________________________________________________________\n",
      "max_pooling2d_2 (MaxPooling2 (None, 32, 32, 64)        0         \n",
      "_________________________________________________________________\n",
      "conv2d_3 (Conv2D)            (None, 32, 32, 128)       73856     \n",
      "_________________________________________________________________\n",
      "max_pooling2d_3 (MaxPooling2 (None, 16, 16, 128)       0         \n",
      "_________________________________________________________________\n",
      "flatten_1 (Flatten)          (None, 32768)             0         \n",
      "_________________________________________________________________\n",
      "dense_1 (Dense)              (None, 1024)              33555456  \n",
      "_________________________________________________________________\n",
      "alpha_dropout_1 (AlphaDropou (None, 1024)              0         \n",
      "_________________________________________________________________\n",
      "dense_2 (Dense)              (None, 12)                12300     \n",
      "=================================================================\n",
      "Total params: 33,661,004\n",
      "Trainable params: 33,661,004\n",
      "Non-trainable params: 0\n",
      "_________________________________________________________________\n"
     ]
    }
   ],
   "source": [
    "model = keras.models.Sequential([\n",
    "    keras.layers.Conv2D(filters = 32,kernel_size = 3,padding = 'same',\n",
    "                       activation = 'relu',input_shape = [width,height,channels]),\n",
    "    keras.layers.MaxPool2D(pool_size = 2),\n",
    "    \n",
    "    keras.layers.Conv2D(filters = 64,kernel_size = 3,padding = 'same',\n",
    "                       activation = 'relu',input_shape = [width,height,channels]),\n",
    "    keras.layers.MaxPool2D(pool_size = 2),\n",
    "    \n",
    "    keras.layers.Conv2D(filters = 128,kernel_size = 3,padding = 'same',\n",
    "                       activation = 'relu'),\n",
    "    keras.layers.MaxPool2D(pool_size = 2),\n",
    "    \n",
    "    keras.layers.Flatten(),\n",
    "    keras.layers.Dense(1024,activation = 'relu'),\n",
    "    keras.layers.AlphaDropout(rate=0.5), \n",
    "    keras.layers.Dense(num_classes,activation = 'softmax'),\n",
    "])\n",
    "model.compile(loss = \"categorical_crossentropy\",\n",
    "             optimizer = \"adam\",\n",
    "             metrics = ['accuracy'])\n",
    "model.summary()"
   ]
  },
  {
   "cell_type": "code",
   "execution_count": 7,
   "metadata": {},
   "outputs": [
    {
     "name": "stdout",
     "output_type": "stream",
     "text": [
      "Epoch 1/50\n",
      "74/74 [==============================] - 375s 5s/step - loss: 2.7293 - accuracy: 0.1579 - val_loss: 1.4932 - val_accuracy: 0.3718\n",
      "Epoch 2/50\n",
      "74/74 [==============================] - 354s 5s/step - loss: 2.2829 - accuracy: 0.2531 - val_loss: 1.7608 - val_accuracy: 0.4528\n",
      "Epoch 3/50\n",
      "74/74 [==============================] - 367s 5s/step - loss: 2.0234 - accuracy: 0.3210 - val_loss: 1.7351 - val_accuracy: 0.5401\n",
      "Epoch 4/50\n",
      "74/74 [==============================] - 364s 5s/step - loss: 1.7707 - accuracy: 0.3835 - val_loss: 1.4607 - val_accuracy: 0.5277\n",
      "Epoch 5/50\n",
      "74/74 [==============================] - 359s 5s/step - loss: 1.7158 - accuracy: 0.4091 - val_loss: 1.1218 - val_accuracy: 0.6312\n",
      "Epoch 6/50\n",
      "74/74 [==============================] - 377s 5s/step - loss: 1.6226 - accuracy: 0.4405 - val_loss: 1.4621 - val_accuracy: 0.5568\n",
      "Epoch 7/50\n",
      "74/74 [==============================] - 367s 5s/step - loss: 1.5403 - accuracy: 0.4603 - val_loss: 0.7111 - val_accuracy: 0.6236\n",
      "Epoch 8/50\n",
      "74/74 [==============================] - 323s 4s/step - loss: 1.4017 - accuracy: 0.5134 - val_loss: 0.9912 - val_accuracy: 0.6396\n",
      "Epoch 9/50\n",
      "74/74 [==============================] - 336s 5s/step - loss: 1.3814 - accuracy: 0.5173 - val_loss: 1.3701 - val_accuracy: 0.6554\n",
      "Epoch 10/50\n",
      "74/74 [==============================] - 348s 5s/step - loss: 1.3072 - accuracy: 0.5521 - val_loss: 0.6809 - val_accuracy: 0.6869\n",
      "Epoch 11/50\n",
      "74/74 [==============================] - 411s 6s/step - loss: 1.2869 - accuracy: 0.5509 - val_loss: 1.1351 - val_accuracy: 0.6784\n",
      "Epoch 12/50\n",
      "74/74 [==============================] - 436s 6s/step - loss: 1.2021 - accuracy: 0.5753 - val_loss: 0.4185 - val_accuracy: 0.6852\n",
      "Epoch 13/50\n",
      "74/74 [==============================] - 397s 5s/step - loss: 1.2198 - accuracy: 0.5766 - val_loss: 2.0250 - val_accuracy: 0.6408\n",
      "Epoch 14/50\n",
      "74/74 [==============================] - 348s 5s/step - loss: 1.2168 - accuracy: 0.5790 - val_loss: 1.4161 - val_accuracy: 0.7168\n",
      "Epoch 15/50\n",
      "74/74 [==============================] - 369s 5s/step - loss: 1.1049 - accuracy: 0.6157 - val_loss: 2.9111 - val_accuracy: 0.6991\n",
      "Epoch 16/50\n",
      "74/74 [==============================] - 340s 5s/step - loss: 1.0792 - accuracy: 0.6208 - val_loss: 2.5177 - val_accuracy: 0.7185\n",
      "Epoch 17/50\n",
      "74/74 [==============================] - 351s 5s/step - loss: 1.0486 - accuracy: 0.6311 - val_loss: 3.6900 - val_accuracy: 0.7256\n",
      "Epoch 18/50\n",
      "74/74 [==============================] - 312s 4s/step - loss: 1.0858 - accuracy: 0.6186 - val_loss: 1.0087 - val_accuracy: 0.7360\n",
      "Epoch 19/50\n",
      "74/74 [==============================] - 314s 4s/step - loss: 0.9885 - accuracy: 0.6543 - val_loss: 0.8844 - val_accuracy: 0.7490\n",
      "Epoch 20/50\n",
      "74/74 [==============================] - 334s 5s/step - loss: 1.0299 - accuracy: 0.6364 - val_loss: 0.6210 - val_accuracy: 0.7977\n",
      "Epoch 21/50\n",
      "74/74 [==============================] - 344s 5s/step - loss: 0.9876 - accuracy: 0.6611 - val_loss: 0.6770 - val_accuracy: 0.7516\n",
      "Epoch 22/50\n",
      "74/74 [==============================] - 337s 5s/step - loss: 0.9544 - accuracy: 0.6667 - val_loss: 0.5201 - val_accuracy: 0.7902\n",
      "Epoch 23/50\n",
      "74/74 [==============================] - 328s 4s/step - loss: 0.9419 - accuracy: 0.6666 - val_loss: 1.2208 - val_accuracy: 0.7456\n",
      "Epoch 24/50\n",
      "74/74 [==============================] - 375s 5s/step - loss: 0.9551 - accuracy: 0.6680 - val_loss: 2.2358 - val_accuracy: 0.7375\n",
      "Epoch 25/50\n",
      "74/74 [==============================] - 370s 5s/step - loss: 0.8698 - accuracy: 0.6987 - val_loss: 0.2527 - val_accuracy: 0.8067\n",
      "Epoch 26/50\n",
      "74/74 [==============================] - 343s 5s/step - loss: 0.9025 - accuracy: 0.6911 - val_loss: 0.0650 - val_accuracy: 0.8096\n",
      "Epoch 27/50\n",
      "74/74 [==============================] - 335s 5s/step - loss: 0.8629 - accuracy: 0.6963 - val_loss: 0.2328 - val_accuracy: 0.7712\n",
      "Epoch 28/50\n",
      "74/74 [==============================] - 382s 5s/step - loss: 0.8906 - accuracy: 0.6899 - val_loss: 0.0740 - val_accuracy: 0.7990\n",
      "Epoch 29/50\n",
      "74/74 [==============================] - 324s 4s/step - loss: 0.8416 - accuracy: 0.7034 - val_loss: 0.6900 - val_accuracy: 0.8069\n",
      "Epoch 30/50\n",
      "74/74 [==============================] - 316s 4s/step - loss: 0.8287 - accuracy: 0.7113 - val_loss: 0.7422 - val_accuracy: 0.7849\n",
      "Epoch 31/50\n",
      "74/74 [==============================] - 341s 5s/step - loss: 0.8269 - accuracy: 0.7116 - val_loss: 0.4144 - val_accuracy: 0.8359\n",
      "Epoch 32/50\n",
      "74/74 [==============================] - 384s 5s/step - loss: 0.8239 - accuracy: 0.7070 - val_loss: 0.8513 - val_accuracy: 0.7896\n",
      "Epoch 33/50\n",
      "74/74 [==============================] - 342s 5s/step - loss: 0.7789 - accuracy: 0.7279 - val_loss: 0.4467 - val_accuracy: 0.8331\n",
      "Epoch 34/50\n",
      "74/74 [==============================] - 333s 4s/step - loss: 0.8117 - accuracy: 0.7138 - val_loss: 0.5583 - val_accuracy: 0.8429\n",
      "Epoch 35/50\n",
      "74/74 [==============================] - 381s 5s/step - loss: 0.7521 - accuracy: 0.7352 - val_loss: 0.1635 - val_accuracy: 0.8468\n",
      "Epoch 36/50\n",
      "74/74 [==============================] - 400s 5s/step - loss: 0.7826 - accuracy: 0.7302 - val_loss: 1.1054 - val_accuracy: 0.8393\n",
      "Epoch 37/50\n",
      "74/74 [==============================] - 371s 5s/step - loss: 0.7561 - accuracy: 0.7364 - val_loss: 0.6703 - val_accuracy: 0.7507\n",
      "Epoch 38/50\n",
      "74/74 [==============================] - 367s 5s/step - loss: 0.7656 - accuracy: 0.7364 - val_loss: 0.3154 - val_accuracy: 0.8515\n",
      "Epoch 39/50\n",
      "74/74 [==============================] - 436s 6s/step - loss: 0.7208 - accuracy: 0.7447 - val_loss: 1.8936 - val_accuracy: 0.8284\n",
      "Epoch 40/50\n",
      "74/74 [==============================] - 413s 6s/step - loss: 0.7524 - accuracy: 0.7381 - val_loss: 0.9772 - val_accuracy: 0.8690\n",
      "Epoch 41/50\n",
      "74/74 [==============================] - 348s 5s/step - loss: 0.7365 - accuracy: 0.7337 - val_loss: 1.1781 - val_accuracy: 0.7591\n",
      "Epoch 42/50\n",
      "74/74 [==============================] - 342s 5s/step - loss: 0.7231 - accuracy: 0.7422 - val_loss: 0.4490 - val_accuracy: 0.8598\n",
      "Epoch 43/50\n",
      "74/74 [==============================] - 390s 5s/step - loss: 0.6906 - accuracy: 0.7418 - val_loss: 0.6431 - val_accuracy: 0.8645\n",
      "Epoch 44/50\n",
      "74/74 [==============================] - 367s 5s/step - loss: 0.6731 - accuracy: 0.7606 - val_loss: 0.5522 - val_accuracy: 0.8720\n",
      "Epoch 45/50\n",
      "74/74 [==============================] - 370s 5s/step - loss: 0.6535 - accuracy: 0.7705 - val_loss: 0.1267 - val_accuracy: 0.8820\n",
      "Epoch 46/50\n",
      "74/74 [==============================] - 362s 5s/step - loss: 0.7174 - accuracy: 0.7489 - val_loss: 0.6475 - val_accuracy: 0.8735\n",
      "Epoch 47/50\n",
      "74/74 [==============================] - 368s 5s/step - loss: 0.6628 - accuracy: 0.7671 - val_loss: 0.4081 - val_accuracy: 0.8944\n",
      "Epoch 48/50\n",
      "74/74 [==============================] - 352s 5s/step - loss: 0.6398 - accuracy: 0.7744 - val_loss: 0.9148 - val_accuracy: 0.8730\n",
      "Epoch 49/50\n",
      "74/74 [==============================] - 337s 5s/step - loss: 0.6968 - accuracy: 0.7550 - val_loss: 0.7072 - val_accuracy: 0.8589\n",
      "Epoch 50/50\n",
      "74/74 [==============================] - 327s 4s/step - loss: 0.6323 - accuracy: 0.7783 - val_loss: 0.2842 - val_accuracy: 0.8624\n"
     ]
    }
   ],
   "source": [
    "epochs = 50\n",
    "logdir = os.path.join(\"VGG_Copy_50epchos_result\" )\n",
    "if not os.path.exists(logdir):\n",
    "    os.mkdir(logdir)\n",
    "output_model_file = os.path.join(logdir,\n",
    "                                 \"Vgg_model.h5\")\n",
    "callbacks = [\n",
    "    keras.callbacks.TensorBoard(logdir),\n",
    "    keras.callbacks.ModelCheckpoint(output_model_file,\n",
    "                                   save_best_only = True)\n",
    "]\n",
    "history = model.fit_generator(train_generator,\n",
    "                             steps_per_epoch = train_num//batch_size,\n",
    "                             epochs = epochs,\n",
    "                              validation_data = test_generator,\n",
    "                              validation_steps = test_num//batch_size\n",
    "                             )"
   ]
  },
  {
   "cell_type": "code",
   "execution_count": 10,
   "metadata": {},
   "outputs": [
    {
     "data": {
      "image/png": "[encoded data removed]",
      "text/plain": [
       "<Figure size 576x360 with 1 Axes>"
      ]
     },
     "metadata": {
      "needs_background": "light"
     },
     "output_type": "display_data"
    }
   ],
   "source": [
    "def plot_learning_curves(history):\n",
    "    pd.DataFrame(history.history).plot(figsize=(8,5))\n",
    "    plt.grid(True)\n",
    "    plt.gca().set_ylim(0,4)\n",
    "    plt.show()\n",
    "    \n",
    "plot_learning_curves(history)"
   ]
  },
  {
   "cell_type": "code",
   "execution_count": null,
   "metadata": {},
   "outputs": [],
   "source": []
  }
 ],
 "metadata": {
  "kernelspec": {
   "display_name": "Python 3",
   "language": "python",
   "name": "python3"
  },
  "language_info": {
   "codemirror_mode": {
    "name": "ipython",
    "version": 3
   },
   "file_extension": ".py",
   "mimetype": "text/x-python",
   "name": "python",
   "nbconvert_exporter": "python",
   "pygments_lexer": "ipython3",
   "version": "3.6.10"
  }
 },
 "nbformat": 4,
 "nbformat_minor": 4
}
