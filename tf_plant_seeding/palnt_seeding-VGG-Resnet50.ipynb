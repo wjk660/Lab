{
 "cells": [
  {
   "cell_type": "code",
   "execution_count": 1,
   "metadata": {},
   "outputs": [
    {
     "name": "stderr",
     "output_type": "stream",
     "text": [
      "Using TensorFlow backend.\n"
     ]
    },
    {
     "name": "stdout",
     "output_type": "stream",
     "text": [
      "2.1.0\n",
      "sys.version_info(major=3, minor=6, micro=10, releaselevel='final', serial=0)\n",
      "matplotlib 3.1.3\n",
      "numpy 1.18.1\n",
      "sklearn 0.22.1\n",
      "tensorflow 2.1.0\n",
      "keras 2.3.1\n"
     ]
    }
   ],
   "source": [
    "import matplotlib as mpl\n",
    "import matplotlib.pyplot as plt\n",
    "%matplotlib inline\n",
    "import numpy as np\n",
    "import sklearn\n",
    "import pandas as pd\n",
    "import os\n",
    "import sys\n",
    "import time\n",
    "import tensorflow as tf\n",
    "import keras\n",
    "\n",
    "print(tf.__version__)\n",
    "print(sys.version_info)\n",
    "for module in mpl,np,sklearn,tf,keras:\n",
    "    print(module.__name__,module.__version__)"
   ]
  },
  {
   "cell_type": "code",
   "execution_count": 2,
   "metadata": {},
   "outputs": [
    {
     "name": "stdout",
     "output_type": "stream",
     "text": [
      "True\n",
      "True\n",
      "True\n"
     ]
    }
   ],
   "source": [
    "train_dir = os.path.join(\"plantseeding/train\" )\n",
    "test_dir = os.path.join(\"plantseeding/test\" )\n",
    "label_file = os.path.join(\"plantseeding/sample_submission.csv\" )\n",
    "print(os.path.exists(train_dir))\n",
    "print(os.path.exists(test_dir))\n",
    "print(os.path.exists(label_file))"
   ]
  },
  {
   "cell_type": "code",
   "execution_count": 3,
   "metadata": {},
   "outputs": [
    {
     "name": "stdout",
     "output_type": "stream",
     "text": [
      "              file     species\n",
      "0    0021e90e4.png  Sugar beet\n",
      "1    003d61042.png  Sugar beet\n",
      "2    007b3da8b.png  Sugar beet\n",
      "3    0086a6340.png  Sugar beet\n",
      "4    00c47e980.png  Sugar beet\n",
      "..             ...         ...\n",
      "789  fea355851.png  Sugar beet\n",
      "790  fea3da57c.png  Sugar beet\n",
      "791  fef2ade8c.png  Sugar beet\n",
      "792  ff65bc002.png  Sugar beet\n",
      "793  ffc6f8527.png  Sugar beet\n",
      "\n",
      "[794 rows x 2 columns]\n"
     ]
    }
   ],
   "source": [
    "label = pd.read_csv(label_file,header=0)\n",
    "print(label)"
   ]
  },
  {
   "cell_type": "code",
   "execution_count": 4,
   "metadata": {
    "scrolled": true
   },
   "outputs": [
    {
     "name": "stdout",
     "output_type": "stream",
     "text": [
      "Found 4750 images belonging to 12 classes.\n",
      "Found 4750 images belonging to 12 classes.\n",
      "4750 4750\n"
     ]
    }
   ],
   "source": [
    "height = 224\n",
    "width = 224\n",
    "channels = 3\n",
    "batch_size = 24\n",
    "num_classes = 12\n",
    "\n",
    "trian_datagen = keras.preprocessing.image.ImageDataGenerator(\n",
    "    preprocessing_function = keras.applications.resnet50.preprocess_input,\n",
    "    rotation_range = 40,\n",
    "    width_shift_range = 0.2,\n",
    "    height_shift_range = 0.2,\n",
    "    shear_range = 0.2,\n",
    "    zoom_range = 0.2,\n",
    "    horizontal_flip = True,\n",
    "    fill_mode = 'nearest')\n",
    "train_generator = trian_datagen.flow_from_directory(train_dir,\n",
    "                                                  target_size = (height,width),\n",
    "                                                  batch_size = batch_size,\n",
    "                                                  seed = 7,\n",
    "                                                  shuffle = True,\n",
    "                                                  class_mode = \"categorical\")\n",
    "test_datagen = keras.preprocessing.image.ImageDataGenerator(preprocessing_function = keras.applications.resnet50.preprocess_input)\n",
    "test_generator = test_datagen.flow_from_directory(train_dir,\n",
    "                                                  target_size = (height,width),\n",
    "                                                  batch_size = batch_size,\n",
    "                                                  seed = 7,\n",
    "                                                  shuffle = False,\n",
    "                                                  class_mode = \"categorical\")\n",
    "train_num = train_generator.samples\n",
    "test_num = test_generator.samples\n",
    "print(train_num,test_num)"
   ]
  },
  {
   "cell_type": "code",
   "execution_count": 5,
   "metadata": {},
   "outputs": [
    {
     "name": "stdout",
     "output_type": "stream",
     "text": [
      "(24, 224, 224, 3) (24, 12)\n",
      "[[0. 0. 0. 0. 0. 0. 0. 0. 1. 0. 0. 0.]\n",
      " [0. 0. 0. 1. 0. 0. 0. 0. 0. 0. 0. 0.]\n",
      " [0. 0. 0. 0. 0. 0. 0. 1. 0. 0. 0. 0.]\n",
      " [0. 0. 0. 0. 0. 1. 0. 0. 0. 0. 0. 0.]\n",
      " [0. 0. 1. 0. 0. 0. 0. 0. 0. 0. 0. 0.]\n",
      " [0. 1. 0. 0. 0. 0. 0. 0. 0. 0. 0. 0.]\n",
      " [0. 0. 0. 0. 0. 1. 0. 0. 0. 0. 0. 0.]\n",
      " [0. 0. 0. 0. 0. 0. 0. 0. 0. 1. 0. 0.]\n",
      " [0. 0. 0. 0. 0. 0. 1. 0. 0. 0. 0. 0.]\n",
      " [0. 0. 0. 0. 0. 0. 0. 0. 0. 0. 1. 0.]\n",
      " [1. 0. 0. 0. 0. 0. 0. 0. 0. 0. 0. 0.]\n",
      " [0. 0. 0. 0. 0. 0. 0. 0. 0. 0. 0. 1.]\n",
      " [0. 0. 0. 0. 0. 1. 0. 0. 0. 0. 0. 0.]\n",
      " [0. 0. 0. 0. 0. 1. 0. 0. 0. 0. 0. 0.]\n",
      " [0. 0. 0. 0. 0. 0. 1. 0. 0. 0. 0. 0.]\n",
      " [0. 0. 0. 0. 0. 0. 0. 0. 1. 0. 0. 0.]\n",
      " [0. 0. 1. 0. 0. 0. 0. 0. 0. 0. 0. 0.]\n",
      " [0. 0. 0. 0. 0. 0. 0. 0. 0. 0. 0. 1.]\n",
      " [0. 0. 0. 0. 0. 0. 0. 0. 0. 0. 0. 1.]\n",
      " [0. 0. 0. 0. 0. 1. 0. 0. 0. 0. 0. 0.]\n",
      " [0. 0. 1. 0. 0. 0. 0. 0. 0. 0. 0. 0.]\n",
      " [0. 0. 0. 0. 0. 0. 0. 0. 0. 0. 1. 0.]\n",
      " [0. 0. 0. 0. 0. 0. 0. 0. 0. 0. 1. 0.]\n",
      " [0. 0. 0. 0. 0. 0. 1. 0. 0. 0. 0. 0.]]\n",
      "(24, 224, 224, 3) (24, 12)\n",
      "[[1. 0. 0. 0. 0. 0. 0. 0. 0. 0. 0. 0.]\n",
      " [0. 0. 0. 0. 0. 0. 0. 0. 0. 0. 1. 0.]\n",
      " [0. 0. 0. 0. 0. 0. 1. 0. 0. 0. 0. 0.]\n",
      " [0. 0. 0. 0. 0. 0. 0. 0. 0. 0. 0. 1.]\n",
      " [0. 1. 0. 0. 0. 0. 0. 0. 0. 0. 0. 0.]\n",
      " [0. 0. 1. 0. 0. 0. 0. 0. 0. 0. 0. 0.]\n",
      " [0. 0. 0. 0. 0. 0. 0. 0. 0. 0. 1. 0.]\n",
      " [0. 0. 0. 0. 0. 0. 0. 0. 1. 0. 0. 0.]\n",
      " [0. 0. 1. 0. 0. 0. 0. 0. 0. 0. 0. 0.]\n",
      " [0. 0. 0. 0. 0. 0. 0. 1. 0. 0. 0. 0.]\n",
      " [0. 0. 0. 0. 0. 0. 0. 0. 0. 0. 0. 1.]\n",
      " [0. 0. 0. 0. 0. 0. 0. 0. 1. 0. 0. 0.]\n",
      " [0. 0. 0. 0. 0. 0. 0. 0. 1. 0. 0. 0.]\n",
      " [0. 0. 0. 0. 0. 1. 0. 0. 0. 0. 0. 0.]\n",
      " [0. 0. 0. 1. 0. 0. 0. 0. 0. 0. 0. 0.]\n",
      " [0. 1. 0. 0. 0. 0. 0. 0. 0. 0. 0. 0.]\n",
      " [0. 0. 0. 0. 0. 1. 0. 0. 0. 0. 0. 0.]\n",
      " [0. 0. 0. 0. 0. 1. 0. 0. 0. 0. 0. 0.]\n",
      " [0. 0. 1. 0. 0. 0. 0. 0. 0. 0. 0. 0.]\n",
      " [0. 0. 0. 0. 0. 1. 0. 0. 0. 0. 0. 0.]\n",
      " [0. 0. 0. 0. 0. 0. 1. 0. 0. 0. 0. 0.]\n",
      " [0. 0. 0. 1. 0. 0. 0. 0. 0. 0. 0. 0.]\n",
      " [1. 0. 0. 0. 0. 0. 0. 0. 0. 0. 0. 0.]\n",
      " [0. 0. 0. 0. 0. 0. 0. 0. 0. 1. 0. 0.]]\n"
     ]
    }
   ],
   "source": [
    "for i in range(2):\n",
    "    x,y = train_generator.next()\n",
    "    print(x.shape,y.shape)\n",
    "    print(y)"
   ]
  },
  {
   "cell_type": "code",
   "execution_count": 6,
   "metadata": {},
   "outputs": [
    {
     "name": "stdout",
     "output_type": "stream",
     "text": [
      "Model: \"sequential_1\"\n",
      "_________________________________________________________________\n",
      "Layer (type)                 Output Shape              Param #   \n",
      "=================================================================\n",
      "resnet50 (Model)             (None, 2048)              23587712  \n",
      "_________________________________________________________________\n",
      "dense_1 (Dense)              (None, 12)                24588     \n",
      "=================================================================\n",
      "Total params: 23,612,300\n",
      "Trainable params: 24,588\n",
      "Non-trainable params: 23,587,712\n",
      "_________________________________________________________________\n"
     ]
    }
   ],
   "source": [
    "resnet50_finetune = keras.models.Sequential()\n",
    "resnet50_finetune.add(keras.applications.ResNet50(include_top = False,\n",
    "                                                 pooling = 'avg',\n",
    "                                                 weights = 'imagenet'))\n",
    "resnet50_finetune.add(keras.layers.Dense(num_classes,activation = 'softmax'))\n",
    "resnet50_finetune.layers[0].trainable = False\n",
    "resnet50_finetune.compile(loss = \"categorical_crossentropy\",\n",
    "             optimizer = \"sgd\",\n",
    "             metrics = ['accuracy'])\n",
    "resnet50_finetune.summary()"
   ]
  },
  {
   "cell_type": "code",
   "execution_count": 7,
   "metadata": {
    "scrolled": true
   },
   "outputs": [
    {
     "name": "stdout",
     "output_type": "stream",
     "text": [
      "Epoch 1/10\n",
      "197/197 [==============================] - 1776s 9s/step - loss: 1.8047 - accuracy: 0.4187 - val_loss: 1.4206 - val_accuracy: 0.3219\n",
      "Epoch 2/10\n",
      "197/197 [==============================] - 1698s 9s/step - loss: 1.2327 - accuracy: 0.6327 - val_loss: 0.8947 - val_accuracy: 0.3341\n",
      "Epoch 3/10\n",
      "197/197 [==============================] - 1676s 9s/step - loss: 1.0375 - accuracy: 0.6932 - val_loss: 0.4619 - val_accuracy: 0.3692\n",
      "Epoch 4/10\n",
      "197/197 [==============================] - 1665s 8s/step - loss: 0.9263 - accuracy: 0.7198 - val_loss: 0.6911 - val_accuracy: 0.4137\n",
      "Epoch 5/10\n",
      "197/197 [==============================] - 1674s 8s/step - loss: 0.8405 - accuracy: 0.7459 - val_loss: 0.5903 - val_accuracy: 0.4018\n",
      "Epoch 6/10\n",
      "197/197 [==============================] - 1668s 8s/step - loss: 0.7947 - accuracy: 0.7573 - val_loss: 0.7497 - val_accuracy: 0.4520\n",
      "Epoch 7/10\n",
      "197/197 [==============================] - 1669s 8s/step - loss: 0.7506 - accuracy: 0.7799 - val_loss: 0.6622 - val_accuracy: 0.4414\n",
      "Epoch 8/10\n",
      "197/197 [==============================] - 1668s 8s/step - loss: 0.7061 - accuracy: 0.7782 - val_loss: 0.6473 - val_accuracy: 0.4287\n",
      "Epoch 9/10\n",
      "197/197 [==============================] - 1668s 8s/step - loss: 0.7000 - accuracy: 0.7861 - val_loss: 0.9263 - val_accuracy: 0.4672\n",
      "Epoch 10/10\n",
      "197/197 [==============================] - 1669s 8s/step - loss: 0.6465 - accuracy: 0.8051 - val_loss: 0.2467 - val_accuracy: 0.4769\n"
     ]
    }
   ],
   "source": [
    "epochs = 10\n",
    "logdir = os.path.join(\"ResNet_50epchos_result\" )\n",
    "if not os.path.exists(logdir):\n",
    "    os.mkdir(logdir)\n",
    "output_model_file = os.path.join(logdir,\n",
    "                                 \"ResNet_model.h5\")\n",
    "callbacks = [\n",
    "    keras.callbacks.TensorBoard(logdir),\n",
    "    keras.callbacks.ModelCheckpoint(output_model_file,\n",
    "                                   save_best_only = True)\n",
    "]\n",
    "history = resnet50_finetune.fit_generator(train_generator,\n",
    "                                          steps_per_epoch = train_num//batch_size,\n",
    "                                          epochs = epochs,\n",
    "                                          validation_data = test_generator,\n",
    "                                          validation_steps = test_num//batch_size\n",
    "                                          )"
   ]
  },
  {
   "cell_type": "code",
   "execution_count": 26,
   "metadata": {},
   "outputs": [
    {
     "data": {
      "image/png": "[encoded data removed]",
      "text/plain": [
       "<Figure size 576x360 with 1 Axes>"
      ]
     },
     "metadata": {
      "needs_background": "light"
     },
     "output_type": "display_data"
    }
   ],
   "source": [
    "history_dict = history.history\n",
    "history_dict.keys()\n",
    "def plot_learning_curves(history):\n",
    "    pd.DataFrame(history.history).plot(figsize=(8,5))\n",
    "    plt.grid(True)\n",
    "    plt.gca().set_ylim(0,2)\n",
    "    plt.show()\n",
    "    \n",
    "plot_learning_curves(history)"
   ]
  },
  {
   "cell_type": "code",
   "execution_count": null,
   "metadata": {},
   "outputs": [],
   "source": []
  }
 ],
 "metadata": {
  "kernelspec": {
   "display_name": "Python 3",
   "language": "python",
   "name": "python3"
  },
  "language_info": {
   "codemirror_mode": {
    "name": "ipython",
    "version": 3
   },
   "file_extension": ".py",
   "mimetype": "text/x-python",
   "name": "python",
   "nbconvert_exporter": "python",
   "pygments_lexer": "ipython3",
   "version": "3.6.10"
  }
 },
 "nbformat": 4,
 "nbformat_minor": 4
}
