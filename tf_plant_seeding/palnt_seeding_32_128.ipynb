{
 "cells": [
  {
   "cell_type": "code",
   "execution_count": 2,
   "metadata": {},
   "outputs": [
    {
     "name": "stderr",
     "output_type": "stream",
     "text": [
      "Using TensorFlow backend.\n"
     ]
    },
    {
     "name": "stdout",
     "output_type": "stream",
     "text": [
      "2.1.0\n",
      "sys.version_info(major=3, minor=6, micro=10, releaselevel='final', serial=0)\n",
      "matplotlib 3.1.3\n",
      "numpy 1.18.1\n",
      "sklearn 0.22.1\n",
      "tensorflow 2.1.0\n",
      "keras 2.3.1\n"
     ]
    }
   ],
   "source": [
    "import matplotlib as mpl\n",
    "import matplotlib.pyplot as plt\n",
    "%matplotlib inline\n",
    "import numpy as np\n",
    "import sklearn\n",
    "import pandas as pd\n",
    "import os\n",
    "import sys\n",
    "import time\n",
    "import tensorflow as tf\n",
    "import keras\n",
    "\n",
    "print(tf.__version__)\n",
    "print(sys.version_info)\n",
    "for module in mpl,np,sklearn,tf,keras:\n",
    "    print(module.__name__,module.__version__)"
   ]
  },
  {
   "cell_type": "code",
   "execution_count": 3,
   "metadata": {},
   "outputs": [
    {
     "name": "stdout",
     "output_type": "stream",
     "text": [
      "True\n",
      "True\n",
      "True\n"
     ]
    }
   ],
   "source": [
    "train_dir = os.path.join(\"plantseeding/train\" )\n",
    "test_dir = os.path.join(\"plantseeding/test\" )\n",
    "label_file = os.path.join(\"plantseeding/sample_submission.csv\" )\n",
    "print(os.path.exists(train_dir))\n",
    "print(os.path.exists(test_dir))\n",
    "print(os.path.exists(label_file))"
   ]
  },
  {
   "cell_type": "code",
   "execution_count": 4,
   "metadata": {
    "scrolled": true
   },
   "outputs": [
    {
     "name": "stdout",
     "output_type": "stream",
     "text": [
      "Found 4750 images belonging to 12 classes.\n",
      "Found 4750 images belonging to 12 classes.\n",
      "4750 4750\n"
     ]
    }
   ],
   "source": [
    "height = 128\n",
    "width = 128\n",
    "channels = 3\n",
    "batch_size = 64\n",
    "num_classes = 12\n",
    "\n",
    "trian_datagen = keras.preprocessing.image.ImageDataGenerator(rescale = 1./255,\n",
    "                                                        rotation_range = 40,\n",
    "                                                        width_shift_range = 0.2,\n",
    "                                                        height_shift_range = 0.2,\n",
    "                                                        shear_range = 0.2,\n",
    "                                                        zoom_range = 0.2,\n",
    "                                                        horizontal_flip = True,\n",
    "                                                        fill_mode = 'nearest')\n",
    "train_generator = trian_datagen.flow_from_directory(train_dir,\n",
    "                                                  target_size = (height,width),\n",
    "                                                  batch_size = batch_size,\n",
    "                                                  seed = 7,\n",
    "                                                  shuffle = True,\n",
    "                                                  class_mode = \"categorical\")\n",
    "test_datagen = keras.preprocessing.image.ImageDataGenerator(rescale = 1./255)\n",
    "test_generator = test_datagen.flow_from_directory(train_dir,\n",
    "                                                  target_size = (height,width),\n",
    "                                                  batch_size = batch_size,\n",
    "                                                  seed = 7,\n",
    "                                                  shuffle = False,\n",
    "                                                  class_mode = \"categorical\")\n",
    "train_num = train_generator.samples\n",
    "test_num = test_generator.samples\n",
    "print(train_num,test_num)"
   ]
  },
  {
   "cell_type": "code",
   "execution_count": 6,
   "metadata": {},
   "outputs": [
    {
     "name": "stdout",
     "output_type": "stream",
     "text": [
      "Model: \"sequential_1\"\n",
      "_________________________________________________________________\n",
      "Layer (type)                 Output Shape              Param #   \n",
      "=================================================================\n",
      "conv2d_1 (Conv2D)            (None, 128, 128, 32)      896       \n",
      "_________________________________________________________________\n",
      "conv2d_2 (Conv2D)            (None, 128, 128, 32)      9248      \n",
      "_________________________________________________________________\n",
      "max_pooling2d_1 (MaxPooling2 (None, 64, 64, 32)        0         \n",
      "_________________________________________________________________\n",
      "conv2d_3 (Conv2D)            (None, 64, 64, 64)        18496     \n",
      "_________________________________________________________________\n",
      "conv2d_4 (Conv2D)            (None, 64, 64, 64)        36928     \n",
      "_________________________________________________________________\n",
      "max_pooling2d_2 (MaxPooling2 (None, 32, 32, 64)        0         \n",
      "_________________________________________________________________\n",
      "conv2d_5 (Conv2D)            (None, 32, 32, 128)       73856     \n",
      "_________________________________________________________________\n",
      "conv2d_6 (Conv2D)            (None, 32, 32, 128)       147584    \n",
      "_________________________________________________________________\n",
      "max_pooling2d_3 (MaxPooling2 (None, 16, 16, 128)       0         \n",
      "_________________________________________________________________\n",
      "flatten_1 (Flatten)          (None, 32768)             0         \n",
      "_________________________________________________________________\n",
      "dense_1 (Dense)              (None, 128)               4194432   \n",
      "_________________________________________________________________\n",
      "dense_2 (Dense)              (None, 12)                1548      \n",
      "=================================================================\n",
      "Total params: 4,482,988\n",
      "Trainable params: 4,482,988\n",
      "Non-trainable params: 0\n",
      "_________________________________________________________________\n"
     ]
    }
   ],
   "source": [
    "model = keras.models.Sequential([\n",
    "    keras.layers.Conv2D(filters = 32,kernel_size = 3,padding = 'same',\n",
    "                       activation = 'relu',input_shape = [width,height,channels]),\n",
    "    keras.layers.Conv2D(filters = 32,kernel_size = 3,padding = 'same',\n",
    "                       activation = 'relu'),\n",
    "    keras.layers.MaxPool2D(pool_size = 2),\n",
    "    \n",
    "    keras.layers.Conv2D(filters = 64,kernel_size = 3,padding = 'same',\n",
    "                       activation = 'relu'),\n",
    "    keras.layers.Conv2D(filters = 64,kernel_size = 3,padding = 'same',\n",
    "                       activation = 'relu'),\n",
    "    keras.layers.MaxPool2D(pool_size = 2),\n",
    "    \n",
    "    keras.layers.Conv2D(filters = 128,kernel_size = 3,padding = 'same',\n",
    "                       activation = 'relu'),\n",
    "    keras.layers.Conv2D(filters = 128,kernel_size = 3,padding = 'same',\n",
    "                       activation = 'relu'),\n",
    "    keras.layers.MaxPool2D(pool_size = 2),\n",
    "    \n",
    "    keras.layers.Flatten(),\n",
    "    keras.layers.Dense(128,activation = 'selu'),\n",
    "    keras.layers.Dense(num_classes,activation = 'softmax'),\n",
    "])\n",
    "model.compile(loss = \"categorical_crossentropy\",\n",
    "             optimizer = \"adam\",\n",
    "             metrics = ['accuracy'])\n",
    "model.summary()"
   ]
  },
  {
   "cell_type": "code",
   "execution_count": 7,
   "metadata": {},
   "outputs": [
    {
     "name": "stdout",
     "output_type": "stream",
     "text": [
      "Epoch 1/50\n",
      "74/74 [==============================] - 365s 5s/step - loss: 2.4882 - accuracy: 0.1302 - val_loss: 2.5810 - val_accuracy: 0.1381\n",
      "Epoch 2/50\n",
      "74/74 [==============================] - 259s 3s/step - loss: 2.4200 - accuracy: 0.1285 - val_loss: 2.5003 - val_accuracy: 0.1564\n",
      "Epoch 3/50\n",
      "74/74 [==============================] - 290s 4s/step - loss: 2.3738 - accuracy: 0.1656 - val_loss: 3.2498 - val_accuracy: 0.2900\n",
      "Epoch 4/50\n",
      "74/74 [==============================] - 277s 4s/step - loss: 1.7977 - accuracy: 0.3762 - val_loss: 1.2369 - val_accuracy: 0.5166\n",
      "Epoch 5/50\n",
      "74/74 [==============================] - 254s 3s/step - loss: 1.5986 - accuracy: 0.4464 - val_loss: 1.1039 - val_accuracy: 0.5668\n",
      "Epoch 6/50\n",
      "74/74 [==============================] - 248s 3s/step - loss: 1.4092 - accuracy: 0.5143 - val_loss: 1.3329 - val_accuracy: 0.6204\n",
      "Epoch 7/50\n",
      "74/74 [==============================] - 262s 4s/step - loss: 1.2822 - accuracy: 0.5523 - val_loss: 0.5150 - val_accuracy: 0.6274\n",
      "Epoch 8/50\n",
      "74/74 [==============================] - 260s 4s/step - loss: 1.1687 - accuracy: 0.6026 - val_loss: 0.7511 - val_accuracy: 0.6660\n",
      "Epoch 9/50\n",
      "74/74 [==============================] - 259s 3s/step - loss: 1.1055 - accuracy: 0.6263 - val_loss: 0.5965 - val_accuracy: 0.6485\n",
      "Epoch 10/50\n",
      "74/74 [==============================] - 263s 4s/step - loss: 1.0274 - accuracy: 0.6579 - val_loss: 0.7835 - val_accuracy: 0.6626\n",
      "Epoch 11/50\n",
      "74/74 [==============================] - 259s 3s/step - loss: 0.9891 - accuracy: 0.6719 - val_loss: 0.6068 - val_accuracy: 0.7416\n",
      "Epoch 12/50\n",
      "74/74 [==============================] - 258s 3s/step - loss: 0.9132 - accuracy: 0.7012 - val_loss: 0.3451 - val_accuracy: 0.7305\n",
      "Epoch 13/50\n",
      "74/74 [==============================] - 259s 3s/step - loss: 0.8930 - accuracy: 0.7089 - val_loss: 0.4813 - val_accuracy: 0.7998\n",
      "Epoch 14/50\n",
      "74/74 [==============================] - 258s 3s/step - loss: 0.8419 - accuracy: 0.7185 - val_loss: 0.5312 - val_accuracy: 0.7437\n",
      "Epoch 15/50\n",
      "74/74 [==============================] - 260s 4s/step - loss: 0.7732 - accuracy: 0.7369 - val_loss: 1.2056 - val_accuracy: 0.6867\n",
      "Epoch 16/50\n",
      "74/74 [==============================] - 253s 3s/step - loss: 0.7406 - accuracy: 0.7457 - val_loss: 1.4124 - val_accuracy: 0.8054\n",
      "Epoch 17/50\n",
      "74/74 [==============================] - 246s 3s/step - loss: 0.6504 - accuracy: 0.7761 - val_loss: 0.4681 - val_accuracy: 0.8109\n",
      "Epoch 18/50\n",
      "74/74 [==============================] - 251s 3s/step - loss: 0.5853 - accuracy: 0.8050 - val_loss: 0.3937 - val_accuracy: 0.8508\n",
      "Epoch 19/50\n",
      "74/74 [==============================] - 246s 3s/step - loss: 0.5356 - accuracy: 0.8171 - val_loss: 0.4218 - val_accuracy: 0.8453\n",
      "Epoch 20/50\n",
      "74/74 [==============================] - 245s 3s/step - loss: 0.5548 - accuracy: 0.8058 - val_loss: 0.5654 - val_accuracy: 0.8461\n",
      "Epoch 21/50\n",
      "74/74 [==============================] - 246s 3s/step - loss: 0.4940 - accuracy: 0.8323 - val_loss: 0.4088 - val_accuracy: 0.8606\n",
      "Epoch 22/50\n",
      "74/74 [==============================] - 246s 3s/step - loss: 0.4656 - accuracy: 0.8346 - val_loss: 0.5291 - val_accuracy: 0.8626\n",
      "Epoch 23/50\n",
      "74/74 [==============================] - 245s 3s/step - loss: 0.4631 - accuracy: 0.8397 - val_loss: 0.1687 - val_accuracy: 0.8585\n",
      "Epoch 24/50\n",
      "74/74 [==============================] - 245s 3s/step - loss: 0.4948 - accuracy: 0.8291 - val_loss: 0.5672 - val_accuracy: 0.8739\n",
      "Epoch 25/50\n",
      "74/74 [==============================] - 247s 3s/step - loss: 0.4136 - accuracy: 0.8535 - val_loss: 0.2802 - val_accuracy: 0.8685\n",
      "Epoch 26/50\n",
      "74/74 [==============================] - 244s 3s/step - loss: 0.4016 - accuracy: 0.8561 - val_loss: 0.0375 - val_accuracy: 0.8920\n",
      "Epoch 27/50\n",
      "74/74 [==============================] - 248s 3s/step - loss: 0.3946 - accuracy: 0.8642 - val_loss: 0.1529 - val_accuracy: 0.8730\n",
      "Epoch 28/50\n",
      "74/74 [==============================] - 243s 3s/step - loss: 0.3954 - accuracy: 0.8561 - val_loss: 0.2113 - val_accuracy: 0.8726\n",
      "Epoch 29/50\n",
      "74/74 [==============================] - 245s 3s/step - loss: 0.3696 - accuracy: 0.8621 - val_loss: 0.4261 - val_accuracy: 0.9057\n",
      "Epoch 30/50\n",
      "74/74 [==============================] - 245s 3s/step - loss: 0.3840 - accuracy: 0.8671 - val_loss: 1.0417 - val_accuracy: 0.7977\n",
      "Epoch 31/50\n",
      "74/74 [==============================] - 251s 3s/step - loss: 0.3728 - accuracy: 0.8658 - val_loss: 0.2872 - val_accuracy: 0.9016\n",
      "Epoch 32/50\n",
      "74/74 [==============================] - 248s 3s/step - loss: 0.3220 - accuracy: 0.8745 - val_loss: 0.2748 - val_accuracy: 0.8769\n",
      "Epoch 33/50\n",
      "74/74 [==============================] - 254s 3s/step - loss: 0.3068 - accuracy: 0.8888 - val_loss: 0.4553 - val_accuracy: 0.9055\n",
      "Epoch 34/50\n",
      "74/74 [==============================] - 247s 3s/step - loss: 0.3195 - accuracy: 0.8881 - val_loss: 0.4225 - val_accuracy: 0.9065\n",
      "Epoch 35/50\n",
      "74/74 [==============================] - 243s 3s/step - loss: 0.3004 - accuracy: 0.8917 - val_loss: 0.1982 - val_accuracy: 0.9178\n",
      "Epoch 36/50\n",
      "74/74 [==============================] - 253s 3s/step - loss: 0.2946 - accuracy: 0.8948 - val_loss: 0.2353 - val_accuracy: 0.9070\n",
      "Epoch 37/50\n",
      "74/74 [==============================] - 252s 3s/step - loss: 0.2862 - accuracy: 0.8988 - val_loss: 0.6386 - val_accuracy: 0.9119\n",
      "Epoch 38/50\n",
      "74/74 [==============================] - 246s 3s/step - loss: 0.2889 - accuracy: 0.8934 - val_loss: 0.2218 - val_accuracy: 0.9309\n",
      "Epoch 39/50\n",
      "74/74 [==============================] - 240s 3s/step - loss: 0.2733 - accuracy: 0.8986 - val_loss: 0.3717 - val_accuracy: 0.9093\n",
      "Epoch 40/50\n",
      "74/74 [==============================] - 244s 3s/step - loss: 0.2781 - accuracy: 0.8976 - val_loss: 0.1816 - val_accuracy: 0.8664\n",
      "Epoch 41/50\n",
      "74/74 [==============================] - 252s 3s/step - loss: 0.2822 - accuracy: 0.9006 - val_loss: 0.6859 - val_accuracy: 0.9095\n",
      "Epoch 42/50\n",
      "74/74 [==============================] - 253s 3s/step - loss: 0.2875 - accuracy: 0.8967 - val_loss: 0.0679 - val_accuracy: 0.9375\n",
      "Epoch 43/50\n",
      "74/74 [==============================] - 251s 3s/step - loss: 0.2509 - accuracy: 0.9091 - val_loss: 0.1738 - val_accuracy: 0.9031\n",
      "Epoch 44/50\n",
      "74/74 [==============================] - 245s 3s/step - loss: 0.2276 - accuracy: 0.9110 - val_loss: 0.0560 - val_accuracy: 0.9300\n",
      "Epoch 45/50\n",
      "74/74 [==============================] - 245s 3s/step - loss: 0.2674 - accuracy: 0.9001 - val_loss: 0.1682 - val_accuracy: 0.9240\n",
      "Epoch 46/50\n",
      "74/74 [==============================] - 246s 3s/step - loss: 0.2491 - accuracy: 0.9085 - val_loss: 0.0395 - val_accuracy: 0.9315\n",
      "Epoch 47/50\n",
      "74/74 [==============================] - 246s 3s/step - loss: 0.2330 - accuracy: 0.9145 - val_loss: 0.1199 - val_accuracy: 0.9466\n",
      "Epoch 48/50\n",
      "74/74 [==============================] - 242s 3s/step - loss: 0.2221 - accuracy: 0.9174 - val_loss: 0.2034 - val_accuracy: 0.9294\n",
      "Epoch 49/50\n",
      "74/74 [==============================] - 244s 3s/step - loss: 0.2564 - accuracy: 0.9091 - val_loss: 0.0744 - val_accuracy: 0.8946\n",
      "Epoch 50/50\n",
      "74/74 [==============================] - 245s 3s/step - loss: 0.2367 - accuracy: 0.9161 - val_loss: 0.0310 - val_accuracy: 0.9364\n"
     ]
    }
   ],
   "source": [
    "epochs = 50\n",
    "logdir = os.path.join(\"50epchos_result\" )\n",
    "if not os.path.exists(logdir):\n",
    "    os.mkdir(logdir)\n",
    "output_model_file = os.path.join(logdir,\n",
    "                                 \"model.h5\")\n",
    "callbacks = [\n",
    "    keras.callbacks.TensorBoard(logdir),\n",
    "    keras.callbacks.ModelCheckpoint(output_model_file,\n",
    "                                   save_best_only = True)\n",
    "]\n",
    "history = model.fit_generator(train_generator,\n",
    "                             steps_per_epoch = train_num//batch_size,\n",
    "                             epochs = epochs,\n",
    "                              validation_data = test_generator,\n",
    "                              validation_steps = test_num//batch_size，\n",
    "                              callbacks = callbacks\n",
    "                             )"
   ]
  },
  {
   "cell_type": "code",
   "execution_count": 8,
   "metadata": {},
   "outputs": [
    {
     "data": {
      "image/png": "[encoded data removed]",
      "text/plain": [
       "<Figure size 576x360 with 1 Axes>"
      ]
     },
     "metadata": {
      "needs_background": "light"
     },
     "output_type": "display_data"
    }
   ],
   "source": [
    "def plot_learning_curves(history):\n",
    "    pd.DataFrame(history.history).plot(figsize=(8,5))\n",
    "    plt.grid(True)\n",
    "    plt.gca().set_ylim(0,3)\n",
    "    plt.show()\n",
    "    \n",
    "plot_learning_curves(history)"
   ]
  },
  {
   "cell_type": "code",
   "execution_count": null,
   "metadata": {},
   "outputs": [],
   "source": []
  }
 ],
 "metadata": {
  "kernelspec": {
   "display_name": "Python 3",
   "language": "python",
   "name": "python3"
  },
  "language_info": {
   "codemirror_mode": {
    "name": "ipython",
    "version": 3
   },
   "file_extension": ".py",
   "mimetype": "text/x-python",
   "name": "python",
   "nbconvert_exporter": "python",
   "pygments_lexer": "ipython3",
   "version": "3.6.10"
  }
 },
 "nbformat": 4,
 "nbformat_minor": 4
}
